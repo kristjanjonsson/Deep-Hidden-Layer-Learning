{
 "cells": [
  {
   "cell_type": "code",
   "execution_count": 1,
   "metadata": {
    "collapsed": false
   },
   "outputs": [],
   "source": [
    "%matplotlib inline\n",
    "%load_ext autoreload\n",
    "%autoreload 2"
   ]
  },
  {
   "cell_type": "code",
   "execution_count": 2,
   "metadata": {
    "collapsed": false
   },
   "outputs": [
    {
     "name": "stderr",
     "output_type": "stream",
     "text": [
      "/Users/kristjanjonsson/Development/Notebooks/venv/lib/python3.5/site-packages/IPython/html.py:14: ShimWarning: The `IPython.html` package has been deprecated. You should import from `notebook` instead. `IPython.html.widgets` has moved to `ipywidgets`.\n",
      "  \"`IPython.html.widgets` has moved to `ipywidgets`.\", ShimWarning)\n"
     ]
    }
   ],
   "source": [
    "import gzip\n",
    "\n",
    "import numpy as np\n",
    "import scipy as scp\n",
    "import matplotlib.pyplot as plt\n",
    "import seaborn as sns\n",
    "import sklearn\n",
    "from sklearn.cross_validation import train_test_split\n",
    "\n",
    "from utils import effectiveDimension, factorize, gram, hiddenTargets"
   ]
  },
  {
   "cell_type": "markdown",
   "metadata": {},
   "source": [
    "## MNIST dataset"
   ]
  },
  {
   "cell_type": "code",
   "execution_count": 61,
   "metadata": {
    "collapsed": true
   },
   "outputs": [],
   "source": [
    "def parse_img(filename):\n",
    "    '''Parses mnist images in filename.'''\n",
    "    f = gzip.open(filename)\n",
    "    arr = np.frombuffer(f.read(), dtype=np.dtype('>u1'), offset=16)\n",
    "    f.close()\n",
    "    return arr.reshape((-1, 28*28))\n",
    "\n",
    "def parse_label(filename):\n",
    "    '''Parses mnist labels in filename.'''\n",
    "    f = gzip.open(filename)\n",
    "    arr = np.frombuffer(f.read(), dtype=np.dtype('>u1'), offset=8)\n",
    "    f.close()\n",
    "    return arr\n",
    "\n",
    "def parseNoisyExamples(filename):\n",
    "    with open(filename) as f:\n",
    "        arr = np.loadtxt(filename, dtype=np.float32)\n",
    "        imgs = arr[:,:28*28]\n",
    "        labels = arr[:,28*28]\n",
    "        labels = labels.astype(np.int)\n",
    "    return (imgs, labels)"
   ]
  },
  {
   "cell_type": "code",
   "execution_count": 4,
   "metadata": {
    "collapsed": false
   },
   "outputs": [
    {
     "name": "stdout",
     "output_type": "stream",
     "text": [
      "(50000, 784) float32\n",
      "(50000,) int64\n"
     ]
    }
   ],
   "source": [
    "(X_data, y_data) = parseNoisyExamples('mnist data/mnist_background_images_test.amat')\n",
    "print(X_data.shape, X_data.dtype)\n",
    "print(y_data.shape, y_data.dtype)"
   ]
  },
  {
   "cell_type": "code",
   "execution_count": 62,
   "metadata": {
    "collapsed": false
   },
   "outputs": [
    {
     "name": "stdout",
     "output_type": "stream",
     "text": [
      "(60000, 784) uint8\n",
      "(60000,) uint8\n"
     ]
    }
   ],
   "source": [
    "X_data = parse_img('mnist data/train-images-idx3-ubyte.gz')\n",
    "y_data = parse_label('mnist data/train-labels-idx1-ubyte.gz')\n",
    "print(X_data.shape, X_data.dtype)\n",
    "print(y_data.shape, y_data.dtype)"
   ]
  },
  {
   "cell_type": "code",
   "execution_count": 63,
   "metadata": {
    "collapsed": false
   },
   "outputs": [
    {
     "name": "stdout",
     "output_type": "stream",
     "text": [
      "Label = 7\n"
     ]
    },
    {
     "data": {
      "image/png": "[encoded data removed]",
      "text/plain": [
       "<matplotlib.figure.Figure at 0x14a118080>"
      ]
     },
     "metadata": {},
     "output_type": "display_data"
    }
   ],
   "source": [
    "def plot_img(x):\n",
    "    plt.figure(figsize=(3, 3))\n",
    "    plt.imshow(x.reshape((28, 28)), cmap=plt.cm.gray_r)\n",
    "    plt.grid(False)\n",
    "    plt.tick_params(labelbottom=False, labelleft=False)\n",
    "\n",
    "idx = np.random.randint(0, len(X_data))\n",
    "plot_img(X_data[idx])\n",
    "print('Label = ' + str(y_data[idx]))"
   ]
  },
  {
   "cell_type": "code",
   "execution_count": 64,
   "metadata": {
    "collapsed": false
   },
   "outputs": [
    {
     "name": "stdout",
     "output_type": "stream",
     "text": [
      "(6131, 784)\n",
      "(5851, 784)\n",
      "\n",
      "(11982, 784)\n",
      "(11982,)\n",
      "\n"
     ]
    }
   ],
   "source": [
    "# We'll use the 3s and 8s.\n",
    "X3 = X_data[y_data == 3]\n",
    "X8 = X_data[y_data == 8]\n",
    "print(X3.shape)\n",
    "print(X8.shape)\n",
    "print()\n",
    "\n",
    "X = np.vstack([X3, X8])\n",
    "y = np.concatenate([[-1] * len(X3), [1] * len(X8)])\n",
    "print(X.shape)\n",
    "print(y.shape)\n",
    "print()"
   ]
  },
  {
   "cell_type": "code",
   "execution_count": 65,
   "metadata": {
    "collapsed": false
   },
   "outputs": [],
   "source": [
    "def preprocessX(X):\n",
    "    m = np.mean(X, axis=0)\n",
    "    X = X - m\n",
    "    norms = np.linalg.norm(X, axis=1)\n",
    "    mNorm = np.mean(norms)\n",
    "    X = X / mNorm\n",
    "    return X\n",
    "\n",
    "X = preprocessX(X.astype(float))\n",
    "y = y.astype(float)"
   ]
  },
  {
   "cell_type": "code",
   "execution_count": 27,
   "metadata": {
    "collapsed": false
   },
   "outputs": [
    {
     "name": "stdout",
     "output_type": "stream",
     "text": [
      "(6131, 784)\n",
      "(5851, 784)\n",
      "\n",
      "(11982, 784)\n",
      "(11982,)\n",
      "\n",
      "(11970, 784)\n",
      "(11970,)\n",
      "(12, 784)\n",
      "(12,)\n"
     ]
    }
   ],
   "source": [
    "X_train, X_test, y_train, y_test = train_test_split(X, y, train_size=0.999)\n",
    "print(X_train.shape)\n",
    "print(y_train.shape)\n",
    "print(X_test.shape)\n",
    "print(y_test.shape)"
   ]
  },
  {
   "cell_type": "code",
   "execution_count": 67,
   "metadata": {
    "collapsed": false
   },
   "outputs": [
    {
     "name": "stdout",
     "output_type": "stream",
     "text": [
      "Label of sample image is -1\n"
     ]
    },
    {
     "data": {
      "image/png": "[encoded data removed]",
      "text/plain": [
       "<matplotlib.figure.Figure at 0x107be6438>"
      ]
     },
     "metadata": {},
     "output_type": "display_data"
    }
   ],
   "source": [
    "# Sanity check.\n",
    "sampleImgIdx = np.random.randint(0, len(X_train))\n",
    "sampleImg = X_train[sampleImgIdx]\n",
    "sampleLabel = y_train[sampleImgIdx]\n",
    "print('Label of sample image is ' + str(sampleLabel))\n",
    "plot_img(sampleImg)"
   ]
  },
  {
   "cell_type": "markdown",
   "metadata": {},
   "source": [
    "## Next steps\n",
    "1. Plot eigenvalues as a function of i where i is the ith largest eigenvalue. Do for different $\\alpha \\in [0, 1]$\n",
    "1. Plot $d_{95}$ (effective dimension) as a function of $\\alpha$.\n",
    "1. Logistic (or SVM) error as a function of $\\alpha$. (note hidden targest are input an label targets). \n",
    "\n",
    "Question:\n",
    "Throw away eigenvalues below some threshold. Not the same as $d_{95}$"
   ]
  },
  {
   "cell_type": "markdown",
   "metadata": {},
   "source": [
    "## IO function\n",
    "To help with saving and loading experiments."
   ]
  },
  {
   "cell_type": "code",
   "execution_count": 66,
   "metadata": {
    "collapsed": false
   },
   "outputs": [],
   "source": [
    "from time import time\n",
    "import os\n",
    "from os.path import isdir, join\n",
    "from glob import fnmatch\n",
    "\n",
    "def filePrefix(alpha):\n",
    "    '''x is a float.'''\n",
    "    s = '{0:.12f}'.format(alpha)\n",
    "    prefix = s.replace('.', '_')\n",
    "    return 'alpha_' + prefix + '_'\n",
    "\n",
    "\n",
    "def createSaveDirectory():\n",
    "    '''Creates a unique directory in data/ based on timestamp.'''\n",
    "    directoryName = str(int(time()))\n",
    "    path = join('data', directoryName)\n",
    "    !mkdir $path\n",
    "    assert isdir(path), 'Directory does not exist\\n{0}'.format(path)\n",
    "    return path\n",
    "\n",
    "    \n",
    "def save(arr, alpha, path, which): \n",
    "    '''\n",
    "    arr: The numpy array to save.\n",
    "    alpha: The alpha associated with this calculation. See above definition.\n",
    "    path: the directory to store the data.\n",
    "    which: either \"eigvals\" or \"H\".\n",
    "    \n",
    "    returns an iterator of stored eigvals or H.\n",
    "    '''\n",
    "    fname = join(path, filePrefix(alpha) + which)\n",
    "    np.save(fname, arr)\n",
    "    print('Saved: ' + fname)\n",
    "  \n",
    "\n",
    "def load(path, which):\n",
    "    '''\n",
    "    path: the directory of the data.\n",
    "    which: either \"eigvals\" or \"H\".\n",
    "    \n",
    "    returns an iterator of stored eigvals or H.\n",
    "    '''\n",
    "    fnames = fnmatch.filter(os.listdir(path), '*{0}*'.format(which))\n",
    "    print('Loading: {0}, from {1}'.format(','.join(sorted(fnames)), path))\n",
    "    for fname in sorted(fnames):\n",
    "        fullPath = join(path, fname)\n",
    "        \n",
    "        yield np.load(fullPath)\n",
    "        \n"
   ]
  },
  {
   "cell_type": "code",
   "execution_count": 67,
   "metadata": {
    "collapsed": false
   },
   "outputs": [
    {
     "name": "stdout",
     "output_type": "stream",
     "text": [
      "Saving results in dir: data/1457076696\n",
      "Saved: data/1457076696/alpha_0_000000000010_H\n",
      "Saved: data/1457076696/alpha_0_000000000010_eigvals\n",
      "Saved: data/1457076696/alpha_0_000000000030_H\n",
      "Saved: data/1457076696/alpha_0_000000000030_eigvals\n",
      "Saved: data/1457076696/alpha_0_000000000100_H\n",
      "Saved: data/1457076696/alpha_0_000000000100_eigvals\n",
      "Saved: data/1457076696/alpha_0_000000000300_H\n",
      "Saved: data/1457076696/alpha_0_000000000300_eigvals\n",
      "Saved: data/1457076696/alpha_0_000000001000_H\n",
      "Saved: data/1457076696/alpha_0_000000001000_eigvals\n",
      "Saved: data/1457076696/alpha_0_000000003000_H\n",
      "Saved: data/1457076696/alpha_0_000000003000_eigvals\n"
     ]
    }
   ],
   "source": [
    "def computeHiddenTargets(alphas, X, y):\n",
    "    XG = gram(X)\n",
    "    YG = np.outer(y, y)\n",
    "\n",
    "    path = createSaveDirectory()\n",
    "    print('Saving results in dir: ' + path)\n",
    "    np.save(join(path, 'alphas'), alphas)\n",
    "    np.save(join(path, 'X'), X)\n",
    "    np.save(join(path, 'y'), y)\n",
    "    for alpha in alphas:\n",
    "        H, eigvals = hiddenTargets(XG, YG, alpha)\n",
    "        save(H, alpha, path, 'H')\n",
    "        save(eigvals, alpha, path, 'eigvals')\n",
    "\n",
    "alphas = np.array([1e-11, 3e-11, 1e-10, 3e-10, 1e-9, 3e-9])\n",
    "computeHiddenTargets(alphas, X, y)"
   ]
  },
  {
   "cell_type": "code",
   "execution_count": 83,
   "metadata": {
    "collapsed": true
   },
   "outputs": [],
   "source": [
    "experiment_number = 'mnist_1456811360'"
   ]
  },
  {
   "cell_type": "code",
   "execution_count": 86,
   "metadata": {
    "collapsed": false
   },
   "outputs": [
    {
     "name": "stdout",
     "output_type": "stream",
     "text": [
      "Loading: alpha_0_000000000010_eigvals.npy,alpha_0_000000000030_eigvals.npy,alpha_0_000000000100_eigvals.npy,alpha_0_000000000300_eigvals.npy,alpha_0_000000001000_eigvals.npy,alpha_0_000000003000_eigvals.npy,alpha_0_00000001_eigvals.npy,alpha_0_00000003_eigvals.npy,alpha_0_0000001_eigvals.npy,alpha_0_0000003_eigvals.npy,alpha_0_000001_eigvals.npy,alpha_0_000003_eigvals.npy,alpha_0_000010_eigvals.npy,alpha_0_000030_eigvals.npy,alpha_0_000100_eigvals.npy,alpha_0_000300_eigvals.npy,alpha_0_001000_eigvals.npy,alpha_0_003000_eigvals.npy,alpha_0_010000_eigvals.npy,alpha_0_030000_eigvals.npy, from data/mnist_1456811360/\n"
     ]
    },
    {
     "data": {
      "image/png": "[encoded data removed]",
      "text/plain": [
       "<matplotlib.figure.Figure at 0x148d35c88>"
      ]
     },
     "metadata": {},
     "output_type": "display_data"
    }
   ],
   "source": [
    "eigvals = load('data/{0}/'.format(experiment_number), which='eigvals')\n",
    "# alphas = np.arange(0, 1.05, 0.05)\n",
    "p95 = np.array([effectiveDimension(eigval, p=0.95) for eigval in eigvals])\n",
    "plt.plot(alphas, p95);\n"
   ]
  },
  {
   "cell_type": "code",
   "execution_count": 18,
   "metadata": {
    "collapsed": false
   },
   "outputs": [
    {
     "name": "stdout",
     "output_type": "stream",
     "text": [
      "Loading: alpha_0_0000000001_eigvals.npy,alpha_0_0000000003_eigvals.npy,alpha_0_0000000010_eigvals.npy,alpha_0_0000000030_eigvals.npy,alpha_0_0000000100_eigvals.npy,alpha_0_0000000300_eigvals.npy,alpha_0_0000001000_eigvals.npy,alpha_0_0000003000_eigvals.npy,alpha_0_0000010000_eigvals.npy,alpha_0_0000030000_eigvals.npy, from data/1456993244/\n"
     ]
    },
    {
     "data": {
      "image/png": "[encoded data removed]",
      "text/plain": [
       "<matplotlib.figure.Figure at 0x148a89518>"
      ]
     },
     "metadata": {},
     "output_type": "display_data"
    }
   ],
   "source": [
    "plt.hold(True)\n",
    "for eigvals in load('data/{0}/'.format(experiment_number), which='eigvals'):\n",
    "    plt.plot(eigvals[:30])\n",
    "    \n",
    "plt.hold(False)"
   ]
  },
  {
   "cell_type": "code",
   "execution_count": 51,
   "metadata": {
    "collapsed": false
   },
   "outputs": [
    {
     "name": "stdout",
     "output_type": "stream",
     "text": [
      "Loading: alpha_0_00000001_eigvals.npy,alpha_0_00000003_eigvals.npy,alpha_0_0000001_eigvals.npy,alpha_0_0000003_eigvals.npy,alpha_0_000001_eigvals.npy,alpha_0_000003_eigvals.npy, from data/1456811360/\n"
     ]
    },
    {
     "data": {
      "image/png": "[encoded data removed]",
      "text/plain": [
       "<matplotlib.figure.Figure at 0x1120a30f0>"
      ]
     },
     "metadata": {},
     "output_type": "display_data"
    }
   ],
   "source": [
    "plt.xlim(0, 10)\n",
    "plt.hold(True)\n",
    "for eigvals in load('data/{0}/'.format(experiment_number), which='eigvals'):\n",
    "    plt.plot(eigvals / eigvals.sum())\n",
    "plt.hold(False);"
   ]
  },
  {
   "cell_type": "code",
   "execution_count": 26,
   "metadata": {
    "collapsed": true
   },
   "outputs": [],
   "source": [
    "H, eigvals = hiddenTargets(gram(X), np.outer(y, y), 0)"
   ]
  },
  {
   "cell_type": "code",
   "execution_count": 27,
   "metadata": {
    "collapsed": false
   },
   "outputs": [
    {
     "data": {
      "text/plain": [
       "0.08984533984533985"
      ]
     },
     "execution_count": 27,
     "metadata": {},
     "output_type": "execute_result"
    }
   ],
   "source": [
    "# On alpha = 0\n",
    "model = LogisticRegression(C=1e6)\n",
    "model.fit(H, y)\n",
    "(model.predict(H) != y).mean()"
   ]
  },
  {
   "cell_type": "code",
   "execution_count": 25,
   "metadata": {
    "collapsed": false
   },
   "outputs": [
    {
     "data": {
      "text/plain": [
       "0.089743589743589744"
      ]
     },
     "execution_count": 25,
     "metadata": {},
     "output_type": "execute_result"
    }
   ],
   "source": [
    "# On raw training data\n",
    "model = LogisticRegression(C=1e6)\n",
    "model.fit(X, y)\n",
    "(model.predict(X) != y).mean()"
   ]
  },
  {
   "cell_type": "code",
   "execution_count": 87,
   "metadata": {
    "collapsed": false
   },
   "outputs": [
    {
     "name": "stdout",
     "output_type": "stream",
     "text": [
      "Loading: alpha_0_000000000010_H.npy,alpha_0_000000000030_H.npy,alpha_0_000000000100_H.npy,alpha_0_000000000300_H.npy,alpha_0_000000001000_H.npy,alpha_0_000000003000_H.npy,alpha_0_00000001_H.npy,alpha_0_00000003_H.npy,alpha_0_0000001_H.npy,alpha_0_0000003_H.npy,alpha_0_000001_H.npy,alpha_0_000003_H.npy,alpha_0_000010_H.npy,alpha_0_000030_H.npy,alpha_0_000100_H.npy,alpha_0_000300_H.npy,alpha_0_001000_H.npy,alpha_0_003000_H.npy,alpha_0_010000_H.npy,alpha_0_030000_H.npy, from data/mnist_1456811360/\n",
      "(11982, 613)\n",
      "(11982, 613)\n",
      "(11982, 613)\n",
      "(11982, 613)\n",
      "(11982, 613)\n",
      "(11982, 613)\n",
      "(11982, 613)\n",
      "(11982, 613)\n",
      "(11982, 613)\n",
      "(11982, 613)\n",
      "(11982, 613)\n",
      "(11982, 613)\n",
      "(11982, 613)\n",
      "(11982, 613)\n",
      "(11982, 613)\n",
      "(11982, 613)\n",
      "(11982, 613)\n",
      "(11982, 613)\n",
      "(11982, 613)\n",
      "(11982, 613)\n"
     ]
    }
   ],
   "source": [
    "from sklearn.linear_model import LogisticRegression\n",
    "\n",
    "error_train = []\n",
    "for H in load('data/{0}/'.format(experiment_number), which='H'):\n",
    "    print(H.shape)\n",
    "    model = LogisticRegression(C=1e6)\n",
    "    model.fit(H, y)\n",
    "    error_train.append((model.predict(H) != y).mean())"
   ]
  },
  {
   "cell_type": "markdown",
   "metadata": {},
   "source": [
    "Trained logistic regression on (H, y) for different $\\alpha$. The following are the error rates.\n",
    "![asdf](figures/error_alpha_mnist.png)\n",
    "\n",
    "On a harder training set where we have background images these are the error rates. Base error on raw training set (X, y) was 9%.\n",
    "![asdf](figures/error_alpha_background.png)\n"
   ]
  },
  {
   "cell_type": "code",
   "execution_count": 90,
   "metadata": {
    "collapsed": false
   },
   "outputs": [
    {
     "data": {
      "image/png": "[encoded data removed]",
      "text/plain": [
       "<matplotlib.figure.Figure at 0x149a7bba8>"
      ]
     },
     "metadata": {},
     "output_type": "display_data"
    }
   ],
   "source": [
    "plt.semilogx(alphas[:12], error_train[:12])\n",
    "plt.xlabel(r'$\\alpha$')\n",
    "plt.ylabel('Error rate')\n",
    "plt.title('MNIST, logistic regression error rate')\n",
    "plt.savefig('figures/error_alpha_mnist.png')"
   ]
  },
  {
   "cell_type": "markdown",
   "metadata": {},
   "source": [
    "Schedule Rob\n",
    "Mondays: Anytime\n",
    "Wednesdays: anytime. \n",
    "Thursdays: 12:30 - 1:45, 3:30 - 4:45\n",
    "Fridays: After surfing."
   ]
  },
  {
   "cell_type": "markdown",
   "metadata": {},
   "source": [
    "# First attempt at model.\n",
    "Each layer is affine - relu - affine\n",
    "\n",
    "Gradient check the layers."
   ]
  },
  {
   "cell_type": "code",
   "execution_count": 126,
   "metadata": {
    "collapsed": false
   },
   "outputs": [],
   "source": [
    "from models.nets import AffineReluAffineNet\n",
    "from models.gradient_check import eval_numerical_gradient, eval_numerical_gradient_array\n",
    "from models.solver import Solver\n",
    "\n",
    "def rel_error(x, y):\n",
    "  \"\"\" returns relative error \"\"\"\n",
    "  return np.max(np.abs(x - y) / (np.maximum(1e-8, np.abs(x) + np.abs(y))))"
   ]
  },
  {
   "cell_type": "code",
   "execution_count": 92,
   "metadata": {
    "collapsed": false
   },
   "outputs": [
    {
     "ename": "ImportError",
     "evalue": "No module named 'models.layer_utils'",
     "output_type": "error",
     "traceback": [
      "\u001b[0;31m---------------------------------------------------------------------------\u001b[0m",
      "\u001b[0;31mImportError\u001b[0m                               Traceback (most recent call last)",
      "\u001b[0;32m<ipython-input-92-37a2938c6a54>\u001b[0m in \u001b[0;36m<module>\u001b[0;34m()\u001b[0m\n\u001b[1;32m      1\u001b[0m \u001b[0;31m# This needs to be modified.\u001b[0m\u001b[0;34m\u001b[0m\u001b[0;34m\u001b[0m\u001b[0m\n\u001b[1;32m      2\u001b[0m \u001b[0;34m\u001b[0m\u001b[0m\n\u001b[0;32m----> 3\u001b[0;31m \u001b[0;32mfrom\u001b[0m \u001b[0mmodels\u001b[0m\u001b[0;34m.\u001b[0m\u001b[0mlayer_utils\u001b[0m \u001b[0;32mimport\u001b[0m \u001b[0maffine_relu_affine_forward\u001b[0m\u001b[0;34m,\u001b[0m \u001b[0maffine_relu_affine_backward\u001b[0m\u001b[0;34m\u001b[0m\u001b[0m\n\u001b[0m\u001b[1;32m      4\u001b[0m \u001b[0;34m\u001b[0m\u001b[0m\n\u001b[1;32m      5\u001b[0m \u001b[0mx\u001b[0m \u001b[0;34m=\u001b[0m \u001b[0mnp\u001b[0m\u001b[0;34m.\u001b[0m\u001b[0mrandom\u001b[0m\u001b[0;34m.\u001b[0m\u001b[0mrandn\u001b[0m\u001b[0;34m(\u001b[0m\u001b[0;36m2\u001b[0m\u001b[0;34m,\u001b[0m \u001b[0;36m3\u001b[0m\u001b[0;34m,\u001b[0m \u001b[0;36m4\u001b[0m\u001b[0;34m)\u001b[0m\u001b[0;34m\u001b[0m\u001b[0m\n",
      "\u001b[0;31mImportError\u001b[0m: No module named 'models.layer_utils'"
     ]
    }
   ],
   "source": [
    "# This needs to be modified.\n",
    "\n",
    "from models.layer_utils import affine_relu_affine_forward, affine_relu_affine_backward\n",
    "\n",
    "x = np.random.randn(2, 3, 4)\n",
    "w1 = np.random.randn(12, 10)\n",
    "w2 = np.random.randn(10, 10)\n",
    "b1 = np.random.randn(10)\n",
    "b2 = np.random.randn(10)\n",
    "dout = np.random.randn(2, 10)\n",
    "\n",
    "out, cache = affine_relu_affine_forward(x, w1, b1, w2, b2)\n",
    "dx, dw1, db1, dw2, db2 = affine_relu_affine_backward(dout, cache)\n",
    "\n",
    "fx = lambda x: affine_relu_affine_forward(x, w1, b1, w2, b2)[0]\n",
    "fw1 = lambda w1: affine_relu_affine_forward(x, w1, b1, w2, b2)[0]\n",
    "fb1 = lambda b1: affine_relu_affine_forward(x, w1, b1, w2, b2)[0]\n",
    "fw2 = lambda w2: affine_relu_affine_forward(x, w1, b1, w2, b2)[0]\n",
    "fb2 = lambda b2: affine_relu_affine_forward(x, w1, b1, w2, b2)[0]\n",
    "\n",
    "dx_num = eval_numerical_gradient_array(fx, x, dout)\n",
    "dw1_num = eval_numerical_gradient_array(fw1, w1, dout)\n",
    "db1_num = eval_numerical_gradient_array(fb1, b1, dout)\n",
    "dw2_num = eval_numerical_gradient_array(fw2, w2, dout)\n",
    "db2_num = eval_numerical_gradient_array(fb2, b2, dout)\n",
    "\n",
    "print ('Testing affine_relu_affine_forward:')\n",
    "print ('dx error: ', rel_error(dx_num, dx))\n",
    "print ('dw1 error: ', rel_error(dw1_num, dw1))\n",
    "print ('db1 error: ', rel_error(db1_num, db1))\n",
    "print ('dw2 error: ', rel_error(dw2_num, dw2))\n",
    "print ('db2 error: ', rel_error(db2_num, db2))"
   ]
  },
  {
   "cell_type": "code",
   "execution_count": 93,
   "metadata": {
    "collapsed": false
   },
   "outputs": [
    {
     "data": {
      "text/plain": [
       "0.071428571428571425"
      ]
     },
     "execution_count": 93,
     "metadata": {},
     "output_type": "execute_result"
    }
   ],
   "source": [
    "init_scale = 2 / np.sqrt(28*28)\n",
    "init_scale"
   ]
  },
  {
   "cell_type": "code",
   "execution_count": 94,
   "metadata": {
    "collapsed": false
   },
   "outputs": [
    {
     "name": "stdout",
     "output_type": "stream",
     "text": [
      "2.32091041667\n"
     ]
    }
   ],
   "source": [
    "model = AffineReluAffineNet(hidden_dims=[30, 30, 30], \n",
    "                          input_dim=28*28, \n",
    "                          num_classes=10, \n",
    "                          reg=0, \n",
    "                          weight_scale=init_scale)\n",
    "\n",
    "loss, grads = model.loss(X_data, y_data)\n",
    "print(loss)  # Should be around 2.3"
   ]
  },
  {
   "cell_type": "code",
   "execution_count": 137,
   "metadata": {
    "collapsed": false
   },
   "outputs": [
    {
     "name": "stdout",
     "output_type": "stream",
     "text": [
      "721.671577886\n"
     ]
    }
   ],
   "source": [
    "model = AffineReluAffineNet(hidden_dims=[30, 30, 30], \n",
    "                          input_dim=28*28, \n",
    "                          num_classes=10, \n",
    "                          reg=10, \n",
    "                          weight_scale=init_scale)\n",
    "\n",
    "\n",
    "loss, grads = model.loss(X_data, y_data)\n",
    "print(loss)  "
   ]
  },
  {
   "cell_type": "code",
   "execution_count": 140,
   "metadata": {
    "collapsed": false
   },
   "outputs": [
    {
     "name": "stdout",
     "output_type": "stream",
     "text": [
      "1217.11880437\n",
      "3265.48949562\n"
     ]
    }
   ],
   "source": [
    "submodel = model[0]\n",
    "\n",
    "X_r = np.random.rand(100, 28*28)\n",
    "y_r = 0.1 * np.random.randn(100, 30) - 10\n",
    "X_rval = np.random.rand(10, 28*28)\n",
    "y_rval = 0.1 * np.random.randn(10, 30) + 10\n",
    "l, gr = submodel.loss(X_r, y_r)\n",
    "print(l)\n",
    "l, gr = submodel.loss(X_rval, y_rval)\n",
    "print(l)\n",
    "data = {'X_train': X_r, 'y_train': y_r, 'X_val': X_rval, 'y_val': y_rval}"
   ]
  },
  {
   "cell_type": "code",
   "execution_count": null,
   "metadata": {
    "collapsed": false
   },
   "outputs": [
    {
     "name": "stdout",
     "output_type": "stream",
     "text": [
      "(Iteration 1 / 1000) loss: 1218.766400\n",
      "(Epoch 1 / 1000) train loss: 1159.933445; val_loss: 3390.851256\n",
      "(Epoch 2 / 1000) train loss: 1106.376679; val_loss: 3517.899100\n",
      "(Epoch 3 / 1000) train loss: 1056.500476; val_loss: 3645.975878\n",
      "(Epoch 4 / 1000) train loss: 1010.299417; val_loss: 3774.396125\n",
      "(Epoch 5 / 1000) train loss: 967.726936; val_loss: 3902.432315\n",
      "(Epoch 6 / 1000) train loss: 928.689824; val_loss: 4029.388154\n",
      "(Epoch 7 / 1000) train loss: 893.058712; val_loss: 4154.554071\n",
      "(Epoch 8 / 1000) train loss: 860.673801; val_loss: 4277.270521\n",
      "(Epoch 9 / 1000) train loss: 831.352022; val_loss: 4396.857926\n",
      "(Epoch 10 / 1000) train loss: 804.891401; val_loss: 4512.634139\n",
      "(Epoch 11 / 1000) train loss: 781.072247; val_loss: 4623.989731\n",
      "(Epoch 12 / 1000) train loss: 759.667432; val_loss: 4730.449406\n",
      "(Epoch 13 / 1000) train loss: 740.449569; val_loss: 4831.543815\n",
      "(Epoch 14 / 1000) train loss: 723.193783; val_loss: 4927.052261\n",
      "(Epoch 15 / 1000) train loss: 707.690360; val_loss: 5016.733520\n",
      "(Epoch 16 / 1000) train loss: 693.738173; val_loss: 5100.494436\n",
      "(Epoch 17 / 1000) train loss: 681.156375; val_loss: 5178.256821\n",
      "(Epoch 18 / 1000) train loss: 669.782775; val_loss: 5249.984887\n",
      "(Epoch 19 / 1000) train loss: 659.470572; val_loss: 5315.833145\n",
      "(Epoch 20 / 1000) train loss: 650.088780; val_loss: 5375.993177\n",
      "(Epoch 21 / 1000) train loss: 641.525426; val_loss: 5430.718296\n",
      "(Epoch 22 / 1000) train loss: 633.680414; val_loss: 5480.320772\n",
      "(Epoch 23 / 1000) train loss: 626.471888; val_loss: 5525.195717\n",
      "(Epoch 24 / 1000) train loss: 619.827970; val_loss: 5565.587332\n",
      "(Epoch 25 / 1000) train loss: 613.685729; val_loss: 5601.844789\n",
      "(Epoch 26 / 1000) train loss: 607.992185; val_loss: 5634.275234\n",
      "(Epoch 27 / 1000) train loss: 602.700044; val_loss: 5663.093836\n",
      "(Epoch 28 / 1000) train loss: 597.770876; val_loss: 5688.673641\n",
      "(Epoch 29 / 1000) train loss: 593.170781; val_loss: 5711.381854\n",
      "(Epoch 30 / 1000) train loss: 588.870087; val_loss: 5731.505106\n",
      "(Epoch 31 / 1000) train loss: 584.843864; val_loss: 5749.187977\n",
      "(Epoch 32 / 1000) train loss: 581.069193; val_loss: 5764.660582\n",
      "(Epoch 33 / 1000) train loss: 577.526739; val_loss: 5778.219188\n",
      "(Epoch 34 / 1000) train loss: 574.199493; val_loss: 5790.049164\n",
      "(Epoch 35 / 1000) train loss: 571.073061; val_loss: 5800.453299\n",
      "(Epoch 36 / 1000) train loss: 568.133189; val_loss: 5809.597104\n",
      "(Epoch 37 / 1000) train loss: 565.366286; val_loss: 5817.591392\n",
      "(Epoch 38 / 1000) train loss: 562.761187; val_loss: 5824.677604\n",
      "(Epoch 39 / 1000) train loss: 560.306944; val_loss: 5830.857391\n",
      "(Epoch 40 / 1000) train loss: 557.995596; val_loss: 5836.335182\n",
      "(Epoch 41 / 1000) train loss: 555.816970; val_loss: 5841.116924\n",
      "(Epoch 42 / 1000) train loss: 553.763114; val_loss: 5845.248684\n",
      "(Epoch 43 / 1000) train loss: 551.826306; val_loss: 5848.925435\n",
      "(Epoch 44 / 1000) train loss: 549.999060; val_loss: 5852.175364\n",
      "(Epoch 45 / 1000) train loss: 548.274698; val_loss: 5855.053904\n",
      "(Epoch 46 / 1000) train loss: 546.647136; val_loss: 5857.599484\n",
      "(Epoch 47 / 1000) train loss: 545.109914; val_loss: 5859.865883\n",
      "(Epoch 48 / 1000) train loss: 543.657530; val_loss: 5861.882585\n",
      "(Epoch 49 / 1000) train loss: 542.285129; val_loss: 5863.667037\n",
      "(Epoch 50 / 1000) train loss: 540.988483; val_loss: 5865.228296\n",
      "(Epoch 51 / 1000) train loss: 539.762763; val_loss: 5866.619271\n",
      "(Epoch 52 / 1000) train loss: 538.603949; val_loss: 5867.887225\n",
      "(Epoch 53 / 1000) train loss: 537.508150; val_loss: 5869.035644\n",
      "(Epoch 54 / 1000) train loss: 536.471785; val_loss: 5870.089419\n",
      "(Epoch 55 / 1000) train loss: 535.491260; val_loss: 5871.046394\n",
      "(Epoch 56 / 1000) train loss: 534.563395; val_loss: 5871.943092\n",
      "(Epoch 57 / 1000) train loss: 533.685154; val_loss: 5872.740175\n",
      "(Epoch 58 / 1000) train loss: 532.853705; val_loss: 5873.453982\n",
      "(Epoch 59 / 1000) train loss: 532.066400; val_loss: 5874.125236\n",
      "(Epoch 60 / 1000) train loss: 531.320670; val_loss: 5874.737667\n",
      "(Epoch 61 / 1000) train loss: 530.614243; val_loss: 5875.304367\n",
      "(Epoch 62 / 1000) train loss: 529.944994; val_loss: 5875.861142\n",
      "(Epoch 63 / 1000) train loss: 529.310831; val_loss: 5876.381006\n",
      "(Epoch 64 / 1000) train loss: 528.709763; val_loss: 5876.872917\n",
      "(Epoch 65 / 1000) train loss: 528.139868; val_loss: 5877.339903\n",
      "(Epoch 66 / 1000) train loss: 527.599462; val_loss: 5877.783698\n",
      "(Epoch 67 / 1000) train loss: 527.086957; val_loss: 5878.211200\n",
      "(Epoch 68 / 1000) train loss: 526.600858; val_loss: 5878.608646\n",
      "(Epoch 69 / 1000) train loss: 526.139795; val_loss: 5878.985531\n",
      "(Epoch 70 / 1000) train loss: 525.702361; val_loss: 5879.355349\n",
      "(Epoch 71 / 1000) train loss: 525.287304; val_loss: 5879.712129\n",
      "(Epoch 72 / 1000) train loss: 524.893471; val_loss: 5880.048269\n",
      "(Epoch 73 / 1000) train loss: 524.519643; val_loss: 5880.356867\n",
      "(Epoch 74 / 1000) train loss: 524.164831; val_loss: 5880.664704\n",
      "(Epoch 75 / 1000) train loss: 523.827927; val_loss: 5880.967898\n",
      "(Epoch 76 / 1000) train loss: 523.508065; val_loss: 5881.265288\n",
      "(Epoch 77 / 1000) train loss: 523.204366; val_loss: 5881.540947\n",
      "(Epoch 78 / 1000) train loss: 522.916020; val_loss: 5881.805688\n",
      "(Epoch 79 / 1000) train loss: 522.642094; val_loss: 5882.079678\n",
      "(Epoch 80 / 1000) train loss: 522.381959; val_loss: 5882.337773\n",
      "(Epoch 81 / 1000) train loss: 522.134873; val_loss: 5882.584331\n",
      "(Epoch 82 / 1000) train loss: 521.900216; val_loss: 5882.827218\n",
      "(Epoch 83 / 1000) train loss: 521.677263; val_loss: 5883.060644\n",
      "(Epoch 84 / 1000) train loss: 521.465405; val_loss: 5883.282458\n",
      "(Epoch 85 / 1000) train loss: 521.264169; val_loss: 5883.493325\n",
      "(Epoch 86 / 1000) train loss: 521.072955; val_loss: 5883.692870\n",
      "(Epoch 87 / 1000) train loss: 520.891292; val_loss: 5883.887210\n",
      "(Epoch 88 / 1000) train loss: 520.718618; val_loss: 5884.075883\n",
      "(Epoch 89 / 1000) train loss: 520.554568; val_loss: 5884.261997\n",
      "(Epoch 90 / 1000) train loss: 520.398634; val_loss: 5884.435173\n",
      "(Epoch 91 / 1000) train loss: 520.250465; val_loss: 5884.605751\n",
      "(Epoch 92 / 1000) train loss: 520.109626; val_loss: 5884.768446\n",
      "(Epoch 93 / 1000) train loss: 519.975750; val_loss: 5884.928353\n",
      "(Epoch 94 / 1000) train loss: 519.848464; val_loss: 5885.087077\n",
      "(Epoch 95 / 1000) train loss: 519.727479; val_loss: 5885.238419\n",
      "(Epoch 96 / 1000) train loss: 519.612520; val_loss: 5885.385746\n",
      "(Epoch 97 / 1000) train loss: 519.503208; val_loss: 5885.524246\n",
      "(Epoch 98 / 1000) train loss: 519.399298; val_loss: 5885.656248\n",
      "(Epoch 99 / 1000) train loss: 519.300503; val_loss: 5885.781988\n",
      "(Epoch 100 / 1000) train loss: 519.206618; val_loss: 5885.900959\n",
      "(Iteration 101 / 1000) loss: 518.711650\n",
      "(Epoch 101 / 1000) train loss: 519.117365; val_loss: 5886.011531\n",
      "(Epoch 102 / 1000) train loss: 519.032494; val_loss: 5886.119657\n",
      "(Epoch 103 / 1000) train loss: 518.951793; val_loss: 5886.221506\n",
      "(Epoch 104 / 1000) train loss: 518.875065; val_loss: 5886.317215\n",
      "(Epoch 105 / 1000) train loss: 518.802147; val_loss: 5886.408423\n",
      "(Epoch 106 / 1000) train loss: 518.732847; val_loss: 5886.498217\n",
      "(Epoch 107 / 1000) train loss: 518.666845; val_loss: 5886.582999\n",
      "(Epoch 108 / 1000) train loss: 518.604170; val_loss: 5886.662368\n",
      "(Epoch 109 / 1000) train loss: 518.544576; val_loss: 5886.740448\n",
      "(Epoch 110 / 1000) train loss: 518.487874; val_loss: 5886.818607\n",
      "(Epoch 111 / 1000) train loss: 518.434023; val_loss: 5886.891792\n",
      "(Epoch 112 / 1000) train loss: 518.382760; val_loss: 5886.959835\n",
      "(Epoch 113 / 1000) train loss: 518.334046; val_loss: 5887.024978\n",
      "(Epoch 114 / 1000) train loss: 518.287742; val_loss: 5887.087986\n",
      "(Epoch 115 / 1000) train loss: 518.243679; val_loss: 5887.147754\n",
      "(Epoch 116 / 1000) train loss: 518.201784; val_loss: 5887.203592\n",
      "(Epoch 117 / 1000) train loss: 518.161949; val_loss: 5887.256172\n",
      "(Epoch 118 / 1000) train loss: 518.124078; val_loss: 5887.307660\n",
      "(Epoch 119 / 1000) train loss: 518.088071; val_loss: 5887.355196\n",
      "(Epoch 120 / 1000) train loss: 518.053831; val_loss: 5887.400909\n",
      "(Epoch 121 / 1000) train loss: 518.021250; val_loss: 5887.444631\n",
      "(Epoch 122 / 1000) train loss: 517.990319; val_loss: 5887.485808\n",
      "(Epoch 123 / 1000) train loss: 517.960879; val_loss: 5887.523904\n",
      "(Epoch 124 / 1000) train loss: 517.932880; val_loss: 5887.560756\n",
      "(Epoch 125 / 1000) train loss: 517.906292; val_loss: 5887.595763\n",
      "(Epoch 126 / 1000) train loss: 517.880953; val_loss: 5887.629665\n",
      "(Epoch 127 / 1000) train loss: 517.856898; val_loss: 5887.661801\n",
      "(Epoch 128 / 1000) train loss: 517.833975; val_loss: 5887.691597\n",
      "(Epoch 129 / 1000) train loss: 517.812225; val_loss: 5887.719885\n",
      "(Epoch 130 / 1000) train loss: 517.791541; val_loss: 5887.746799\n",
      "(Epoch 131 / 1000) train loss: 517.771853; val_loss: 5887.772589\n",
      "(Epoch 132 / 1000) train loss: 517.753181; val_loss: 5887.797069\n",
      "(Epoch 133 / 1000) train loss: 517.735387; val_loss: 5887.819936\n",
      "(Epoch 134 / 1000) train loss: 517.718481; val_loss: 5887.843231\n",
      "(Epoch 135 / 1000) train loss: 517.702395; val_loss: 5887.865883\n",
      "(Epoch 136 / 1000) train loss: 517.687090; val_loss: 5887.886382\n",
      "(Epoch 137 / 1000) train loss: 517.672549; val_loss: 5887.905118\n",
      "(Epoch 138 / 1000) train loss: 517.658727; val_loss: 5887.923299\n",
      "(Epoch 139 / 1000) train loss: 517.645610; val_loss: 5887.940614\n",
      "(Epoch 140 / 1000) train loss: 517.633119; val_loss: 5887.958176\n",
      "(Epoch 141 / 1000) train loss: 517.621233; val_loss: 5887.974204\n",
      "(Epoch 142 / 1000) train loss: 517.609939; val_loss: 5887.990499\n",
      "(Epoch 143 / 1000) train loss: 517.599181; val_loss: 5888.005905\n",
      "(Epoch 144 / 1000) train loss: 517.588964; val_loss: 5888.020697\n",
      "(Epoch 145 / 1000) train loss: 517.579234; val_loss: 5888.035561\n",
      "(Epoch 146 / 1000) train loss: 517.570023; val_loss: 5888.049839\n",
      "(Epoch 147 / 1000) train loss: 517.561213; val_loss: 5888.063117\n",
      "(Epoch 148 / 1000) train loss: 517.552867; val_loss: 5888.075474\n",
      "(Epoch 149 / 1000) train loss: 517.544925; val_loss: 5888.087666\n",
      "(Epoch 150 / 1000) train loss: 517.537361; val_loss: 5888.098772\n",
      "(Epoch 151 / 1000) train loss: 517.530223; val_loss: 5888.109194\n",
      "(Epoch 152 / 1000) train loss: 517.523377; val_loss: 5888.119505\n",
      "(Epoch 153 / 1000) train loss: 517.516910; val_loss: 5888.129381\n",
      "(Epoch 154 / 1000) train loss: 517.510725; val_loss: 5888.138821\n",
      "(Epoch 155 / 1000) train loss: 517.504890; val_loss: 5888.147495\n",
      "(Epoch 156 / 1000) train loss: 517.499292; val_loss: 5888.155925\n",
      "(Epoch 157 / 1000) train loss: 517.493997; val_loss: 5888.163895\n",
      "(Epoch 158 / 1000) train loss: 517.488957; val_loss: 5888.171207\n",
      "(Epoch 159 / 1000) train loss: 517.484155; val_loss: 5888.178362\n",
      "(Epoch 160 / 1000) train loss: 517.479602; val_loss: 5888.185106\n",
      "(Epoch 161 / 1000) train loss: 517.475283; val_loss: 5888.191670\n",
      "(Epoch 162 / 1000) train loss: 517.471153; val_loss: 5888.197997\n",
      "(Epoch 163 / 1000) train loss: 517.467244; val_loss: 5888.204066\n",
      "(Epoch 164 / 1000) train loss: 517.463515; val_loss: 5888.209786\n",
      "(Epoch 165 / 1000) train loss: 517.459961; val_loss: 5888.215136\n",
      "(Epoch 166 / 1000) train loss: 517.456583; val_loss: 5888.220179\n",
      "(Epoch 167 / 1000) train loss: 517.453408; val_loss: 5888.225042\n",
      "(Epoch 168 / 1000) train loss: 517.450383; val_loss: 5888.229657\n",
      "(Epoch 169 / 1000) train loss: 517.447454; val_loss: 5888.233890\n",
      "(Epoch 170 / 1000) train loss: 517.444753; val_loss: 5888.237916\n",
      "(Epoch 171 / 1000) train loss: 517.442125; val_loss: 5888.241704\n",
      "(Epoch 172 / 1000) train loss: 517.439642; val_loss: 5888.245287\n",
      "(Epoch 173 / 1000) train loss: 517.437260; val_loss: 5888.248609\n",
      "(Epoch 174 / 1000) train loss: 517.435026; val_loss: 5888.251712\n",
      "(Epoch 175 / 1000) train loss: 517.432880; val_loss: 5888.254645\n",
      "(Epoch 176 / 1000) train loss: 517.430869; val_loss: 5888.257594\n",
      "(Epoch 177 / 1000) train loss: 517.428951; val_loss: 5888.260452\n",
      "(Epoch 178 / 1000) train loss: 517.427084; val_loss: 5888.263068\n",
      "(Epoch 179 / 1000) train loss: 517.425379; val_loss: 5888.265690\n",
      "(Epoch 180 / 1000) train loss: 517.423721; val_loss: 5888.268179\n",
      "(Epoch 181 / 1000) train loss: 517.422100; val_loss: 5888.270666\n",
      "(Epoch 182 / 1000) train loss: 517.420644; val_loss: 5888.272977\n",
      "(Epoch 183 / 1000) train loss: 517.419221; val_loss: 5888.275158\n",
      "(Epoch 184 / 1000) train loss: 517.417876; val_loss: 5888.277306\n",
      "(Epoch 185 / 1000) train loss: 517.416569; val_loss: 5888.279297\n",
      "(Epoch 186 / 1000) train loss: 517.415371; val_loss: 5888.281170\n",
      "(Epoch 187 / 1000) train loss: 517.414167; val_loss: 5888.282987\n",
      "(Epoch 188 / 1000) train loss: 517.413072; val_loss: 5888.284540\n",
      "(Epoch 189 / 1000) train loss: 517.412003; val_loss: 5888.286079\n",
      "(Epoch 190 / 1000) train loss: 517.411003; val_loss: 5888.287625\n",
      "(Epoch 191 / 1000) train loss: 517.410070; val_loss: 5888.289105\n",
      "(Epoch 192 / 1000) train loss: 517.409159; val_loss: 5888.290373\n",
      "(Epoch 193 / 1000) train loss: 517.408280; val_loss: 5888.291619\n",
      "(Epoch 194 / 1000) train loss: 517.407493; val_loss: 5888.292926\n",
      "(Epoch 195 / 1000) train loss: 517.406729; val_loss: 5888.294278\n",
      "(Epoch 196 / 1000) train loss: 517.405981; val_loss: 5888.295335\n",
      "(Epoch 197 / 1000) train loss: 517.405257; val_loss: 5888.296421\n",
      "(Epoch 198 / 1000) train loss: 517.404593; val_loss: 5888.297417\n",
      "(Epoch 199 / 1000) train loss: 517.403987; val_loss: 5888.298392\n",
      "(Epoch 200 / 1000) train loss: 517.403398; val_loss: 5888.299179\n",
      "(Iteration 201 / 1000) loss: 516.783479\n",
      "(Epoch 201 / 1000) train loss: 517.402820; val_loss: 5888.300007\n",
      "(Epoch 202 / 1000) train loss: 517.402256; val_loss: 5888.300900\n",
      "(Epoch 203 / 1000) train loss: 517.401740; val_loss: 5888.301734\n",
      "(Epoch 204 / 1000) train loss: 517.401239; val_loss: 5888.302526\n",
      "(Epoch 205 / 1000) train loss: 517.400794; val_loss: 5888.303260\n",
      "(Epoch 206 / 1000) train loss: 517.400365; val_loss: 5888.303935\n",
      "(Epoch 207 / 1000) train loss: 517.399907; val_loss: 5888.304492\n",
      "(Epoch 208 / 1000) train loss: 517.399536; val_loss: 5888.305197\n",
      "(Epoch 209 / 1000) train loss: 517.399102; val_loss: 5888.305618\n",
      "(Epoch 210 / 1000) train loss: 517.398757; val_loss: 5888.306207\n",
      "(Epoch 211 / 1000) train loss: 517.398418; val_loss: 5888.306673\n",
      "(Epoch 212 / 1000) train loss: 517.398092; val_loss: 5888.307156\n",
      "(Epoch 213 / 1000) train loss: 517.397809; val_loss: 5888.307696\n",
      "(Epoch 214 / 1000) train loss: 517.397537; val_loss: 5888.308184\n",
      "(Epoch 215 / 1000) train loss: 517.397267; val_loss: 5888.308673\n",
      "(Epoch 216 / 1000) train loss: 517.396966; val_loss: 5888.309035\n",
      "(Epoch 217 / 1000) train loss: 517.396706; val_loss: 5888.309486\n",
      "(Epoch 218 / 1000) train loss: 517.396489; val_loss: 5888.309882\n",
      "(Epoch 219 / 1000) train loss: 517.396207; val_loss: 5888.310245\n",
      "(Epoch 220 / 1000) train loss: 517.396009; val_loss: 5888.310582\n",
      "(Epoch 221 / 1000) train loss: 517.395774; val_loss: 5888.310844\n",
      "(Epoch 222 / 1000) train loss: 517.395556; val_loss: 5888.311040\n",
      "(Epoch 223 / 1000) train loss: 517.395380; val_loss: 5888.311331\n",
      "(Epoch 224 / 1000) train loss: 517.395208; val_loss: 5888.311672\n",
      "(Epoch 225 / 1000) train loss: 517.395038; val_loss: 5888.311879\n",
      "(Epoch 226 / 1000) train loss: 517.394872; val_loss: 5888.312122\n",
      "(Epoch 227 / 1000) train loss: 517.394713; val_loss: 5888.312337\n",
      "(Epoch 228 / 1000) train loss: 517.394558; val_loss: 5888.312596\n",
      "(Epoch 229 / 1000) train loss: 517.394447; val_loss: 5888.312803\n",
      "(Epoch 230 / 1000) train loss: 517.394302; val_loss: 5888.312982\n",
      "(Epoch 231 / 1000) train loss: 517.394164; val_loss: 5888.313061\n",
      "(Epoch 232 / 1000) train loss: 517.394061; val_loss: 5888.313339\n",
      "(Epoch 233 / 1000) train loss: 517.393962; val_loss: 5888.313656\n",
      "(Epoch 234 / 1000) train loss: 517.393861; val_loss: 5888.313858\n",
      "(Epoch 235 / 1000) train loss: 517.393727; val_loss: 5888.314059\n",
      "(Epoch 236 / 1000) train loss: 517.393673; val_loss: 5888.314269\n",
      "(Epoch 237 / 1000) train loss: 517.393546; val_loss: 5888.314505\n",
      "(Epoch 238 / 1000) train loss: 517.393459; val_loss: 5888.314692\n",
      "(Epoch 239 / 1000) train loss: 517.393412; val_loss: 5888.314927\n",
      "(Epoch 240 / 1000) train loss: 517.393330; val_loss: 5888.315126\n",
      "(Epoch 241 / 1000) train loss: 517.393209; val_loss: 5888.315207\n",
      "(Epoch 242 / 1000) train loss: 517.393171; val_loss: 5888.315512\n",
      "(Epoch 243 / 1000) train loss: 517.393100; val_loss: 5888.315622\n",
      "(Epoch 244 / 1000) train loss: 517.393074; val_loss: 5888.315779\n",
      "(Epoch 245 / 1000) train loss: 517.393010; val_loss: 5888.315922\n",
      "(Epoch 246 / 1000) train loss: 517.392982; val_loss: 5888.316106\n",
      "(Epoch 247 / 1000) train loss: 517.392957; val_loss: 5888.316265\n",
      "(Epoch 248 / 1000) train loss: 517.392934; val_loss: 5888.316461\n",
      "(Epoch 249 / 1000) train loss: 517.392910; val_loss: 5888.316676\n",
      "(Epoch 250 / 1000) train loss: 517.392889; val_loss: 5888.316813\n",
      "(Epoch 251 / 1000) train loss: 517.392867; val_loss: 5888.316995\n",
      "(Epoch 252 / 1000) train loss: 517.392808; val_loss: 5888.317096\n",
      "(Epoch 253 / 1000) train loss: 517.392790; val_loss: 5888.317256\n",
      "(Epoch 254 / 1000) train loss: 517.392735; val_loss: 5888.317338\n",
      "(Epoch 255 / 1000) train loss: 517.392756; val_loss: 5888.317520\n",
      "(Epoch 256 / 1000) train loss: 517.392704; val_loss: 5888.317589\n",
      "(Epoch 257 / 1000) train loss: 517.392692; val_loss: 5888.317678\n",
      "(Epoch 258 / 1000) train loss: 517.392683; val_loss: 5888.317752\n",
      "(Epoch 259 / 1000) train loss: 517.392674; val_loss: 5888.317805\n",
      "(Epoch 260 / 1000) train loss: 517.392667; val_loss: 5888.317866\n",
      "(Epoch 261 / 1000) train loss: 517.392659; val_loss: 5888.317949\n",
      "(Epoch 262 / 1000) train loss: 517.392650; val_loss: 5888.318006\n",
      "(Epoch 263 / 1000) train loss: 517.392644; val_loss: 5888.318055\n",
      "(Epoch 264 / 1000) train loss: 517.392637; val_loss: 5888.318112\n",
      "(Epoch 265 / 1000) train loss: 517.392631; val_loss: 5888.318177\n",
      "(Epoch 266 / 1000) train loss: 517.392625; val_loss: 5888.318232\n",
      "(Epoch 267 / 1000) train loss: 517.392619; val_loss: 5888.318271\n",
      "(Epoch 268 / 1000) train loss: 517.392614; val_loss: 5888.318303\n",
      "(Epoch 269 / 1000) train loss: 517.392610; val_loss: 5888.318329\n",
      "(Epoch 270 / 1000) train loss: 517.392606; val_loss: 5888.318363\n",
      "(Epoch 271 / 1000) train loss: 517.392603; val_loss: 5888.318395\n",
      "(Epoch 272 / 1000) train loss: 517.392600; val_loss: 5888.318414\n",
      "(Epoch 273 / 1000) train loss: 517.392599; val_loss: 5888.318431\n",
      "(Epoch 274 / 1000) train loss: 517.392596; val_loss: 5888.318458\n",
      "(Epoch 275 / 1000) train loss: 517.392594; val_loss: 5888.318464\n",
      "(Epoch 276 / 1000) train loss: 517.392592; val_loss: 5888.318490\n",
      "(Epoch 277 / 1000) train loss: 517.392590; val_loss: 5888.318516\n",
      "(Epoch 278 / 1000) train loss: 517.392588; val_loss: 5888.318548\n",
      "(Epoch 279 / 1000) train loss: 517.392586; val_loss: 5888.318565\n",
      "(Epoch 280 / 1000) train loss: 517.392585; val_loss: 5888.318567\n",
      "(Epoch 281 / 1000) train loss: 517.392583; val_loss: 5888.318581\n",
      "(Epoch 282 / 1000) train loss: 517.392582; val_loss: 5888.318583\n",
      "(Epoch 283 / 1000) train loss: 517.392580; val_loss: 5888.318578\n",
      "(Epoch 284 / 1000) train loss: 517.392580; val_loss: 5888.318583\n",
      "(Epoch 285 / 1000) train loss: 517.392579; val_loss: 5888.318590\n",
      "(Epoch 286 / 1000) train loss: 517.392578; val_loss: 5888.318591\n",
      "(Epoch 287 / 1000) train loss: 517.392578; val_loss: 5888.318589\n",
      "(Epoch 288 / 1000) train loss: 517.392577; val_loss: 5888.318600\n",
      "(Epoch 289 / 1000) train loss: 517.392577; val_loss: 5888.318613\n",
      "(Epoch 290 / 1000) train loss: 517.392576; val_loss: 5888.318626\n",
      "(Epoch 291 / 1000) train loss: 517.392575; val_loss: 5888.318627\n",
      "(Epoch 292 / 1000) train loss: 517.392575; val_loss: 5888.318631\n",
      "(Epoch 293 / 1000) train loss: 517.392575; val_loss: 5888.318630\n",
      "(Epoch 294 / 1000) train loss: 517.392574; val_loss: 5888.318634\n",
      "(Epoch 295 / 1000) train loss: 517.392574; val_loss: 5888.318634\n",
      "(Epoch 296 / 1000) train loss: 517.392573; val_loss: 5888.318637\n",
      "(Epoch 297 / 1000) train loss: 517.392573; val_loss: 5888.318637\n",
      "(Epoch 298 / 1000) train loss: 517.392573; val_loss: 5888.318639\n",
      "(Epoch 299 / 1000) train loss: 517.392573; val_loss: 5888.318639\n",
      "(Epoch 300 / 1000) train loss: 517.392573; val_loss: 5888.318642\n",
      "(Iteration 301 / 1000) loss: 516.689792\n",
      "(Epoch 301 / 1000) train loss: 517.392572; val_loss: 5888.318645\n",
      "(Epoch 302 / 1000) train loss: 517.392572; val_loss: 5888.318645\n",
      "(Epoch 303 / 1000) train loss: 517.392572; val_loss: 5888.318645\n",
      "(Epoch 304 / 1000) train loss: 517.392572; val_loss: 5888.318646\n",
      "(Epoch 305 / 1000) train loss: 517.392572; val_loss: 5888.318646\n",
      "(Epoch 306 / 1000) train loss: 517.392572; val_loss: 5888.318646\n",
      "(Epoch 307 / 1000) train loss: 517.392572; val_loss: 5888.318646\n",
      "(Epoch 308 / 1000) train loss: 517.392572; val_loss: 5888.318646\n",
      "(Epoch 309 / 1000) train loss: 517.392572; val_loss: 5888.318646\n",
      "(Epoch 310 / 1000) train loss: 517.392572; val_loss: 5888.318646\n",
      "(Epoch 311 / 1000) train loss: 517.392572; val_loss: 5888.318646\n",
      "(Epoch 312 / 1000) train loss: 517.392572; val_loss: 5888.318646\n",
      "(Epoch 313 / 1000) train loss: 517.392572; val_loss: 5888.318644\n",
      "(Epoch 314 / 1000) train loss: 517.392572; val_loss: 5888.318644\n",
      "(Epoch 315 / 1000) train loss: 517.392572; val_loss: 5888.318644\n",
      "(Epoch 316 / 1000) train loss: 517.392571; val_loss: 5888.318644\n",
      "(Epoch 317 / 1000) train loss: 517.392571; val_loss: 5888.318644\n",
      "(Epoch 318 / 1000) train loss: 517.392571; val_loss: 5888.318644\n",
      "(Epoch 319 / 1000) train loss: 517.392571; val_loss: 5888.318644\n",
      "(Epoch 320 / 1000) train loss: 517.392571; val_loss: 5888.318644\n",
      "(Epoch 321 / 1000) train loss: 517.392571; val_loss: 5888.318644\n",
      "(Epoch 322 / 1000) train loss: 517.392571; val_loss: 5888.318644\n",
      "(Epoch 323 / 1000) train loss: 517.392571; val_loss: 5888.318644\n",
      "(Epoch 324 / 1000) train loss: 517.392571; val_loss: 5888.318644\n",
      "(Epoch 325 / 1000) train loss: 517.392571; val_loss: 5888.318644\n",
      "(Epoch 326 / 1000) train loss: 517.392571; val_loss: 5888.318644\n",
      "(Epoch 327 / 1000) train loss: 517.392571; val_loss: 5888.318644\n",
      "(Epoch 328 / 1000) train loss: 517.392571; val_loss: 5888.318646\n",
      "(Epoch 329 / 1000) train loss: 517.392571; val_loss: 5888.318646\n",
      "(Epoch 330 / 1000) train loss: 517.392571; val_loss: 5888.318646\n",
      "(Epoch 331 / 1000) train loss: 517.392571; val_loss: 5888.318646\n",
      "(Epoch 332 / 1000) train loss: 517.392571; val_loss: 5888.318646\n",
      "(Epoch 333 / 1000) train loss: 517.392571; val_loss: 5888.318646\n",
      "(Epoch 334 / 1000) train loss: 517.392571; val_loss: 5888.318646\n",
      "(Epoch 335 / 1000) train loss: 517.392571; val_loss: 5888.318646\n",
      "(Epoch 336 / 1000) train loss: 517.392571; val_loss: 5888.318646\n",
      "(Epoch 337 / 1000) train loss: 517.392571; val_loss: 5888.318646\n",
      "(Epoch 338 / 1000) train loss: 517.392571; val_loss: 5888.318646\n",
      "(Epoch 339 / 1000) train loss: 517.392571; val_loss: 5888.318646\n",
      "(Epoch 340 / 1000) train loss: 517.392571; val_loss: 5888.318646\n",
      "(Epoch 341 / 1000) train loss: 517.392571; val_loss: 5888.318646\n",
      "(Epoch 342 / 1000) train loss: 517.392571; val_loss: 5888.318646\n",
      "(Epoch 343 / 1000) train loss: 517.392571; val_loss: 5888.318646\n",
      "(Epoch 344 / 1000) train loss: 517.392571; val_loss: 5888.318646\n",
      "(Epoch 345 / 1000) train loss: 517.392571; val_loss: 5888.318646\n",
      "(Epoch 346 / 1000) train loss: 517.392571; val_loss: 5888.318646\n",
      "(Epoch 347 / 1000) train loss: 517.392571; val_loss: 5888.318646\n",
      "(Epoch 348 / 1000) train loss: 517.392571; val_loss: 5888.318646\n",
      "(Epoch 349 / 1000) train loss: 517.392571; val_loss: 5888.318646\n",
      "(Epoch 350 / 1000) train loss: 517.392571; val_loss: 5888.318646\n",
      "(Epoch 351 / 1000) train loss: 517.392571; val_loss: 5888.318646\n",
      "(Epoch 352 / 1000) train loss: 517.392571; val_loss: 5888.318646\n",
      "(Epoch 353 / 1000) train loss: 517.392571; val_loss: 5888.318646\n",
      "(Epoch 354 / 1000) train loss: 517.392571; val_loss: 5888.318646\n",
      "(Epoch 355 / 1000) train loss: 517.392571; val_loss: 5888.318646\n",
      "(Epoch 356 / 1000) train loss: 517.392571; val_loss: 5888.318646\n",
      "(Epoch 357 / 1000) train loss: 517.392571; val_loss: 5888.318646\n",
      "(Epoch 358 / 1000) train loss: 517.392571; val_loss: 5888.318646\n",
      "(Epoch 359 / 1000) train loss: 517.392571; val_loss: 5888.318646\n",
      "(Epoch 360 / 1000) train loss: 517.392571; val_loss: 5888.318646\n",
      "(Epoch 361 / 1000) train loss: 517.392571; val_loss: 5888.318646\n",
      "(Epoch 362 / 1000) train loss: 517.392571; val_loss: 5888.318646\n",
      "(Epoch 363 / 1000) train loss: 517.392571; val_loss: 5888.318646\n",
      "(Epoch 364 / 1000) train loss: 517.392571; val_loss: 5888.318646\n",
      "(Epoch 365 / 1000) train loss: 517.392571; val_loss: 5888.318646\n",
      "(Epoch 366 / 1000) train loss: 517.392571; val_loss: 5888.318646\n",
      "(Epoch 367 / 1000) train loss: 517.392571; val_loss: 5888.318646\n",
      "(Epoch 368 / 1000) train loss: 517.392571; val_loss: 5888.318646\n",
      "(Epoch 369 / 1000) train loss: 517.392571; val_loss: 5888.318646\n",
      "(Epoch 370 / 1000) train loss: 517.392571; val_loss: 5888.318646\n",
      "(Epoch 371 / 1000) train loss: 517.392571; val_loss: 5888.318646\n",
      "(Epoch 372 / 1000) train loss: 517.392571; val_loss: 5888.318646\n",
      "(Epoch 373 / 1000) train loss: 517.392571; val_loss: 5888.318646\n",
      "(Epoch 374 / 1000) train loss: 517.392571; val_loss: 5888.318646\n",
      "(Epoch 375 / 1000) train loss: 517.392571; val_loss: 5888.318646\n",
      "(Epoch 376 / 1000) train loss: 517.392571; val_loss: 5888.318646\n",
      "(Epoch 377 / 1000) train loss: 517.392571; val_loss: 5888.318646\n",
      "(Epoch 378 / 1000) train loss: 517.392571; val_loss: 5888.318646\n",
      "(Epoch 379 / 1000) train loss: 517.392571; val_loss: 5888.318646\n",
      "(Epoch 380 / 1000) train loss: 517.392571; val_loss: 5888.318646\n",
      "(Epoch 381 / 1000) train loss: 517.392571; val_loss: 5888.318646\n",
      "(Epoch 382 / 1000) train loss: 517.392571; val_loss: 5888.318646\n",
      "(Epoch 383 / 1000) train loss: 517.392571; val_loss: 5888.318646\n",
      "(Epoch 384 / 1000) train loss: 517.392571; val_loss: 5888.318646\n",
      "(Epoch 385 / 1000) train loss: 517.392571; val_loss: 5888.318646\n",
      "(Epoch 386 / 1000) train loss: 517.392571; val_loss: 5888.318646\n",
      "(Epoch 387 / 1000) train loss: 517.392571; val_loss: 5888.318646\n",
      "(Epoch 388 / 1000) train loss: 517.392571; val_loss: 5888.318646\n",
      "(Epoch 389 / 1000) train loss: 517.392571; val_loss: 5888.318646\n",
      "(Epoch 390 / 1000) train loss: 517.392571; val_loss: 5888.318646\n",
      "(Epoch 391 / 1000) train loss: 517.392571; val_loss: 5888.318646\n",
      "(Epoch 392 / 1000) train loss: 517.392571; val_loss: 5888.318646\n",
      "(Epoch 393 / 1000) train loss: 517.392571; val_loss: 5888.318646\n",
      "(Epoch 394 / 1000) train loss: 517.392571; val_loss: 5888.318646\n",
      "(Epoch 395 / 1000) train loss: 517.392571; val_loss: 5888.318646\n",
      "(Epoch 396 / 1000) train loss: 517.392571; val_loss: 5888.318646\n",
      "(Epoch 397 / 1000) train loss: 517.392571; val_loss: 5888.318646\n",
      "(Epoch 398 / 1000) train loss: 517.392571; val_loss: 5888.318646\n",
      "(Epoch 399 / 1000) train loss: 517.392571; val_loss: 5888.318646\n",
      "(Epoch 400 / 1000) train loss: 517.392571; val_loss: 5888.318646\n",
      "(Iteration 401 / 1000) loss: 517.534195\n",
      "(Epoch 401 / 1000) train loss: 517.392571; val_loss: 5888.318646\n",
      "(Epoch 402 / 1000) train loss: 517.392571; val_loss: 5888.318646\n",
      "(Epoch 403 / 1000) train loss: 517.392571; val_loss: 5888.318646\n",
      "(Epoch 404 / 1000) train loss: 517.392571; val_loss: 5888.318646\n",
      "(Epoch 405 / 1000) train loss: 517.392571; val_loss: 5888.318646\n",
      "(Epoch 406 / 1000) train loss: 517.392571; val_loss: 5888.318646\n",
      "(Epoch 407 / 1000) train loss: 517.392571; val_loss: 5888.318646\n",
      "(Epoch 408 / 1000) train loss: 517.392571; val_loss: 5888.318646\n",
      "(Epoch 409 / 1000) train loss: 517.392571; val_loss: 5888.318646\n",
      "(Epoch 410 / 1000) train loss: 517.392571; val_loss: 5888.318646\n",
      "(Epoch 411 / 1000) train loss: 517.392571; val_loss: 5888.318646\n",
      "(Epoch 412 / 1000) train loss: 517.392571; val_loss: 5888.318646\n",
      "(Epoch 413 / 1000) train loss: 517.392571; val_loss: 5888.318646\n",
      "(Epoch 414 / 1000) train loss: 517.392571; val_loss: 5888.318646\n",
      "(Epoch 415 / 1000) train loss: 517.392571; val_loss: 5888.318646\n",
      "(Epoch 416 / 1000) train loss: 517.392571; val_loss: 5888.318646\n",
      "(Epoch 417 / 1000) train loss: 517.392571; val_loss: 5888.318646\n",
      "(Epoch 418 / 1000) train loss: 517.392571; val_loss: 5888.318646\n",
      "(Epoch 419 / 1000) train loss: 517.392571; val_loss: 5888.318646\n",
      "(Epoch 420 / 1000) train loss: 517.392571; val_loss: 5888.318646\n",
      "(Epoch 421 / 1000) train loss: 517.392571; val_loss: 5888.318646\n",
      "(Epoch 422 / 1000) train loss: 517.392571; val_loss: 5888.318646\n",
      "(Epoch 423 / 1000) train loss: 517.392571; val_loss: 5888.318646\n",
      "(Epoch 424 / 1000) train loss: 517.392571; val_loss: 5888.318646\n",
      "(Epoch 425 / 1000) train loss: 517.392571; val_loss: 5888.318646\n",
      "(Epoch 426 / 1000) train loss: 517.392571; val_loss: 5888.318646\n",
      "(Epoch 427 / 1000) train loss: 517.392571; val_loss: 5888.318646\n",
      "(Epoch 428 / 1000) train loss: 517.392571; val_loss: 5888.318646\n",
      "(Epoch 429 / 1000) train loss: 517.392571; val_loss: 5888.318646\n",
      "(Epoch 430 / 1000) train loss: 517.392571; val_loss: 5888.318646\n",
      "(Epoch 431 / 1000) train loss: 517.392571; val_loss: 5888.318646\n",
      "(Epoch 432 / 1000) train loss: 517.392571; val_loss: 5888.318646\n",
      "(Epoch 433 / 1000) train loss: 517.392571; val_loss: 5888.318646\n",
      "(Epoch 434 / 1000) train loss: 517.392571; val_loss: 5888.318646\n",
      "(Epoch 435 / 1000) train loss: 517.392571; val_loss: 5888.318646\n",
      "(Epoch 436 / 1000) train loss: 517.392571; val_loss: 5888.318646\n",
      "(Epoch 437 / 1000) train loss: 517.392571; val_loss: 5888.318646\n",
      "(Epoch 438 / 1000) train loss: 517.392571; val_loss: 5888.318646\n",
      "(Epoch 439 / 1000) train loss: 517.392571; val_loss: 5888.318646\n",
      "(Epoch 440 / 1000) train loss: 517.392571; val_loss: 5888.318646\n",
      "(Epoch 441 / 1000) train loss: 517.392571; val_loss: 5888.318646\n",
      "(Epoch 442 / 1000) train loss: 517.392571; val_loss: 5888.318646\n",
      "(Epoch 443 / 1000) train loss: 517.392571; val_loss: 5888.318646\n",
      "(Epoch 444 / 1000) train loss: 517.392571; val_loss: 5888.318646\n",
      "(Epoch 445 / 1000) train loss: 517.392571; val_loss: 5888.318646\n",
      "(Epoch 446 / 1000) train loss: 517.392571; val_loss: 5888.318646\n",
      "(Epoch 447 / 1000) train loss: 517.392571; val_loss: 5888.318646\n",
      "(Epoch 448 / 1000) train loss: 517.392571; val_loss: 5888.318646\n",
      "(Epoch 449 / 1000) train loss: 517.392571; val_loss: 5888.318646\n",
      "(Epoch 450 / 1000) train loss: 517.392571; val_loss: 5888.318646\n",
      "(Epoch 451 / 1000) train loss: 517.392571; val_loss: 5888.318646\n",
      "(Epoch 452 / 1000) train loss: 517.392571; val_loss: 5888.318646\n",
      "(Epoch 453 / 1000) train loss: 517.392571; val_loss: 5888.318646\n",
      "(Epoch 454 / 1000) train loss: 517.392571; val_loss: 5888.318646\n",
      "(Epoch 455 / 1000) train loss: 517.392571; val_loss: 5888.318646\n",
      "(Epoch 456 / 1000) train loss: 517.392571; val_loss: 5888.318646\n",
      "(Epoch 457 / 1000) train loss: 517.392571; val_loss: 5888.318646\n",
      "(Epoch 458 / 1000) train loss: 517.392571; val_loss: 5888.318646\n",
      "(Epoch 459 / 1000) train loss: 517.392571; val_loss: 5888.318646\n",
      "(Epoch 460 / 1000) train loss: 517.392571; val_loss: 5888.318646\n",
      "(Epoch 461 / 1000) train loss: 517.392571; val_loss: 5888.318646\n",
      "(Epoch 462 / 1000) train loss: 517.392571; val_loss: 5888.318646\n",
      "(Epoch 463 / 1000) train loss: 517.392571; val_loss: 5888.318646\n",
      "(Epoch 464 / 1000) train loss: 517.392571; val_loss: 5888.318646\n",
      "(Epoch 465 / 1000) train loss: 517.392571; val_loss: 5888.318646\n",
      "(Epoch 466 / 1000) train loss: 517.392571; val_loss: 5888.318646\n",
      "(Epoch 467 / 1000) train loss: 517.392571; val_loss: 5888.318646\n",
      "(Epoch 468 / 1000) train loss: 517.392571; val_loss: 5888.318646\n",
      "(Epoch 469 / 1000) train loss: 517.392571; val_loss: 5888.318646\n",
      "(Epoch 470 / 1000) train loss: 517.392571; val_loss: 5888.318646\n",
      "(Epoch 471 / 1000) train loss: 517.392571; val_loss: 5888.318646\n",
      "(Epoch 472 / 1000) train loss: 517.392571; val_loss: 5888.318646\n",
      "(Epoch 473 / 1000) train loss: 517.392571; val_loss: 5888.318646\n",
      "(Epoch 474 / 1000) train loss: 517.392571; val_loss: 5888.318646\n",
      "(Epoch 475 / 1000) train loss: 517.392571; val_loss: 5888.318646\n",
      "(Epoch 476 / 1000) train loss: 517.392571; val_loss: 5888.318646\n",
      "(Epoch 477 / 1000) train loss: 517.392571; val_loss: 5888.318646\n",
      "(Epoch 478 / 1000) train loss: 517.392571; val_loss: 5888.318646\n",
      "(Epoch 479 / 1000) train loss: 517.392571; val_loss: 5888.318646\n",
      "(Epoch 480 / 1000) train loss: 517.392571; val_loss: 5888.318646\n",
      "(Epoch 481 / 1000) train loss: 517.392571; val_loss: 5888.318646\n",
      "(Epoch 482 / 1000) train loss: 517.392571; val_loss: 5888.318646\n",
      "(Epoch 483 / 1000) train loss: 517.392571; val_loss: 5888.318646\n",
      "(Epoch 484 / 1000) train loss: 517.392571; val_loss: 5888.318646\n",
      "(Epoch 485 / 1000) train loss: 517.392571; val_loss: 5888.318646\n",
      "(Epoch 486 / 1000) train loss: 517.392571; val_loss: 5888.318646\n",
      "(Epoch 487 / 1000) train loss: 517.392571; val_loss: 5888.318646\n",
      "(Epoch 488 / 1000) train loss: 517.392571; val_loss: 5888.318646\n",
      "(Epoch 489 / 1000) train loss: 517.392571; val_loss: 5888.318646\n",
      "(Epoch 490 / 1000) train loss: 517.392571; val_loss: 5888.318646\n",
      "(Epoch 491 / 1000) train loss: 517.392571; val_loss: 5888.318646\n",
      "(Epoch 492 / 1000) train loss: 517.392571; val_loss: 5888.318646\n",
      "(Epoch 493 / 1000) train loss: 517.392571; val_loss: 5888.318646\n",
      "(Epoch 494 / 1000) train loss: 517.392571; val_loss: 5888.318646\n",
      "(Epoch 495 / 1000) train loss: 517.392571; val_loss: 5888.318646\n",
      "(Epoch 496 / 1000) train loss: 517.392571; val_loss: 5888.318646\n",
      "(Epoch 497 / 1000) train loss: 517.392571; val_loss: 5888.318646\n",
      "(Epoch 498 / 1000) train loss: 517.392571; val_loss: 5888.318646\n",
      "(Epoch 499 / 1000) train loss: 517.392571; val_loss: 5888.318646\n",
      "(Epoch 500 / 1000) train loss: 517.392571; val_loss: 5888.318646\n",
      "(Iteration 501 / 1000) loss: 516.703858\n",
      "(Epoch 501 / 1000) train loss: 517.392571; val_loss: 5888.318646\n",
      "(Epoch 502 / 1000) train loss: 517.392571; val_loss: 5888.318646\n",
      "(Epoch 503 / 1000) train loss: 517.392571; val_loss: 5888.318646\n",
      "(Epoch 504 / 1000) train loss: 517.392571; val_loss: 5888.318646\n",
      "(Epoch 505 / 1000) train loss: 517.392571; val_loss: 5888.318646\n",
      "(Epoch 506 / 1000) train loss: 517.392571; val_loss: 5888.318646\n",
      "(Epoch 507 / 1000) train loss: 517.392571; val_loss: 5888.318646\n",
      "(Epoch 508 / 1000) train loss: 517.392571; val_loss: 5888.318646\n",
      "(Epoch 509 / 1000) train loss: 517.392571; val_loss: 5888.318646\n",
      "(Epoch 510 / 1000) train loss: 517.392571; val_loss: 5888.318646\n",
      "(Epoch 511 / 1000) train loss: 517.392571; val_loss: 5888.318646\n",
      "(Epoch 512 / 1000) train loss: 517.392571; val_loss: 5888.318646\n",
      "(Epoch 513 / 1000) train loss: 517.392571; val_loss: 5888.318646\n",
      "(Epoch 514 / 1000) train loss: 517.392571; val_loss: 5888.318646\n",
      "(Epoch 515 / 1000) train loss: 517.392571; val_loss: 5888.318646\n",
      "(Epoch 516 / 1000) train loss: 517.392571; val_loss: 5888.318646\n",
      "(Epoch 517 / 1000) train loss: 517.392571; val_loss: 5888.318646\n",
      "(Epoch 518 / 1000) train loss: 517.392571; val_loss: 5888.318646\n",
      "(Epoch 519 / 1000) train loss: 517.392571; val_loss: 5888.318646\n",
      "(Epoch 520 / 1000) train loss: 517.392571; val_loss: 5888.318646\n",
      "(Epoch 521 / 1000) train loss: 517.392571; val_loss: 5888.318646\n",
      "(Epoch 522 / 1000) train loss: 517.392571; val_loss: 5888.318646\n",
      "(Epoch 523 / 1000) train loss: 517.392571; val_loss: 5888.318646\n",
      "(Epoch 524 / 1000) train loss: 517.392571; val_loss: 5888.318646\n",
      "(Epoch 525 / 1000) train loss: 517.392571; val_loss: 5888.318646\n",
      "(Epoch 526 / 1000) train loss: 517.392571; val_loss: 5888.318646\n",
      "(Epoch 527 / 1000) train loss: 517.392571; val_loss: 5888.318646\n",
      "(Epoch 528 / 1000) train loss: 517.392571; val_loss: 5888.318646\n",
      "(Epoch 529 / 1000) train loss: 517.392571; val_loss: 5888.318646\n",
      "(Epoch 530 / 1000) train loss: 517.392571; val_loss: 5888.318646\n",
      "(Epoch 531 / 1000) train loss: 517.392571; val_loss: 5888.318646\n",
      "(Epoch 532 / 1000) train loss: 517.392571; val_loss: 5888.318646\n",
      "(Epoch 533 / 1000) train loss: 517.392571; val_loss: 5888.318646\n",
      "(Epoch 534 / 1000) train loss: 517.392571; val_loss: 5888.318646\n",
      "(Epoch 535 / 1000) train loss: 517.392571; val_loss: 5888.318646\n",
      "(Epoch 536 / 1000) train loss: 517.392571; val_loss: 5888.318646\n",
      "(Epoch 537 / 1000) train loss: 517.392571; val_loss: 5888.318646\n",
      "(Epoch 538 / 1000) train loss: 517.392571; val_loss: 5888.318646\n",
      "(Epoch 539 / 1000) train loss: 517.392571; val_loss: 5888.318646\n",
      "(Epoch 540 / 1000) train loss: 517.392571; val_loss: 5888.318646\n",
      "(Epoch 541 / 1000) train loss: 517.392571; val_loss: 5888.318646\n",
      "(Epoch 542 / 1000) train loss: 517.392571; val_loss: 5888.318646\n",
      "(Epoch 543 / 1000) train loss: 517.392571; val_loss: 5888.318646\n",
      "(Epoch 544 / 1000) train loss: 517.392571; val_loss: 5888.318646\n",
      "(Epoch 545 / 1000) train loss: 517.392571; val_loss: 5888.318646\n",
      "(Epoch 546 / 1000) train loss: 517.392571; val_loss: 5888.318646\n",
      "(Epoch 547 / 1000) train loss: 517.392571; val_loss: 5888.318646\n",
      "(Epoch 548 / 1000) train loss: 517.392571; val_loss: 5888.318646\n",
      "(Epoch 549 / 1000) train loss: 517.392571; val_loss: 5888.318646\n",
      "(Epoch 550 / 1000) train loss: 517.392571; val_loss: 5888.318646\n",
      "(Epoch 551 / 1000) train loss: 517.392571; val_loss: 5888.318646\n",
      "(Epoch 552 / 1000) train loss: 517.392571; val_loss: 5888.318646\n",
      "(Epoch 553 / 1000) train loss: 517.392571; val_loss: 5888.318646\n",
      "(Epoch 554 / 1000) train loss: 517.392571; val_loss: 5888.318646\n",
      "(Epoch 555 / 1000) train loss: 517.392571; val_loss: 5888.318646\n",
      "(Epoch 556 / 1000) train loss: 517.392571; val_loss: 5888.318646\n",
      "(Epoch 557 / 1000) train loss: 517.392571; val_loss: 5888.318646\n",
      "(Epoch 558 / 1000) train loss: 517.392571; val_loss: 5888.318646\n",
      "(Epoch 559 / 1000) train loss: 517.392571; val_loss: 5888.318646\n",
      "(Epoch 560 / 1000) train loss: 517.392571; val_loss: 5888.318646\n",
      "(Epoch 561 / 1000) train loss: 517.392571; val_loss: 5888.318646\n",
      "(Epoch 562 / 1000) train loss: 517.392571; val_loss: 5888.318646\n",
      "(Epoch 563 / 1000) train loss: 517.392571; val_loss: 5888.318646\n",
      "(Epoch 564 / 1000) train loss: 517.392571; val_loss: 5888.318646\n",
      "(Epoch 565 / 1000) train loss: 517.392571; val_loss: 5888.318646\n",
      "(Epoch 566 / 1000) train loss: 517.392571; val_loss: 5888.318646\n",
      "(Epoch 567 / 1000) train loss: 517.392571; val_loss: 5888.318646\n",
      "(Epoch 568 / 1000) train loss: 517.392571; val_loss: 5888.318646\n",
      "(Epoch 569 / 1000) train loss: 517.392571; val_loss: 5888.318646\n",
      "(Epoch 570 / 1000) train loss: 517.392571; val_loss: 5888.318646\n",
      "(Epoch 571 / 1000) train loss: 517.392571; val_loss: 5888.318646\n",
      "(Epoch 572 / 1000) train loss: 517.392571; val_loss: 5888.318646\n",
      "(Epoch 573 / 1000) train loss: 517.392571; val_loss: 5888.318646\n",
      "(Epoch 574 / 1000) train loss: 517.392571; val_loss: 5888.318646\n",
      "(Epoch 575 / 1000) train loss: 517.392571; val_loss: 5888.318646\n",
      "(Epoch 576 / 1000) train loss: 517.392571; val_loss: 5888.318646\n",
      "(Epoch 577 / 1000) train loss: 517.392571; val_loss: 5888.318646\n",
      "(Epoch 578 / 1000) train loss: 517.392571; val_loss: 5888.318646\n",
      "(Epoch 579 / 1000) train loss: 517.392571; val_loss: 5888.318646\n",
      "(Epoch 580 / 1000) train loss: 517.392571; val_loss: 5888.318646\n",
      "(Epoch 581 / 1000) train loss: 517.392571; val_loss: 5888.318646\n",
      "(Epoch 582 / 1000) train loss: 517.392571; val_loss: 5888.318646\n",
      "(Epoch 583 / 1000) train loss: 517.392571; val_loss: 5888.318646\n",
      "(Epoch 584 / 1000) train loss: 517.392571; val_loss: 5888.318646\n",
      "(Epoch 585 / 1000) train loss: 517.392571; val_loss: 5888.318646\n",
      "(Epoch 586 / 1000) train loss: 517.392571; val_loss: 5888.318646\n",
      "(Epoch 587 / 1000) train loss: 517.392571; val_loss: 5888.318646\n",
      "(Epoch 588 / 1000) train loss: 517.392571; val_loss: 5888.318646\n",
      "(Epoch 589 / 1000) train loss: 517.392571; val_loss: 5888.318646\n",
      "(Epoch 590 / 1000) train loss: 517.392571; val_loss: 5888.318646\n",
      "(Epoch 591 / 1000) train loss: 517.392571; val_loss: 5888.318646\n",
      "(Epoch 592 / 1000) train loss: 517.392571; val_loss: 5888.318646\n",
      "(Epoch 593 / 1000) train loss: 517.392571; val_loss: 5888.318646\n",
      "(Epoch 594 / 1000) train loss: 517.392571; val_loss: 5888.318646\n",
      "(Epoch 595 / 1000) train loss: 517.392571; val_loss: 5888.318646\n",
      "(Epoch 596 / 1000) train loss: 517.392571; val_loss: 5888.318646\n",
      "(Epoch 597 / 1000) train loss: 517.392571; val_loss: 5888.318646\n",
      "(Epoch 598 / 1000) train loss: 517.392571; val_loss: 5888.318646\n",
      "(Epoch 599 / 1000) train loss: 517.392571; val_loss: 5888.318646\n",
      "(Epoch 600 / 1000) train loss: 517.392571; val_loss: 5888.318646\n",
      "(Iteration 601 / 1000) loss: 516.742053\n",
      "(Epoch 601 / 1000) train loss: 517.392571; val_loss: 5888.318646\n",
      "(Epoch 602 / 1000) train loss: 517.392571; val_loss: 5888.318646\n",
      "(Epoch 603 / 1000) train loss: 517.392571; val_loss: 5888.318646\n",
      "(Epoch 604 / 1000) train loss: 517.392571; val_loss: 5888.318646\n",
      "(Epoch 605 / 1000) train loss: 517.392571; val_loss: 5888.318646\n",
      "(Epoch 606 / 1000) train loss: 517.392571; val_loss: 5888.318646\n",
      "(Epoch 607 / 1000) train loss: 517.392571; val_loss: 5888.318646\n",
      "(Epoch 608 / 1000) train loss: 517.392571; val_loss: 5888.318646\n",
      "(Epoch 609 / 1000) train loss: 517.392571; val_loss: 5888.318646\n",
      "(Epoch 610 / 1000) train loss: 517.392571; val_loss: 5888.318646\n",
      "(Epoch 611 / 1000) train loss: 517.392571; val_loss: 5888.318646\n",
      "(Epoch 612 / 1000) train loss: 517.392571; val_loss: 5888.318646\n",
      "(Epoch 613 / 1000) train loss: 517.392571; val_loss: 5888.318646\n",
      "(Epoch 614 / 1000) train loss: 517.392571; val_loss: 5888.318646\n",
      "(Epoch 615 / 1000) train loss: 517.392571; val_loss: 5888.318646\n",
      "(Epoch 616 / 1000) train loss: 517.392571; val_loss: 5888.318646\n",
      "(Epoch 617 / 1000) train loss: 517.392571; val_loss: 5888.318646\n",
      "(Epoch 618 / 1000) train loss: 517.392571; val_loss: 5888.318646\n",
      "(Epoch 619 / 1000) train loss: 517.392571; val_loss: 5888.318646\n",
      "(Epoch 620 / 1000) train loss: 517.392571; val_loss: 5888.318646\n",
      "(Epoch 621 / 1000) train loss: 517.392571; val_loss: 5888.318646\n",
      "(Epoch 622 / 1000) train loss: 517.392571; val_loss: 5888.318646\n",
      "(Epoch 623 / 1000) train loss: 517.392571; val_loss: 5888.318646\n",
      "(Epoch 624 / 1000) train loss: 517.392571; val_loss: 5888.318646\n",
      "(Epoch 625 / 1000) train loss: 517.392571; val_loss: 5888.318646\n",
      "(Epoch 626 / 1000) train loss: 517.392571; val_loss: 5888.318646\n",
      "(Epoch 627 / 1000) train loss: 517.392571; val_loss: 5888.318646\n",
      "(Epoch 628 / 1000) train loss: 517.392571; val_loss: 5888.318646\n",
      "(Epoch 629 / 1000) train loss: 517.392571; val_loss: 5888.318646\n",
      "(Epoch 630 / 1000) train loss: 517.392571; val_loss: 5888.318646\n",
      "(Epoch 631 / 1000) train loss: 517.392571; val_loss: 5888.318646\n",
      "(Epoch 632 / 1000) train loss: 517.392571; val_loss: 5888.318646\n",
      "(Epoch 633 / 1000) train loss: 517.392571; val_loss: 5888.318646\n",
      "(Epoch 634 / 1000) train loss: 517.392571; val_loss: 5888.318646\n",
      "(Epoch 635 / 1000) train loss: 517.392571; val_loss: 5888.318646\n",
      "(Epoch 636 / 1000) train loss: 517.392571; val_loss: 5888.318646\n",
      "(Epoch 637 / 1000) train loss: 517.392571; val_loss: 5888.318646\n",
      "(Epoch 638 / 1000) train loss: 517.392571; val_loss: 5888.318646\n",
      "(Epoch 639 / 1000) train loss: 517.392571; val_loss: 5888.318646\n",
      "(Epoch 640 / 1000) train loss: 517.392571; val_loss: 5888.318646\n",
      "(Epoch 641 / 1000) train loss: 517.392571; val_loss: 5888.318646\n",
      "(Epoch 642 / 1000) train loss: 517.392571; val_loss: 5888.318646\n",
      "(Epoch 643 / 1000) train loss: 517.392571; val_loss: 5888.318646\n",
      "(Epoch 644 / 1000) train loss: 517.392571; val_loss: 5888.318646\n",
      "(Epoch 645 / 1000) train loss: 517.392571; val_loss: 5888.318646\n",
      "(Epoch 646 / 1000) train loss: 517.392571; val_loss: 5888.318646\n",
      "(Epoch 647 / 1000) train loss: 517.392571; val_loss: 5888.318646\n",
      "(Epoch 648 / 1000) train loss: 517.392571; val_loss: 5888.318646\n",
      "(Epoch 649 / 1000) train loss: 517.392571; val_loss: 5888.318646\n",
      "(Epoch 650 / 1000) train loss: 517.392571; val_loss: 5888.318646\n",
      "(Epoch 651 / 1000) train loss: 517.392571; val_loss: 5888.318646\n",
      "(Epoch 652 / 1000) train loss: 517.392571; val_loss: 5888.318646\n",
      "(Epoch 653 / 1000) train loss: 517.392571; val_loss: 5888.318646\n",
      "(Epoch 654 / 1000) train loss: 517.392571; val_loss: 5888.318646\n",
      "(Epoch 655 / 1000) train loss: 517.392571; val_loss: 5888.318646\n",
      "(Epoch 656 / 1000) train loss: 517.392571; val_loss: 5888.318646\n",
      "(Epoch 657 / 1000) train loss: 517.392571; val_loss: 5888.318646\n",
      "(Epoch 658 / 1000) train loss: 517.392571; val_loss: 5888.318646\n",
      "(Epoch 659 / 1000) train loss: 517.392571; val_loss: 5888.318646\n",
      "(Epoch 660 / 1000) train loss: 517.392571; val_loss: 5888.318646\n",
      "(Epoch 661 / 1000) train loss: 517.392571; val_loss: 5888.318646\n",
      "(Epoch 662 / 1000) train loss: 517.392571; val_loss: 5888.318646\n",
      "(Epoch 663 / 1000) train loss: 517.392571; val_loss: 5888.318646\n",
      "(Epoch 664 / 1000) train loss: 517.392571; val_loss: 5888.318646\n",
      "(Epoch 665 / 1000) train loss: 517.392571; val_loss: 5888.318646\n",
      "(Epoch 666 / 1000) train loss: 517.392571; val_loss: 5888.318646\n",
      "(Epoch 667 / 1000) train loss: 517.392571; val_loss: 5888.318646\n",
      "(Epoch 668 / 1000) train loss: 517.392571; val_loss: 5888.318646\n",
      "(Epoch 669 / 1000) train loss: 517.392571; val_loss: 5888.318646\n",
      "(Epoch 670 / 1000) train loss: 517.392571; val_loss: 5888.318646\n",
      "(Epoch 671 / 1000) train loss: 517.392571; val_loss: 5888.318646\n",
      "(Epoch 672 / 1000) train loss: 517.392571; val_loss: 5888.318646\n",
      "(Epoch 673 / 1000) train loss: 517.392571; val_loss: 5888.318646\n",
      "(Epoch 674 / 1000) train loss: 517.392571; val_loss: 5888.318646\n",
      "(Epoch 675 / 1000) train loss: 517.392571; val_loss: 5888.318646\n",
      "(Epoch 676 / 1000) train loss: 517.392571; val_loss: 5888.318646\n",
      "(Epoch 677 / 1000) train loss: 517.392571; val_loss: 5888.318646\n",
      "(Epoch 678 / 1000) train loss: 517.392571; val_loss: 5888.318646\n",
      "(Epoch 679 / 1000) train loss: 517.392571; val_loss: 5888.318646\n",
      "(Epoch 680 / 1000) train loss: 517.392571; val_loss: 5888.318646\n",
      "(Epoch 681 / 1000) train loss: 517.392571; val_loss: 5888.318646\n",
      "(Epoch 682 / 1000) train loss: 517.392571; val_loss: 5888.318646\n",
      "(Epoch 683 / 1000) train loss: 517.392571; val_loss: 5888.318646\n",
      "(Epoch 684 / 1000) train loss: 517.392571; val_loss: 5888.318646\n",
      "(Epoch 685 / 1000) train loss: 517.392571; val_loss: 5888.318646\n",
      "(Epoch 686 / 1000) train loss: 517.392571; val_loss: 5888.318646\n",
      "(Epoch 687 / 1000) train loss: 517.392571; val_loss: 5888.318646\n",
      "(Epoch 688 / 1000) train loss: 517.392571; val_loss: 5888.318646\n",
      "(Epoch 689 / 1000) train loss: 517.392571; val_loss: 5888.318646\n",
      "(Epoch 690 / 1000) train loss: 517.392571; val_loss: 5888.318646\n",
      "(Epoch 691 / 1000) train loss: 517.392571; val_loss: 5888.318646\n",
      "(Epoch 692 / 1000) train loss: 517.392571; val_loss: 5888.318646\n",
      "(Epoch 693 / 1000) train loss: 517.392571; val_loss: 5888.318646\n",
      "(Epoch 694 / 1000) train loss: 517.392571; val_loss: 5888.318646\n",
      "(Epoch 695 / 1000) train loss: 517.392571; val_loss: 5888.318646\n",
      "(Epoch 696 / 1000) train loss: 517.392571; val_loss: 5888.318646\n",
      "(Epoch 697 / 1000) train loss: 517.392571; val_loss: 5888.318646\n",
      "(Epoch 698 / 1000) train loss: 517.392571; val_loss: 5888.318646\n",
      "(Epoch 699 / 1000) train loss: 517.392571; val_loss: 5888.318646\n",
      "(Epoch 700 / 1000) train loss: 517.392571; val_loss: 5888.318646\n",
      "(Iteration 701 / 1000) loss: 516.729854\n",
      "(Epoch 701 / 1000) train loss: 517.392571; val_loss: 5888.318646\n",
      "(Epoch 702 / 1000) train loss: 517.392571; val_loss: 5888.318646\n",
      "(Epoch 703 / 1000) train loss: 517.392571; val_loss: 5888.318646\n",
      "(Epoch 704 / 1000) train loss: 517.392571; val_loss: 5888.318646\n",
      "(Epoch 705 / 1000) train loss: 517.392571; val_loss: 5888.318646\n",
      "(Epoch 706 / 1000) train loss: 517.392571; val_loss: 5888.318646\n",
      "(Epoch 707 / 1000) train loss: 517.392571; val_loss: 5888.318646\n",
      "(Epoch 708 / 1000) train loss: 517.392571; val_loss: 5888.318646\n",
      "(Epoch 709 / 1000) train loss: 517.392571; val_loss: 5888.318646\n",
      "(Epoch 710 / 1000) train loss: 517.392571; val_loss: 5888.318646\n",
      "(Epoch 711 / 1000) train loss: 517.392571; val_loss: 5888.318646\n",
      "(Epoch 712 / 1000) train loss: 517.392571; val_loss: 5888.318646\n",
      "(Epoch 713 / 1000) train loss: 517.392571; val_loss: 5888.318646\n",
      "(Epoch 714 / 1000) train loss: 517.392571; val_loss: 5888.318646\n",
      "(Epoch 715 / 1000) train loss: 517.392571; val_loss: 5888.318646\n",
      "(Epoch 716 / 1000) train loss: 517.392571; val_loss: 5888.318646\n",
      "(Epoch 717 / 1000) train loss: 517.392571; val_loss: 5888.318646\n",
      "(Epoch 718 / 1000) train loss: 517.392571; val_loss: 5888.318646\n",
      "(Epoch 719 / 1000) train loss: 517.392571; val_loss: 5888.318646\n",
      "(Epoch 720 / 1000) train loss: 517.392571; val_loss: 5888.318646\n",
      "(Epoch 721 / 1000) train loss: 517.392571; val_loss: 5888.318646\n",
      "(Epoch 722 / 1000) train loss: 517.392571; val_loss: 5888.318646\n",
      "(Epoch 723 / 1000) train loss: 517.392571; val_loss: 5888.318646\n",
      "(Epoch 724 / 1000) train loss: 517.392571; val_loss: 5888.318646\n",
      "(Epoch 725 / 1000) train loss: 517.392571; val_loss: 5888.318646\n",
      "(Epoch 726 / 1000) train loss: 517.392571; val_loss: 5888.318646\n",
      "(Epoch 727 / 1000) train loss: 517.392571; val_loss: 5888.318646\n",
      "(Epoch 728 / 1000) train loss: 517.392571; val_loss: 5888.318646\n",
      "(Epoch 729 / 1000) train loss: 517.392571; val_loss: 5888.318646\n",
      "(Epoch 730 / 1000) train loss: 517.392571; val_loss: 5888.318646\n",
      "(Epoch 731 / 1000) train loss: 517.392571; val_loss: 5888.318646\n",
      "(Epoch 732 / 1000) train loss: 517.392571; val_loss: 5888.318646"
     ]
    }
   ],
   "source": [
    "solver = Solver(submodel, data, classification=False,\n",
    "                update_rule='adam',\n",
    "                optim_config={\n",
    "                  'learning_rate': 1e-3,\n",
    "                },\n",
    "                lr_decay=0.95,\n",
    "                num_epochs=1000, batch_size=100,\n",
    "                print_every=100)\n",
    "solver.train()"
   ]
  },
  {
   "cell_type": "code",
   "execution_count": 13,
   "metadata": {
    "collapsed": false
   },
   "outputs": [
    {
     "name": "stdout",
     "output_type": "stream",
     "text": [
      "(Iteration 1 / 300) loss: 2.301971\n",
      "(Epoch 0 / 30) train acc: 0.137000; val_acc: 0.138525\n",
      "(Epoch 1 / 30) train acc: 0.282000; val_acc: 0.262898\n",
      "(Epoch 2 / 30) train acc: 0.591000; val_acc: 0.554508\n",
      "(Epoch 3 / 30) train acc: 0.680000; val_acc: 0.631915\n",
      "(Epoch 4 / 30) train acc: 0.745000; val_acc: 0.703407\n",
      "(Epoch 5 / 30) train acc: 0.794000; val_acc: 0.744034\n",
      "(Epoch 6 / 30) train acc: 0.840000; val_acc: 0.779763\n",
      "(Epoch 7 / 30) train acc: 0.866000; val_acc: 0.797729\n",
      "(Epoch 8 / 30) train acc: 0.883000; val_acc: 0.793203\n",
      "(Epoch 9 / 30) train acc: 0.897000; val_acc: 0.820847\n",
      "(Epoch 10 / 30) train acc: 0.919000; val_acc: 0.823220\n",
      "(Iteration 101 / 300) loss: 0.395248\n",
      "(Epoch 11 / 30) train acc: 0.920000; val_acc: 0.826119\n",
      "(Epoch 12 / 30) train acc: 0.935000; val_acc: 0.831322\n",
      "(Epoch 13 / 30) train acc: 0.948000; val_acc: 0.835932\n",
      "(Epoch 14 / 30) train acc: 0.959000; val_acc: 0.843136\n",
      "(Epoch 15 / 30) train acc: 0.960000; val_acc: 0.846949\n",
      "(Epoch 16 / 30) train acc: 0.964000; val_acc: 0.842966\n",
      "(Epoch 17 / 30) train acc: 0.973000; val_acc: 0.845186\n",
      "(Epoch 18 / 30) train acc: 0.973000; val_acc: 0.849661\n",
      "(Epoch 19 / 30) train acc: 0.982000; val_acc: 0.847695\n",
      "(Epoch 20 / 30) train acc: 0.983000; val_acc: 0.849186\n",
      "(Iteration 201 / 300) loss: 0.068887\n",
      "(Epoch 21 / 30) train acc: 0.981000; val_acc: 0.848915\n",
      "(Epoch 22 / 30) train acc: 0.989000; val_acc: 0.850492\n",
      "(Epoch 23 / 30) train acc: 0.991000; val_acc: 0.850695\n",
      "(Epoch 24 / 30) train acc: 0.994000; val_acc: 0.850712\n",
      "(Epoch 25 / 30) train acc: 0.994000; val_acc: 0.848644\n",
      "(Epoch 26 / 30) train acc: 0.995000; val_acc: 0.850000\n",
      "(Epoch 27 / 30) train acc: 0.998000; val_acc: 0.851644\n",
      "(Epoch 28 / 30) train acc: 0.995000; val_acc: 0.850932\n",
      "(Epoch 29 / 30) train acc: 0.997000; val_acc: 0.854949\n",
      "(Epoch 30 / 30) train acc: 0.997000; val_acc: 0.852831\n"
     ]
    }
   ],
   "source": [
    "X_train, X_test, y_train, y_test = train_test_split(X_data, y_data, train_size=1000)\n",
    "data = dict(X_train=X_train, X_val=X_test, y_train=y_train, y_val=y_test)\n",
    "\n",
    "init_scale = 2 / np.sqrt(28*28) \n",
    "model = AffineReluAffineNet(hidden_dims=[30, 30, 30], \n",
    "                          input_dim=28*28, \n",
    "                          num_classes=10, \n",
    "                          reg=0, \n",
    "                          weight_scale=init_scale)\n",
    "\n",
    "solver = Solver(model, data,\n",
    "                update_rule='adam',\n",
    "                optim_config={\n",
    "                  'learning_rate': 1e-3,\n",
    "                },\n",
    "                lr_decay=0.95,\n",
    "                num_epochs=30, batch_size=100,\n",
    "                print_every=100)\n",
    "solver.train()"
   ]
  },
  {
   "cell_type": "code",
   "execution_count": 14,
   "metadata": {
    "collapsed": false
   },
   "outputs": [
    {
     "name": "stdout",
     "output_type": "stream",
     "text": [
      "[(0, 'W1'), (0, 'W2'), (0, 'b1'), (0, 'b2'), (1, 'W1'), (1, 'W2'), (1, 'b1'), (1, 'b2'), (2, 'W1'), (2, 'W2'), (2, 'b1'), (2, 'b2'), (3, 'W'), (3, 'b')]\n"
     ]
    }
   ],
   "source": [
    "print(sorted(model.params.keys()))"
   ]
  },
  {
   "cell_type": "code",
   "execution_count": 15,
   "metadata": {
    "collapsed": false
   },
   "outputs": [
    {
     "name": "stdout",
     "output_type": "stream",
     "text": [
      "Running check with reg =  0\n",
      "Initial loss:  2.30194354405\n",
      "(0, 'W1') relative error: 6.31e-06\n",
      "(0, 'W2') relative error: 1.74e-06\n",
      "(0, 'b1') relative error: 9.31e-08\n",
      "(0, 'b2') relative error: 1.08e-07\n",
      "(1, 'W1') relative error: 4.79e-05\n",
      "(1, 'W2') relative error: 6.55e-06\n",
      "(1, 'b1') relative error: 2.07e-08\n",
      "(1, 'b2') relative error: 7.67e-09\n",
      "(2, 'W') relative error: 1.51e-06\n",
      "(2, 'b') relative error: 1.21e-10\n",
      "Running check with reg =  3.14\n",
      "Initial loss:  12.1133693468\n",
      "(0, 'W1') relative error: 1.17e-07\n",
      "(0, 'W2') relative error: 3.22e-08\n",
      "(0, 'b1') relative error: 2.69e-07\n",
      "(0, 'b2') relative error: 1.42e-07\n",
      "(1, 'W1') relative error: 1.61e-08\n",
      "(1, 'W2') relative error: 1.12e-07\n",
      "(1, 'b1') relative error: 2.20e-08\n",
      "(1, 'b2') relative error: 8.56e-08\n",
      "(2, 'W') relative error: 1.77e-08\n",
      "(2, 'b') relative error: 3.87e-10\n"
     ]
    }
   ],
   "source": [
    "N, D, H1, H2, C = 2, 15, 20, 30, 10\n",
    "X = np.random.randn(N, D)\n",
    "y = np.random.randint(C, size=(N,))\n",
    "\n",
    "for reg in [0, 3.14]:\n",
    "    print ('Running check with reg = ', reg)\n",
    "    model = AffineReluAffineNet([H1, H2], input_dim=D, num_classes=C,\n",
    "                            reg=reg, weight_scale=5e-2, dtype=np.float64)\n",
    "\n",
    "    loss, grads = model.loss(X, y)\n",
    "    print ('Initial loss: ', loss)\n",
    "\n",
    "    for name in sorted(grads):\n",
    "        f = lambda _: model.loss(X, y)[0]\n",
    "        grad_num = eval_numerical_gradient(f, model.params[name], verbose=False, h=1e-5)\n",
    "        print ('%s relative error: %.2e' % (name, rel_error(grad_num, grads[name])))"
   ]
  },
  {
   "cell_type": "code",
   "execution_count": 16,
   "metadata": {
    "collapsed": false
   },
   "outputs": [
    {
     "name": "stdout",
     "output_type": "stream",
     "text": [
      "(Iteration 1 / 16200) loss: 2.289934\n",
      "(Epoch 0 / 30) train acc: 0.118000; val_acc: 0.112833\n",
      "(Iteration 101 / 16200) loss: 0.498059\n",
      "(Iteration 201 / 16200) loss: 0.355993\n",
      "(Iteration 301 / 16200) loss: 0.254787\n",
      "(Iteration 401 / 16200) loss: 0.281160\n",
      "(Iteration 501 / 16200) loss: 0.175544\n",
      "(Epoch 1 / 30) train acc: 0.931000; val_acc: 0.931167\n",
      "(Iteration 601 / 16200) loss: 0.208472\n",
      "(Iteration 701 / 16200) loss: 0.136653\n",
      "(Iteration 801 / 16200) loss: 0.222881\n",
      "(Iteration 901 / 16200) loss: 0.086840\n",
      "(Iteration 1001 / 16200) loss: 0.254276\n",
      "(Epoch 2 / 30) train acc: 0.952000; val_acc: 0.945500\n",
      "(Iteration 1101 / 16200) loss: 0.081361\n",
      "(Iteration 1201 / 16200) loss: 0.306804\n",
      "(Iteration 1301 / 16200) loss: 0.160536\n",
      "(Iteration 1401 / 16200) loss: 0.136419\n",
      "(Iteration 1501 / 16200) loss: 0.163765\n",
      "(Iteration 1601 / 16200) loss: 0.164559\n",
      "(Epoch 3 / 30) train acc: 0.959000; val_acc: 0.954167\n",
      "(Iteration 1701 / 16200) loss: 0.175701\n",
      "(Iteration 1801 / 16200) loss: 0.199718\n",
      "(Iteration 1901 / 16200) loss: 0.107919\n",
      "(Iteration 2001 / 16200) loss: 0.184068\n",
      "(Iteration 2101 / 16200) loss: 0.148500\n",
      "(Epoch 4 / 30) train acc: 0.969000; val_acc: 0.962333\n",
      "(Iteration 2201 / 16200) loss: 0.094302\n",
      "(Iteration 2301 / 16200) loss: 0.114724\n",
      "(Iteration 2401 / 16200) loss: 0.135129\n",
      "(Iteration 2501 / 16200) loss: 0.101608\n",
      "(Iteration 2601 / 16200) loss: 0.083593\n",
      "(Epoch 5 / 30) train acc: 0.959000; val_acc: 0.962000\n",
      "(Iteration 2701 / 16200) loss: 0.106456\n",
      "(Iteration 2801 / 16200) loss: 0.109910\n",
      "(Iteration 2901 / 16200) loss: 0.089396\n",
      "(Iteration 3001 / 16200) loss: 0.038567\n",
      "(Iteration 3101 / 16200) loss: 0.206319\n",
      "(Iteration 3201 / 16200) loss: 0.045611\n",
      "(Epoch 6 / 30) train acc: 0.975000; val_acc: 0.957667\n",
      "(Iteration 3301 / 16200) loss: 0.114230\n",
      "(Iteration 3401 / 16200) loss: 0.090862\n",
      "(Iteration 3501 / 16200) loss: 0.088415\n",
      "(Iteration 3601 / 16200) loss: 0.050177\n",
      "(Iteration 3701 / 16200) loss: 0.053775\n",
      "(Epoch 7 / 30) train acc: 0.974000; val_acc: 0.955833\n",
      "(Iteration 3801 / 16200) loss: 0.078614\n",
      "(Iteration 3901 / 16200) loss: 0.233615\n",
      "(Iteration 4001 / 16200) loss: 0.059901\n",
      "(Iteration 4101 / 16200) loss: 0.030665\n",
      "(Iteration 4201 / 16200) loss: 0.124938\n",
      "(Iteration 4301 / 16200) loss: 0.033121\n",
      "(Epoch 8 / 30) train acc: 0.980000; val_acc: 0.963500\n",
      "(Iteration 4401 / 16200) loss: 0.089034\n",
      "(Iteration 4501 / 16200) loss: 0.061771\n",
      "(Iteration 4601 / 16200) loss: 0.117049\n",
      "(Iteration 4701 / 16200) loss: 0.061773\n",
      "(Iteration 4801 / 16200) loss: 0.061381\n",
      "(Epoch 9 / 30) train acc: 0.973000; val_acc: 0.959500\n",
      "(Iteration 4901 / 16200) loss: 0.057288\n",
      "(Iteration 5001 / 16200) loss: 0.072382\n",
      "(Iteration 5101 / 16200) loss: 0.033722\n",
      "(Iteration 5201 / 16200) loss: 0.059934\n",
      "(Iteration 5301 / 16200) loss: 0.111482\n",
      "(Epoch 10 / 30) train acc: 0.973000; val_acc: 0.958667\n",
      "(Iteration 5401 / 16200) loss: 0.018403\n",
      "(Iteration 5501 / 16200) loss: 0.090765\n",
      "(Iteration 5601 / 16200) loss: 0.085855\n",
      "(Iteration 5701 / 16200) loss: 0.034460\n",
      "(Iteration 5801 / 16200) loss: 0.051774\n",
      "(Iteration 5901 / 16200) loss: 0.012666\n",
      "(Epoch 11 / 30) train acc: 0.989000; val_acc: 0.968500\n",
      "(Iteration 6001 / 16200) loss: 0.055220\n",
      "(Iteration 6101 / 16200) loss: 0.013023\n",
      "(Iteration 6201 / 16200) loss: 0.005064\n",
      "(Iteration 6301 / 16200) loss: 0.029431\n",
      "(Iteration 6401 / 16200) loss: 0.049590\n",
      "(Epoch 12 / 30) train acc: 0.984000; val_acc: 0.968167\n",
      "(Iteration 6501 / 16200) loss: 0.067374\n",
      "(Iteration 6601 / 16200) loss: 0.009733\n",
      "(Iteration 6701 / 16200) loss: 0.117837\n",
      "(Iteration 6801 / 16200) loss: 0.107327\n",
      "(Iteration 6901 / 16200) loss: 0.047718\n",
      "(Iteration 7001 / 16200) loss: 0.054443\n",
      "(Epoch 13 / 30) train acc: 0.987000; val_acc: 0.963833\n",
      "(Iteration 7101 / 16200) loss: 0.056292\n",
      "(Iteration 7201 / 16200) loss: 0.004012\n",
      "(Iteration 7301 / 16200) loss: 0.024809\n",
      "(Iteration 7401 / 16200) loss: 0.051720\n",
      "(Iteration 7501 / 16200) loss: 0.014572\n",
      "(Epoch 14 / 30) train acc: 0.990000; val_acc: 0.968167\n",
      "(Iteration 7601 / 16200) loss: 0.036190\n",
      "(Iteration 7701 / 16200) loss: 0.001646\n",
      "(Iteration 7801 / 16200) loss: 0.009762\n",
      "(Iteration 7901 / 16200) loss: 0.022916\n",
      "(Iteration 8001 / 16200) loss: 0.004112\n",
      "(Epoch 15 / 30) train acc: 0.985000; val_acc: 0.967833\n",
      "(Iteration 8101 / 16200) loss: 0.022423\n",
      "(Iteration 8201 / 16200) loss: 0.037498\n",
      "(Iteration 8301 / 16200) loss: 0.028538\n",
      "(Iteration 8401 / 16200) loss: 0.056206\n",
      "(Iteration 8501 / 16200) loss: 0.074757\n",
      "(Iteration 8601 / 16200) loss: 0.078978\n",
      "(Epoch 16 / 30) train acc: 0.989000; val_acc: 0.969167\n",
      "(Iteration 8701 / 16200) loss: 0.011365\n",
      "(Iteration 8801 / 16200) loss: 0.016664\n",
      "(Iteration 8901 / 16200) loss: 0.101804\n",
      "(Iteration 9001 / 16200) loss: 0.005447\n",
      "(Iteration 9101 / 16200) loss: 0.018516\n",
      "(Epoch 17 / 30) train acc: 0.992000; val_acc: 0.968833\n",
      "(Iteration 9201 / 16200) loss: 0.038017\n",
      "(Iteration 9301 / 16200) loss: 0.041796\n",
      "(Iteration 9401 / 16200) loss: 0.023535\n",
      "(Iteration 9501 / 16200) loss: 0.035973\n",
      "(Iteration 9601 / 16200) loss: 0.044234\n",
      "(Iteration 9701 / 16200) loss: 0.033446\n",
      "(Epoch 18 / 30) train acc: 0.993000; val_acc: 0.969833\n",
      "(Iteration 9801 / 16200) loss: 0.044387\n",
      "(Iteration 9901 / 16200) loss: 0.130114\n",
      "(Iteration 10001 / 16200) loss: 0.170798\n",
      "(Iteration 10101 / 16200) loss: 0.017864\n",
      "(Iteration 10201 / 16200) loss: 0.006515\n",
      "(Epoch 19 / 30) train acc: 0.992000; val_acc: 0.968167\n",
      "(Iteration 10301 / 16200) loss: 0.017601\n",
      "(Iteration 10401 / 16200) loss: 0.010299\n",
      "(Iteration 10501 / 16200) loss: 0.065253\n",
      "(Iteration 10601 / 16200) loss: 0.024475\n",
      "(Iteration 10701 / 16200) loss: 0.030334\n",
      "(Epoch 20 / 30) train acc: 0.993000; val_acc: 0.968500\n",
      "(Iteration 10801 / 16200) loss: 0.022097\n",
      "(Iteration 10901 / 16200) loss: 0.005919\n",
      "(Iteration 11001 / 16200) loss: 0.027546\n",
      "(Iteration 11101 / 16200) loss: 0.068402\n",
      "(Iteration 11201 / 16200) loss: 0.052039\n",
      "(Iteration 11301 / 16200) loss: 0.026964\n",
      "(Epoch 21 / 30) train acc: 0.993000; val_acc: 0.970333\n",
      "(Iteration 11401 / 16200) loss: 0.010748\n",
      "(Iteration 11501 / 16200) loss: 0.043585\n",
      "(Iteration 11601 / 16200) loss: 0.006943\n",
      "(Iteration 11701 / 16200) loss: 0.010369\n",
      "(Iteration 11801 / 16200) loss: 0.021803\n",
      "(Epoch 22 / 30) train acc: 0.992000; val_acc: 0.963833\n",
      "(Iteration 11901 / 16200) loss: 0.010776\n",
      "(Iteration 12001 / 16200) loss: 0.077872\n",
      "(Iteration 12101 / 16200) loss: 0.020978\n",
      "(Iteration 12201 / 16200) loss: 0.016578\n",
      "(Iteration 12301 / 16200) loss: 0.045015\n",
      "(Iteration 12401 / 16200) loss: 0.007802\n",
      "(Epoch 23 / 30) train acc: 0.993000; val_acc: 0.968667\n",
      "(Iteration 12501 / 16200) loss: 0.014112\n",
      "(Iteration 12601 / 16200) loss: 0.065113\n",
      "(Iteration 12701 / 16200) loss: 0.002806\n",
      "(Iteration 12801 / 16200) loss: 0.045317\n",
      "(Iteration 12901 / 16200) loss: 0.027531\n",
      "(Epoch 24 / 30) train acc: 0.989000; val_acc: 0.967167\n",
      "(Iteration 13001 / 16200) loss: 0.007213\n",
      "(Iteration 13101 / 16200) loss: 0.005662\n",
      "(Iteration 13201 / 16200) loss: 0.007752\n",
      "(Iteration 13301 / 16200) loss: 0.046443\n",
      "(Iteration 13401 / 16200) loss: 0.047933\n",
      "(Epoch 25 / 30) train acc: 0.990000; val_acc: 0.965000\n",
      "(Iteration 13501 / 16200) loss: 0.006396\n",
      "(Iteration 13601 / 16200) loss: 0.096107\n",
      "(Iteration 13701 / 16200) loss: 0.026247\n",
      "(Iteration 13801 / 16200) loss: 0.016074\n",
      "(Iteration 13901 / 16200) loss: 0.025935\n",
      "(Iteration 14001 / 16200) loss: 0.012918\n",
      "(Epoch 26 / 30) train acc: 0.989000; val_acc: 0.967833\n",
      "(Iteration 14101 / 16200) loss: 0.010701\n",
      "(Iteration 14201 / 16200) loss: 0.039850\n",
      "(Iteration 14301 / 16200) loss: 0.006207\n",
      "(Iteration 14401 / 16200) loss: 0.013887\n",
      "(Iteration 14501 / 16200) loss: 0.002156\n",
      "(Epoch 27 / 30) train acc: 0.993000; val_acc: 0.969500\n",
      "(Iteration 14601 / 16200) loss: 0.009997\n",
      "(Iteration 14701 / 16200) loss: 0.002152\n",
      "(Iteration 14801 / 16200) loss: 0.001221\n",
      "(Iteration 14901 / 16200) loss: 0.002964\n",
      "(Iteration 15001 / 16200) loss: 0.105469\n",
      "(Iteration 15101 / 16200) loss: 0.002449\n",
      "(Epoch 28 / 30) train acc: 0.998000; val_acc: 0.969833\n",
      "(Iteration 15201 / 16200) loss: 0.002675\n",
      "(Iteration 15301 / 16200) loss: 0.000300\n",
      "(Iteration 15401 / 16200) loss: 0.057870\n",
      "(Iteration 15501 / 16200) loss: 0.005588\n",
      "(Iteration 15601 / 16200) loss: 0.066467\n",
      "(Epoch 29 / 30) train acc: 0.991000; val_acc: 0.969333\n",
      "(Iteration 15701 / 16200) loss: 0.006061\n",
      "(Iteration 15801 / 16200) loss: 0.003609\n",
      "(Iteration 15901 / 16200) loss: 0.003295\n",
      "(Iteration 16001 / 16200) loss: 0.006802\n",
      "(Iteration 16101 / 16200) loss: 0.027013\n",
      "(Epoch 30 / 30) train acc: 0.996000; val_acc: 0.968333\n"
     ]
    }
   ],
   "source": [
    "X_train, X_test, y_train, y_test = train_test_split(X_data, y_data, train_size=0.9)\n",
    "data = dict(X_train=X_train, X_val=X_test, y_train=y_train, y_val=y_test)\n",
    "\n",
    "# for it in range(30):\n",
    "init_scale = 2 / np.sqrt(28*28) \n",
    "model = AffineReluAffineNet(hidden_dims=[30, 25, 30], \n",
    "                          input_dim=28*28, \n",
    "                          num_classes=10, \n",
    "                          reg=0, \n",
    "                          weight_scale=init_scale)\n",
    "\n",
    "solver = Solver(model, data,\n",
    "                update_rule='adam',\n",
    "                optim_config={\n",
    "                  'learning_rate': 1e-3,\n",
    "                },\n",
    "                lr_decay=0.95,\n",
    "                num_epochs=30, batch_size=100,\n",
    "                print_every=100)\n",
    "solver.train()"
   ]
  },
  {
   "cell_type": "code",
   "execution_count": 33,
   "metadata": {
    "collapsed": true
   },
   "outputs": [],
   "source": [
    "submodel = model[0:3]"
   ]
  },
  {
   "cell_type": "code",
   "execution_count": 34,
   "metadata": {
    "collapsed": false
   },
   "outputs": [
    {
     "data": {
      "text/plain": [
       "[<models.layers.AffineReluAffine at 0x11954ea90>,\n",
       " <models.layers.AffineReluAffine at 0x11954e198>,\n",
       " <models.layers.AffineReluAffine at 0x119552dd8>]"
      ]
     },
     "execution_count": 34,
     "metadata": {},
     "output_type": "execute_result"
    }
   ],
   "source": []
  }
 ],
 "metadata": {
  "kernelspec": {
   "display_name": "Python 3",
   "language": "python",
   "name": "python3"
  },
  "language_info": {
   "codemirror_mode": {
    "name": "ipython",
    "version": 3
   },
   "file_extension": ".py",
   "mimetype": "text/x-python",
   "name": "python",
   "nbconvert_exporter": "python",
   "pygments_lexer": "ipython3",
   "version": "3.5.0"
  }
 },
 "nbformat": 4,
 "nbformat_minor": 0
}
