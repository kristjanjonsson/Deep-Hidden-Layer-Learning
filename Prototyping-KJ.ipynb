{
 "cells": [
  {
   "cell_type": "code",
   "execution_count": 1,
   "metadata": {
    "collapsed": false
   },
   "outputs": [],
   "source": [
    "%matplotlib inline\n",
    "%load_ext autoreload\n",
    "%autoreload 2"
   ]
  },
  {
   "cell_type": "code",
   "execution_count": 2,
   "metadata": {
    "collapsed": false
   },
   "outputs": [
    {
     "name": "stderr",
     "output_type": "stream",
     "text": [
      "/Users/kristjanjonsson/Development/Notebooks/venv/lib/python3.5/site-packages/IPython/html.py:14: ShimWarning: The `IPython.html` package has been deprecated. You should import from `notebook` instead. `IPython.html.widgets` has moved to `ipywidgets`.\n",
      "  \"`IPython.html.widgets` has moved to `ipywidgets`.\", ShimWarning)\n"
     ]
    }
   ],
   "source": [
    "import gzip\n",
    "\n",
    "import numpy as np\n",
    "import scipy as scp\n",
    "import matplotlib.pyplot as plt\n",
    "import seaborn as sns\n",
    "import sklearn\n",
    "from sklearn.cross_validation import train_test_split\n",
    "\n",
    "from utils import effectiveDimension, factorize, gram, hiddenTargets"
   ]
  },
  {
   "cell_type": "markdown",
   "metadata": {},
   "source": [
    "## MNIST dataset"
   ]
  },
  {
   "cell_type": "code",
   "execution_count": 61,
   "metadata": {
    "collapsed": true
   },
   "outputs": [],
   "source": [
    "def parse_img(filename):\n",
    "    '''Parses mnist images in filename.'''\n",
    "    f = gzip.open(filename)\n",
    "    arr = np.frombuffer(f.read(), dtype=np.dtype('>u1'), offset=16)\n",
    "    f.close()\n",
    "    return arr.reshape((-1, 28*28))\n",
    "\n",
    "def parse_label(filename):\n",
    "    '''Parses mnist labels in filename.'''\n",
    "    f = gzip.open(filename)\n",
    "    arr = np.frombuffer(f.read(), dtype=np.dtype('>u1'), offset=8)\n",
    "    f.close()\n",
    "    return arr\n",
    "\n",
    "def parseNoisyExamples(filename):\n",
    "    with open(filename) as f:\n",
    "        arr = np.loadtxt(filename, dtype=np.float32)\n",
    "        imgs = arr[:,:28*28]\n",
    "        labels = arr[:,28*28]\n",
    "        labels = labels.astype(np.int)\n",
    "    return (imgs, labels)"
   ]
  },
  {
   "cell_type": "code",
   "execution_count": 4,
   "metadata": {
    "collapsed": false
   },
   "outputs": [
    {
     "name": "stdout",
     "output_type": "stream",
     "text": [
      "(50000, 784) float32\n",
      "(50000,) int64\n"
     ]
    }
   ],
   "source": [
    "(X_data, y_data) = parseNoisyExamples('mnist data/mnist_background_images_test.amat')\n",
    "print(X_data.shape, X_data.dtype)\n",
    "print(y_data.shape, y_data.dtype)"
   ]
  },
  {
   "cell_type": "code",
   "execution_count": 62,
   "metadata": {
    "collapsed": false
   },
   "outputs": [
    {
     "name": "stdout",
     "output_type": "stream",
     "text": [
      "(60000, 784) uint8\n",
      "(60000,) uint8\n"
     ]
    }
   ],
   "source": [
    "X_data = parse_img('mnist data/train-images-idx3-ubyte.gz')\n",
    "y_data = parse_label('mnist data/train-labels-idx1-ubyte.gz')\n",
    "print(X_data.shape, X_data.dtype)\n",
    "print(y_data.shape, y_data.dtype)"
   ]
  },
  {
   "cell_type": "code",
   "execution_count": 63,
   "metadata": {
    "collapsed": false
   },
   "outputs": [
    {
     "name": "stdout",
     "output_type": "stream",
     "text": [
      "Label = 7\n"
     ]
    },
    {
     "data": {
      "image/png": "[encoded data removed]",
      "text/plain": [
       "<matplotlib.figure.Figure at 0x14a118080>"
      ]
     },
     "metadata": {},
     "output_type": "display_data"
    }
   ],
   "source": [
    "def plot_img(x):\n",
    "    plt.figure(figsize=(3, 3))\n",
    "    plt.imshow(x.reshape((28, 28)), cmap=plt.cm.gray_r)\n",
    "    plt.grid(False)\n",
    "    plt.tick_params(labelbottom=False, labelleft=False)\n",
    "\n",
    "idx = np.random.randint(0, len(X_data))\n",
    "plot_img(X_data[idx])\n",
    "print('Label = ' + str(y_data[idx]))"
   ]
  },
  {
   "cell_type": "code",
   "execution_count": 64,
   "metadata": {
    "collapsed": false
   },
   "outputs": [
    {
     "name": "stdout",
     "output_type": "stream",
     "text": [
      "(6131, 784)\n",
      "(5851, 784)\n",
      "\n",
      "(11982, 784)\n",
      "(11982,)\n",
      "\n"
     ]
    }
   ],
   "source": [
    "# We'll use the 3s and 8s.\n",
    "X3 = X_data[y_data == 3]\n",
    "X8 = X_data[y_data == 8]\n",
    "print(X3.shape)\n",
    "print(X8.shape)\n",
    "print()\n",
    "\n",
    "X = np.vstack([X3, X8])\n",
    "y = np.concatenate([[-1] * len(X3), [1] * len(X8)])\n",
    "print(X.shape)\n",
    "print(y.shape)\n",
    "print()"
   ]
  },
  {
   "cell_type": "code",
   "execution_count": 65,
   "metadata": {
    "collapsed": false
   },
   "outputs": [],
   "source": [
    "def preprocessX(X):\n",
    "    m = np.mean(X, axis=0)\n",
    "    X = X - m\n",
    "    norms = np.linalg.norm(X, axis=1)\n",
    "    mNorm = np.mean(norms)\n",
    "    X = X / mNorm\n",
    "    return X\n",
    "\n",
    "X = preprocessX(X.astype(float))\n",
    "y = y.astype(float)"
   ]
  },
  {
   "cell_type": "code",
   "execution_count": 27,
   "metadata": {
    "collapsed": false
   },
   "outputs": [
    {
     "name": "stdout",
     "output_type": "stream",
     "text": [
      "(6131, 784)\n",
      "(5851, 784)\n",
      "\n",
      "(11982, 784)\n",
      "(11982,)\n",
      "\n",
      "(11970, 784)\n",
      "(11970,)\n",
      "(12, 784)\n",
      "(12,)\n"
     ]
    }
   ],
   "source": [
    "X_train, X_test, y_train, y_test = train_test_split(X, y, train_size=0.999)\n",
    "print(X_train.shape)\n",
    "print(y_train.shape)\n",
    "print(X_test.shape)\n",
    "print(y_test.shape)"
   ]
  },
  {
   "cell_type": "code",
   "execution_count": 67,
   "metadata": {
    "collapsed": false
   },
   "outputs": [
    {
     "name": "stdout",
     "output_type": "stream",
     "text": [
      "Label of sample image is -1\n"
     ]
    },
    {
     "data": {
      "image/png": "[encoded data removed]",
      "text/plain": [
       "<matplotlib.figure.Figure at 0x107be6438>"
      ]
     },
     "metadata": {},
     "output_type": "display_data"
    }
   ],
   "source": [
    "# Sanity check.\n",
    "sampleImgIdx = np.random.randint(0, len(X_train))\n",
    "sampleImg = X_train[sampleImgIdx]\n",
    "sampleLabel = y_train[sampleImgIdx]\n",
    "print('Label of sample image is ' + str(sampleLabel))\n",
    "plot_img(sampleImg)"
   ]
  },
  {
   "cell_type": "markdown",
   "metadata": {},
   "source": [
    "## Next steps\n",
    "1. Plot eigenvalues as a function of i where i is the ith largest eigenvalue. Do for different $\\alpha \\in [0, 1]$\n",
    "1. Plot $d_{95}$ (effective dimension) as a function of $\\alpha$.\n",
    "1. Logistic (or SVM) error as a function of $\\alpha$. (note hidden targest are input an label targets). \n",
    "\n",
    "Question:\n",
    "Throw away eigenvalues below some threshold. Not the same as $d_{95}$"
   ]
  },
  {
   "cell_type": "markdown",
   "metadata": {},
   "source": [
    "## IO function\n",
    "To help with saving and loading experiments."
   ]
  },
  {
   "cell_type": "code",
   "execution_count": 66,
   "metadata": {
    "collapsed": false
   },
   "outputs": [],
   "source": [
    "from time import time\n",
    "import os\n",
    "from os.path import isdir, join\n",
    "from glob import fnmatch\n",
    "\n",
    "def filePrefix(alpha):\n",
    "    '''x is a float.'''\n",
    "    s = '{0:.12f}'.format(alpha)\n",
    "    prefix = s.replace('.', '_')\n",
    "    return 'alpha_' + prefix + '_'\n",
    "\n",
    "\n",
    "def createSaveDirectory():\n",
    "    '''Creates a unique directory in data/ based on timestamp.'''\n",
    "    directoryName = str(int(time()))\n",
    "    path = join('data', directoryName)\n",
    "    !mkdir $path\n",
    "    assert isdir(path), 'Directory does not exist\\n{0}'.format(path)\n",
    "    return path\n",
    "\n",
    "    \n",
    "def save(arr, alpha, path, which): \n",
    "    '''\n",
    "    arr: The numpy array to save.\n",
    "    alpha: The alpha associated with this calculation. See above definition.\n",
    "    path: the directory to store the data.\n",
    "    which: either \"eigvals\" or \"H\".\n",
    "    \n",
    "    returns an iterator of stored eigvals or H.\n",
    "    '''\n",
    "    fname = join(path, filePrefix(alpha) + which)\n",
    "    np.save(fname, arr)\n",
    "    print('Saved: ' + fname)\n",
    "  \n",
    "\n",
    "def load(path, which):\n",
    "    '''\n",
    "    path: the directory of the data.\n",
    "    which: either \"eigvals\" or \"H\".\n",
    "    \n",
    "    returns an iterator of stored eigvals or H.\n",
    "    '''\n",
    "    fnames = fnmatch.filter(os.listdir(path), '*{0}*'.format(which))\n",
    "    print('Loading: {0}, from {1}'.format(','.join(sorted(fnames)), path))\n",
    "    for fname in sorted(fnames):\n",
    "        fullPath = join(path, fname)\n",
    "        \n",
    "        yield np.load(fullPath)\n",
    "        \n"
   ]
  },
  {
   "cell_type": "code",
   "execution_count": 67,
   "metadata": {
    "collapsed": false
   },
   "outputs": [
    {
     "name": "stdout",
     "output_type": "stream",
     "text": [
      "Saving results in dir: data/1457076696\n",
      "Saved: data/1457076696/alpha_0_000000000010_H\n",
      "Saved: data/1457076696/alpha_0_000000000010_eigvals\n",
      "Saved: data/1457076696/alpha_0_000000000030_H\n",
      "Saved: data/1457076696/alpha_0_000000000030_eigvals\n",
      "Saved: data/1457076696/alpha_0_000000000100_H\n",
      "Saved: data/1457076696/alpha_0_000000000100_eigvals\n",
      "Saved: data/1457076696/alpha_0_000000000300_H\n",
      "Saved: data/1457076696/alpha_0_000000000300_eigvals\n",
      "Saved: data/1457076696/alpha_0_000000001000_H\n",
      "Saved: data/1457076696/alpha_0_000000001000_eigvals\n",
      "Saved: data/1457076696/alpha_0_000000003000_H\n",
      "Saved: data/1457076696/alpha_0_000000003000_eigvals\n"
     ]
    }
   ],
   "source": [
    "def computeHiddenTargets(alphas, X, y):\n",
    "    XG = gram(X)\n",
    "    YG = np.outer(y, y)\n",
    "\n",
    "    path = createSaveDirectory()\n",
    "    print('Saving results in dir: ' + path)\n",
    "    np.save(join(path, 'alphas'), alphas)\n",
    "    np.save(join(path, 'X'), X)\n",
    "    np.save(join(path, 'y'), y)\n",
    "    for alpha in alphas:\n",
    "        H, eigvals = hiddenTargets(XG, YG, alpha)\n",
    "        save(H, alpha, path, 'H')\n",
    "        save(eigvals, alpha, path, 'eigvals')\n",
    "\n",
    "alphas = np.array([1e-11, 3e-11, 1e-10, 3e-10, 1e-9, 3e-9])\n",
    "computeHiddenTargets(alphas, X, y)"
   ]
  },
  {
   "cell_type": "code",
   "execution_count": 83,
   "metadata": {
    "collapsed": true
   },
   "outputs": [],
   "source": [
    "experiment_number = 'mnist_1456811360'"
   ]
  },
  {
   "cell_type": "code",
   "execution_count": 86,
   "metadata": {
    "collapsed": false
   },
   "outputs": [
    {
     "name": "stdout",
     "output_type": "stream",
     "text": [
      "Loading: alpha_0_000000000010_eigvals.npy,alpha_0_000000000030_eigvals.npy,alpha_0_000000000100_eigvals.npy,alpha_0_000000000300_eigvals.npy,alpha_0_000000001000_eigvals.npy,alpha_0_000000003000_eigvals.npy,alpha_0_00000001_eigvals.npy,alpha_0_00000003_eigvals.npy,alpha_0_0000001_eigvals.npy,alpha_0_0000003_eigvals.npy,alpha_0_000001_eigvals.npy,alpha_0_000003_eigvals.npy,alpha_0_000010_eigvals.npy,alpha_0_000030_eigvals.npy,alpha_0_000100_eigvals.npy,alpha_0_000300_eigvals.npy,alpha_0_001000_eigvals.npy,alpha_0_003000_eigvals.npy,alpha_0_010000_eigvals.npy,alpha_0_030000_eigvals.npy, from data/mnist_1456811360/\n"
     ]
    },
    {
     "data": {
      "image/png": "[encoded data removed]",
      "text/plain": [
       "<matplotlib.figure.Figure at 0x148d35c88>"
      ]
     },
     "metadata": {},
     "output_type": "display_data"
    }
   ],
   "source": [
    "eigvals = load('data/{0}/'.format(experiment_number), which='eigvals')\n",
    "# alphas = np.arange(0, 1.05, 0.05)\n",
    "p95 = np.array([effectiveDimension(eigval, p=0.95) for eigval in eigvals])\n",
    "plt.plot(alphas, p95);\n"
   ]
  },
  {
   "cell_type": "code",
   "execution_count": 18,
   "metadata": {
    "collapsed": false
   },
   "outputs": [
    {
     "name": "stdout",
     "output_type": "stream",
     "text": [
      "Loading: alpha_0_0000000001_eigvals.npy,alpha_0_0000000003_eigvals.npy,alpha_0_0000000010_eigvals.npy,alpha_0_0000000030_eigvals.npy,alpha_0_0000000100_eigvals.npy,alpha_0_0000000300_eigvals.npy,alpha_0_0000001000_eigvals.npy,alpha_0_0000003000_eigvals.npy,alpha_0_0000010000_eigvals.npy,alpha_0_0000030000_eigvals.npy, from data/1456993244/\n"
     ]
    },
    {
     "data": {
      "image/png": "[encoded data removed]",
      "text/plain": [
       "<matplotlib.figure.Figure at 0x148a89518>"
      ]
     },
     "metadata": {},
     "output_type": "display_data"
    }
   ],
   "source": [
    "plt.hold(True)\n",
    "for eigvals in load('data/{0}/'.format(experiment_number), which='eigvals'):\n",
    "    plt.plot(eigvals[:30])\n",
    "    \n",
    "plt.hold(False)"
   ]
  },
  {
   "cell_type": "code",
   "execution_count": 51,
   "metadata": {
    "collapsed": false
   },
   "outputs": [
    {
     "name": "stdout",
     "output_type": "stream",
     "text": [
      "Loading: alpha_0_00000001_eigvals.npy,alpha_0_00000003_eigvals.npy,alpha_0_0000001_eigvals.npy,alpha_0_0000003_eigvals.npy,alpha_0_000001_eigvals.npy,alpha_0_000003_eigvals.npy, from data/1456811360/\n"
     ]
    },
    {
     "data": {
      "image/png": "[encoded data removed]",
      "text/plain": [
       "<matplotlib.figure.Figure at 0x1120a30f0>"
      ]
     },
     "metadata": {},
     "output_type": "display_data"
    }
   ],
   "source": [
    "plt.xlim(0, 10)\n",
    "plt.hold(True)\n",
    "for eigvals in load('data/{0}/'.format(experiment_number), which='eigvals'):\n",
    "    plt.plot(eigvals / eigvals.sum())\n",
    "plt.hold(False);"
   ]
  },
  {
   "cell_type": "code",
   "execution_count": 26,
   "metadata": {
    "collapsed": true
   },
   "outputs": [],
   "source": [
    "H, eigvals = hiddenTargets(gram(X), np.outer(y, y), 0)"
   ]
  },
  {
   "cell_type": "code",
   "execution_count": 27,
   "metadata": {
    "collapsed": false
   },
   "outputs": [
    {
     "data": {
      "text/plain": [
       "0.08984533984533985"
      ]
     },
     "execution_count": 27,
     "metadata": {},
     "output_type": "execute_result"
    }
   ],
   "source": [
    "# On alpha = 0\n",
    "model = LogisticRegression(C=1e6)\n",
    "model.fit(H, y)\n",
    "(model.predict(H) != y).mean()"
   ]
  },
  {
   "cell_type": "code",
   "execution_count": 25,
   "metadata": {
    "collapsed": false
   },
   "outputs": [
    {
     "data": {
      "text/plain": [
       "0.089743589743589744"
      ]
     },
     "execution_count": 25,
     "metadata": {},
     "output_type": "execute_result"
    }
   ],
   "source": [
    "# On raw training data\n",
    "model = LogisticRegression(C=1e6)\n",
    "model.fit(X, y)\n",
    "(model.predict(X) != y).mean()"
   ]
  },
  {
   "cell_type": "code",
   "execution_count": 87,
   "metadata": {
    "collapsed": false
   },
   "outputs": [
    {
     "name": "stdout",
     "output_type": "stream",
     "text": [
      "Loading: alpha_0_000000000010_H.npy,alpha_0_000000000030_H.npy,alpha_0_000000000100_H.npy,alpha_0_000000000300_H.npy,alpha_0_000000001000_H.npy,alpha_0_000000003000_H.npy,alpha_0_00000001_H.npy,alpha_0_00000003_H.npy,alpha_0_0000001_H.npy,alpha_0_0000003_H.npy,alpha_0_000001_H.npy,alpha_0_000003_H.npy,alpha_0_000010_H.npy,alpha_0_000030_H.npy,alpha_0_000100_H.npy,alpha_0_000300_H.npy,alpha_0_001000_H.npy,alpha_0_003000_H.npy,alpha_0_010000_H.npy,alpha_0_030000_H.npy, from data/mnist_1456811360/\n",
      "(11982, 613)\n",
      "(11982, 613)\n",
      "(11982, 613)\n",
      "(11982, 613)\n",
      "(11982, 613)\n",
      "(11982, 613)\n",
      "(11982, 613)\n",
      "(11982, 613)\n",
      "(11982, 613)\n",
      "(11982, 613)\n",
      "(11982, 613)\n",
      "(11982, 613)\n",
      "(11982, 613)\n",
      "(11982, 613)\n",
      "(11982, 613)\n",
      "(11982, 613)\n",
      "(11982, 613)\n",
      "(11982, 613)\n",
      "(11982, 613)\n",
      "(11982, 613)\n"
     ]
    }
   ],
   "source": [
    "from sklearn.linear_model import LogisticRegression\n",
    "\n",
    "error_train = []\n",
    "for H in load('data/{0}/'.format(experiment_number), which='H'):\n",
    "    print(H.shape)\n",
    "    model = LogisticRegression(C=1e6)\n",
    "    model.fit(H, y)\n",
    "    error_train.append((model.predict(H) != y).mean())"
   ]
  },
  {
   "cell_type": "markdown",
   "metadata": {},
   "source": [
    "Trained logistic regression on (H, y) for different $\\alpha$. The following are the error rates.\n",
    "![asdf](figures/error_alpha_mnist.png)\n",
    "\n",
    "On a harder training set where we have background images these are the error rates. Base error on raw training set (X, y) was 9%.\n",
    "![asdf](figures/error_alpha_background.png)\n"
   ]
  },
  {
   "cell_type": "code",
   "execution_count": 90,
   "metadata": {
    "collapsed": false
   },
   "outputs": [
    {
     "data": {
      "image/png": "[encoded data removed]",
      "text/plain": [
       "<matplotlib.figure.Figure at 0x149a7bba8>"
      ]
     },
     "metadata": {},
     "output_type": "display_data"
    }
   ],
   "source": [
    "plt.semilogx(alphas[:12], error_train[:12])\n",
    "plt.xlabel(r'$\\alpha$')\n",
    "plt.ylabel('Error rate')\n",
    "plt.title('MNIST, logistic regression error rate')\n",
    "plt.savefig('figures/error_alpha_mnist.png')"
   ]
  },
  {
   "cell_type": "markdown",
   "metadata": {},
   "source": [
    "Schedule Rob\n",
    "Mondays: Anytime\n",
    "Wednesdays: anytime. \n",
    "Thursdays: 12:30 - 1:45, 3:30 - 4:45\n",
    "Fridays: After surfing."
   ]
  },
  {
   "cell_type": "markdown",
   "metadata": {},
   "source": [
    "# First attempt at model.\n",
    "Each layer is affine - relu - affine\n",
    "\n",
    "Gradient check the layers."
   ]
  },
  {
   "cell_type": "code",
   "execution_count": 126,
   "metadata": {
    "collapsed": false
   },
   "outputs": [],
   "source": [
    "from models.nets import AffineReluAffineNet\n",
    "from models.gradient_check import eval_numerical_gradient, eval_numerical_gradient_array\n",
    "from models.solver import Solver\n",
    "\n",
    "def rel_error(x, y):\n",
    "  \"\"\" returns relative error \"\"\"\n",
    "  return np.max(np.abs(x - y) / (np.maximum(1e-8, np.abs(x) + np.abs(y))))"
   ]
  },
  {
   "cell_type": "code",
   "execution_count": 92,
   "metadata": {
    "collapsed": false
   },
   "outputs": [
    {
     "ename": "ImportError",
     "evalue": "No module named 'models.layer_utils'",
     "output_type": "error",
     "traceback": [
      "\u001b[0;31m---------------------------------------------------------------------------\u001b[0m",
      "\u001b[0;31mImportError\u001b[0m                               Traceback (most recent call last)",
      "\u001b[0;32m<ipython-input-92-37a2938c6a54>\u001b[0m in \u001b[0;36m<module>\u001b[0;34m()\u001b[0m\n\u001b[1;32m      1\u001b[0m \u001b[0;31m# This needs to be modified.\u001b[0m\u001b[0;34m\u001b[0m\u001b[0;34m\u001b[0m\u001b[0m\n\u001b[1;32m      2\u001b[0m \u001b[0;34m\u001b[0m\u001b[0m\n\u001b[0;32m----> 3\u001b[0;31m \u001b[0;32mfrom\u001b[0m \u001b[0mmodels\u001b[0m\u001b[0;34m.\u001b[0m\u001b[0mlayer_utils\u001b[0m \u001b[0;32mimport\u001b[0m \u001b[0maffine_relu_affine_forward\u001b[0m\u001b[0;34m,\u001b[0m \u001b[0maffine_relu_affine_backward\u001b[0m\u001b[0;34m\u001b[0m\u001b[0m\n\u001b[0m\u001b[1;32m      4\u001b[0m \u001b[0;34m\u001b[0m\u001b[0m\n\u001b[1;32m      5\u001b[0m \u001b[0mx\u001b[0m \u001b[0;34m=\u001b[0m \u001b[0mnp\u001b[0m\u001b[0;34m.\u001b[0m\u001b[0mrandom\u001b[0m\u001b[0;34m.\u001b[0m\u001b[0mrandn\u001b[0m\u001b[0;34m(\u001b[0m\u001b[0;36m2\u001b[0m\u001b[0;34m,\u001b[0m \u001b[0;36m3\u001b[0m\u001b[0;34m,\u001b[0m \u001b[0;36m4\u001b[0m\u001b[0;34m)\u001b[0m\u001b[0;34m\u001b[0m\u001b[0m\n",
      "\u001b[0;31mImportError\u001b[0m: No module named 'models.layer_utils'"
     ]
    }
   ],
   "source": [
    "# This needs to be modified.\n",
    "\n",
    "from models.layer_utils import affine_relu_affine_forward, affine_relu_affine_backward\n",
    "\n",
    "x = np.random.randn(2, 3, 4)\n",
    "w1 = np.random.randn(12, 10)\n",
    "w2 = np.random.randn(10, 10)\n",
    "b1 = np.random.randn(10)\n",
    "b2 = np.random.randn(10)\n",
    "dout = np.random.randn(2, 10)\n",
    "\n",
    "out, cache = affine_relu_affine_forward(x, w1, b1, w2, b2)\n",
    "dx, dw1, db1, dw2, db2 = affine_relu_affine_backward(dout, cache)\n",
    "\n",
    "fx = lambda x: affine_relu_affine_forward(x, w1, b1, w2, b2)[0]\n",
    "fw1 = lambda w1: affine_relu_affine_forward(x, w1, b1, w2, b2)[0]\n",
    "fb1 = lambda b1: affine_relu_affine_forward(x, w1, b1, w2, b2)[0]\n",
    "fw2 = lambda w2: affine_relu_affine_forward(x, w1, b1, w2, b2)[0]\n",
    "fb2 = lambda b2: affine_relu_affine_forward(x, w1, b1, w2, b2)[0]\n",
    "\n",
    "dx_num = eval_numerical_gradient_array(fx, x, dout)\n",
    "dw1_num = eval_numerical_gradient_array(fw1, w1, dout)\n",
    "db1_num = eval_numerical_gradient_array(fb1, b1, dout)\n",
    "dw2_num = eval_numerical_gradient_array(fw2, w2, dout)\n",
    "db2_num = eval_numerical_gradient_array(fb2, b2, dout)\n",
    "\n",
    "print ('Testing affine_relu_affine_forward:')\n",
    "print ('dx error: ', rel_error(dx_num, dx))\n",
    "print ('dw1 error: ', rel_error(dw1_num, dw1))\n",
    "print ('db1 error: ', rel_error(db1_num, db1))\n",
    "print ('dw2 error: ', rel_error(dw2_num, dw2))\n",
    "print ('db2 error: ', rel_error(db2_num, db2))"
   ]
  },
  {
   "cell_type": "code",
   "execution_count": 93,
   "metadata": {
    "collapsed": false
   },
   "outputs": [
    {
     "data": {
      "text/plain": [
       "0.071428571428571425"
      ]
     },
     "execution_count": 93,
     "metadata": {},
     "output_type": "execute_result"
    }
   ],
   "source": [
    "init_scale = 2 / np.sqrt(28*28)\n",
    "init_scale"
   ]
  },
  {
   "cell_type": "code",
   "execution_count": 94,
   "metadata": {
    "collapsed": false
   },
   "outputs": [
    {
     "name": "stdout",
     "output_type": "stream",
     "text": [
      "2.32091041667\n"
     ]
    }
   ],
   "source": [
    "model = AffineReluAffineNet(hidden_dims=[30, 30, 30], \n",
    "                          input_dim=28*28, \n",
    "                          num_classes=10, \n",
    "                          reg=0, \n",
    "                          weight_scale=init_scale)\n",
    "\n",
    "loss, grads = model.loss(X_data, y_data)\n",
    "print(loss)  # Should be around 2.3"
   ]
  },
  {
   "cell_type": "code",
   "execution_count": 137,
   "metadata": {
    "collapsed": false
   },
   "outputs": [
    {
     "name": "stdout",
     "output_type": "stream",
     "text": [
      "721.671577886\n"
     ]
    }
   ],
   "source": [
    "model = AffineReluAffineNet(hidden_dims=[30, 30, 30], \n",
    "                          input_dim=28*28, \n",
    "                          num_classes=10, \n",
    "                          reg=10, \n",
    "                          weight_scale=init_scale)\n",
    "\n",
    "\n",
    "loss, grads = model.loss(X_data, y_data)\n",
    "print(loss)  "
   ]
  },
  {
   "cell_type": "code",
   "execution_count": 140,
   "metadata": {
    "collapsed": false
   },
   "outputs": [
    {
     "name": "stdout",
     "output_type": "stream",
     "text": [
      "1217.11880437\n",
      "3265.48949562\n"
     ]
    }
   ],
   "source": [
    "submodel = model[0]\n",
    "\n",
    "X_r = np.random.rand(100, 28*28)\n",
    "y_r = 0.1 * np.random.randn(100, 30) - 10\n",
    "X_rval = np.random.rand(10, 28*28)\n",
    "y_rval = 0.1 * np.random.randn(10, 30) + 10\n",
    "l, gr = submodel.loss(X_r, y_r)\n",
    "print(l)\n",
    "l, gr = submodel.loss(X_rval, y_rval)\n",
    "print(l)\n",
    "data = {'X_train': X_r, 'y_train': y_r, 'X_val': X_rval, 'y_val': y_rval}"
   ]
  },
  {
   "cell_type": "code",
   "execution_count": null,
   "metadata": {
    "collapsed": false,
    "scrolled": false
   },
   "outputs": [],
   "source": [
    "solver = Solver(submodel, data, classification=False,\n",
    "                update_rule='adam',\n",
    "                optim_config={\n",
    "                  'learning_rate': 1e-3,\n",
    "                },\n",
    "                lr_decay=0.95,\n",
    "                num_epochs=1000, batch_size=100,\n",
    "                print_every=100)\n",
    "solver.train()"
   ]
  },
  {
   "cell_type": "code",
   "execution_count": 13,
   "metadata": {
    "collapsed": false
   },
   "outputs": [
    {
     "name": "stdout",
     "output_type": "stream",
     "text": [
      "(Iteration 1 / 300) loss: 2.301971\n",
      "(Epoch 0 / 30) train acc: 0.137000; val_acc: 0.138525\n",
      "(Epoch 1 / 30) train acc: 0.282000; val_acc: 0.262898\n",
      "(Epoch 2 / 30) train acc: 0.591000; val_acc: 0.554508\n",
      "(Epoch 3 / 30) train acc: 0.680000; val_acc: 0.631915\n",
      "(Epoch 4 / 30) train acc: 0.745000; val_acc: 0.703407\n",
      "(Epoch 5 / 30) train acc: 0.794000; val_acc: 0.744034\n",
      "(Epoch 6 / 30) train acc: 0.840000; val_acc: 0.779763\n",
      "(Epoch 7 / 30) train acc: 0.866000; val_acc: 0.797729\n",
      "(Epoch 8 / 30) train acc: 0.883000; val_acc: 0.793203\n",
      "(Epoch 9 / 30) train acc: 0.897000; val_acc: 0.820847\n",
      "(Epoch 10 / 30) train acc: 0.919000; val_acc: 0.823220\n",
      "(Iteration 101 / 300) loss: 0.395248\n",
      "(Epoch 11 / 30) train acc: 0.920000; val_acc: 0.826119\n",
      "(Epoch 12 / 30) train acc: 0.935000; val_acc: 0.831322\n",
      "(Epoch 13 / 30) train acc: 0.948000; val_acc: 0.835932\n",
      "(Epoch 14 / 30) train acc: 0.959000; val_acc: 0.843136\n",
      "(Epoch 15 / 30) train acc: 0.960000; val_acc: 0.846949\n",
      "(Epoch 16 / 30) train acc: 0.964000; val_acc: 0.842966\n",
      "(Epoch 17 / 30) train acc: 0.973000; val_acc: 0.845186\n",
      "(Epoch 18 / 30) train acc: 0.973000; val_acc: 0.849661\n",
      "(Epoch 19 / 30) train acc: 0.982000; val_acc: 0.847695\n",
      "(Epoch 20 / 30) train acc: 0.983000; val_acc: 0.849186\n",
      "(Iteration 201 / 300) loss: 0.068887\n",
      "(Epoch 21 / 30) train acc: 0.981000; val_acc: 0.848915\n",
      "(Epoch 22 / 30) train acc: 0.989000; val_acc: 0.850492\n",
      "(Epoch 23 / 30) train acc: 0.991000; val_acc: 0.850695\n",
      "(Epoch 24 / 30) train acc: 0.994000; val_acc: 0.850712\n",
      "(Epoch 25 / 30) train acc: 0.994000; val_acc: 0.848644\n",
      "(Epoch 26 / 30) train acc: 0.995000; val_acc: 0.850000\n",
      "(Epoch 27 / 30) train acc: 0.998000; val_acc: 0.851644\n",
      "(Epoch 28 / 30) train acc: 0.995000; val_acc: 0.850932\n",
      "(Epoch 29 / 30) train acc: 0.997000; val_acc: 0.854949\n",
      "(Epoch 30 / 30) train acc: 0.997000; val_acc: 0.852831\n"
     ]
    }
   ],
   "source": [
    "X_train, X_test, y_train, y_test = train_test_split(X_data, y_data, train_size=1000)\n",
    "data = dict(X_train=X_train, X_val=X_test, y_train=y_train, y_val=y_test)\n",
    "\n",
    "init_scale = 2 / np.sqrt(28*28) \n",
    "model = AffineReluAffineNet(hidden_dims=[30, 30, 30], \n",
    "                          input_dim=28*28, \n",
    "                          num_classes=10, \n",
    "                          reg=0, \n",
    "                          weight_scale=init_scale)\n",
    "\n",
    "solver = Solver(model, data,\n",
    "                update_rule='adam',\n",
    "                optim_config={\n",
    "                  'learning_rate': 1e-3,\n",
    "                },\n",
    "                lr_decay=0.95,\n",
    "                num_epochs=30, batch_size=100,\n",
    "                print_every=100)\n",
    "solver.train()"
   ]
  },
  {
   "cell_type": "code",
   "execution_count": 14,
   "metadata": {
    "collapsed": false
   },
   "outputs": [
    {
     "name": "stdout",
     "output_type": "stream",
     "text": [
      "[(0, 'W1'), (0, 'W2'), (0, 'b1'), (0, 'b2'), (1, 'W1'), (1, 'W2'), (1, 'b1'), (1, 'b2'), (2, 'W1'), (2, 'W2'), (2, 'b1'), (2, 'b2'), (3, 'W'), (3, 'b')]\n"
     ]
    }
   ],
   "source": [
    "print(sorted(model.params.keys()))"
   ]
  },
  {
   "cell_type": "code",
   "execution_count": 15,
   "metadata": {
    "collapsed": false
   },
   "outputs": [
    {
     "name": "stdout",
     "output_type": "stream",
     "text": [
      "Running check with reg =  0\n",
      "Initial loss:  2.30194354405\n",
      "(0, 'W1') relative error: 6.31e-06\n",
      "(0, 'W2') relative error: 1.74e-06\n",
      "(0, 'b1') relative error: 9.31e-08\n",
      "(0, 'b2') relative error: 1.08e-07\n",
      "(1, 'W1') relative error: 4.79e-05\n",
      "(1, 'W2') relative error: 6.55e-06\n",
      "(1, 'b1') relative error: 2.07e-08\n",
      "(1, 'b2') relative error: 7.67e-09\n",
      "(2, 'W') relative error: 1.51e-06\n",
      "(2, 'b') relative error: 1.21e-10\n",
      "Running check with reg =  3.14\n",
      "Initial loss:  12.1133693468\n",
      "(0, 'W1') relative error: 1.17e-07\n",
      "(0, 'W2') relative error: 3.22e-08\n",
      "(0, 'b1') relative error: 2.69e-07\n",
      "(0, 'b2') relative error: 1.42e-07\n",
      "(1, 'W1') relative error: 1.61e-08\n",
      "(1, 'W2') relative error: 1.12e-07\n",
      "(1, 'b1') relative error: 2.20e-08\n",
      "(1, 'b2') relative error: 8.56e-08\n",
      "(2, 'W') relative error: 1.77e-08\n",
      "(2, 'b') relative error: 3.87e-10\n"
     ]
    }
   ],
   "source": [
    "N, D, H1, H2, C = 2, 15, 20, 30, 10\n",
    "X = np.random.randn(N, D)\n",
    "y = np.random.randint(C, size=(N,))\n",
    "\n",
    "for reg in [0, 3.14]:\n",
    "    print ('Running check with reg = ', reg)\n",
    "    model = AffineReluAffineNet([H1, H2], input_dim=D, num_classes=C,\n",
    "                            reg=reg, weight_scale=5e-2, dtype=np.float64)\n",
    "\n",
    "    loss, grads = model.loss(X, y)\n",
    "    print ('Initial loss: ', loss)\n",
    "\n",
    "    for name in sorted(grads):\n",
    "        f = lambda _: model.loss(X, y)[0]\n",
    "        grad_num = eval_numerical_gradient(f, model.params[name], verbose=False, h=1e-5)\n",
    "        print ('%s relative error: %.2e' % (name, rel_error(grad_num, grads[name])))"
   ]
  },
  {
   "cell_type": "code",
   "execution_count": null,
   "metadata": {
    "collapsed": false
   },
   "outputs": [],
   "source": [
    "X_train, X_test, y_train, y_test = train_test_split(X_data, y_data, train_size=0.9)\n",
    "data = dict(X_train=X_train, X_val=X_test, y_train=y_train, y_val=y_test)\n",
    "\n",
    "# for it in range(30):\n",
    "init_scale = 2 / np.sqrt(28*28) \n",
    "model = AffineReluAffineNet(hidden_dims=[30, 25, 30], \n",
    "                          input_dim=28*28, \n",
    "                          num_classes=10, \n",
    "                          reg=0, \n",
    "                          weight_scale=init_scale)\n",
    "\n",
    "solver = Solver(model, data,\n",
    "                update_rule='adam',\n",
    "                optim_config={\n",
    "                  'learning_rate': 1e-3,\n",
    "                },\n",
    "                lr_decay=0.95,\n",
    "                num_epochs=30, batch_size=100,\n",
    "                print_every=100)\n",
    "solver.train()"
   ]
  },
  {
   "cell_type": "code",
   "execution_count": 145,
   "metadata": {
    "collapsed": false
   },
   "outputs": [
    {
     "data": {
      "text/plain": [
       "array([  1.00000000e-10,   1.00000000e-09,   3.00000000e-09,\n",
       "         1.00000000e-08,   3.00000000e-08,   1.00000000e-07])"
      ]
     },
     "execution_count": 145,
     "metadata": {},
     "output_type": "execute_result"
    }
   ],
   "source": [
    "alphas = np.load('data/mnist_1456811360/alphas.npy')\n",
    "alphas[]"
   ]
  },
  {
   "cell_type": "markdown",
   "metadata": {},
   "source": [
    "## First attempt at training an actual model"
   ]
  },
  {
   "cell_type": "code",
   "execution_count": 154,
   "metadata": {
    "collapsed": true
   },
   "outputs": [],
   "source": [
    "# Which H should we use.\n",
    "dataPath = 'data/mnist_1456811360/'\n",
    "indices = [2, 4, 5, 6, 7, 8]"
   ]
  },
  {
   "cell_type": "code",
   "execution_count": 156,
   "metadata": {
    "collapsed": false
   },
   "outputs": [
    {
     "name": "stdout",
     "output_type": "stream",
     "text": [
      "Loading: alpha_0_000000000010_eigvals.npy,alpha_0_000000000030_eigvals.npy,alpha_0_000000000100_eigvals.npy,alpha_0_000000000300_eigvals.npy,alpha_0_000000001000_eigvals.npy,alpha_0_000000003000_eigvals.npy,alpha_0_00000001_eigvals.npy,alpha_0_00000003_eigvals.npy,alpha_0_0000001_eigvals.npy,alpha_0_0000003_eigvals.npy,alpha_0_000001_eigvals.npy,alpha_0_000003_eigvals.npy,alpha_0_000010_eigvals.npy,alpha_0_000030_eigvals.npy,alpha_0_000100_eigvals.npy,alpha_0_000300_eigvals.npy,alpha_0_001000_eigvals.npy,alpha_0_003000_eigvals.npy,alpha_0_010000_eigvals.npy,alpha_0_030000_eigvals.npy, from data/mnist_1456811360/\n",
      "\n",
      "784\n",
      "[613, 613, 613, 613, 613, 613]\n",
      "2\n"
     ]
    }
   ],
   "source": [
    "inputDim = 28*28\n",
    "hiddenDims = list(len(eig) for i, eig in enumerate(load(dataPath, which='eigvals')) if i in indices)\n",
    "outputDim = 2\n",
    "print()\n",
    "print(inputDim)\n",
    "print(hiddenDims)\n",
    "print(outputDim)"
   ]
  },
  {
   "cell_type": "code",
   "execution_count": 157,
   "metadata": {
    "collapsed": false
   },
   "outputs": [
    {
     "name": "stdout",
     "output_type": "stream",
     "text": [
      "0.0505076272276\n"
     ]
    }
   ],
   "source": [
    "weightScale = np.sqrt(2 / inputDim)\n",
    "print(weightScale)"
   ]
  },
  {
   "cell_type": "code",
   "execution_count": 158,
   "metadata": {
    "collapsed": true
   },
   "outputs": [],
   "source": [
    "model = AffineReluAffineNet(hiddenDims, \n",
    "                            input_dim=inputDim, \n",
    "                            num_classes=outputDim,\n",
    "                            reg=0, \n",
    "                            weight_scale=weightScale)"
   ]
  },
  {
   "cell_type": "code",
   "execution_count": 194,
   "metadata": {
    "collapsed": false
   },
   "outputs": [],
   "source": [
    "X = np.load(join(dataPath, 'X.npy'))\n",
    "y = np.load(join(dataPath, 'y.npy'))\n",
    "N = X.shape[0]\n",
    "\n",
    "idx = np.arange(N)\n",
    "np.random.shuffle(idx)\n",
    "val_idx = idx[:1200]\n",
    "train_idx = idx[1200:]"
   ]
  },
  {
   "cell_type": "code",
   "execution_count": 210,
   "metadata": {
    "collapsed": false
   },
   "outputs": [
    {
     "name": "stdout",
     "output_type": "stream",
     "text": [
      "Loading: alpha_0_000000000010_H.npy,alpha_0_000000000030_H.npy,alpha_0_000000000100_H.npy,alpha_0_000000000300_H.npy,alpha_0_000000001000_H.npy,alpha_0_000000003000_H.npy,alpha_0_00000001_H.npy,alpha_0_00000003_H.npy,alpha_0_0000001_H.npy,alpha_0_0000003_H.npy,alpha_0_000001_H.npy,alpha_0_000003_H.npy,alpha_0_000010_H.npy,alpha_0_000030_H.npy,alpha_0_000100_H.npy,alpha_0_000300_H.npy,alpha_0_001000_H.npy,alpha_0_003000_H.npy,alpha_0_010000_H.npy,alpha_0_030000_H.npy, from data/mnist_1456811360/\n"
     ]
    }
   ],
   "source": [
    "for i, H in enumerate(load(dataPath, which='H')):\n",
    "    if i == indices[0]:\n",
    "        firstH = H\n",
    "        break"
   ]
  },
  {
   "cell_type": "code",
   "execution_count": 217,
   "metadata": {
    "collapsed": true
   },
   "outputs": [],
   "source": [
    "submodel = model[0]\n",
    "data = {'X_train': X[train_idx], \n",
    "        'y_train': firstH[train_idx],\n",
    "        'X_val': X[val_idx],\n",
    "        'y_val': firstH[val_idx]}"
   ]
  },
  {
   "cell_type": "code",
   "execution_count": 220,
   "metadata": {
    "collapsed": false
   },
   "outputs": [
    {
     "name": "stdout",
     "output_type": "stream",
     "text": [
      "(Iteration 1 / 3210) loss: 1.099234\n",
      "(Epoch 0 / 30) train loss: 0.901658; val_loss: 0.929433\n",
      "(Iteration 101 / 3210) loss: 0.129931\n",
      "(Epoch 1 / 30) train loss: 0.126900; val_loss: 0.131799\n",
      "(Iteration 201 / 3210) loss: 0.066044\n",
      "(Epoch 2 / 30) train loss: 0.061501; val_loss: 0.067810\n",
      "(Iteration 301 / 3210) loss: 0.038173\n",
      "(Epoch 3 / 30) train loss: 0.033865; val_loss: 0.038069\n",
      "(Iteration 401 / 3210) loss: 0.022956\n",
      "(Epoch 4 / 30) train loss: 0.020121; val_loss: 0.022842\n",
      "(Iteration 501 / 3210) loss: 0.015216\n",
      "(Epoch 5 / 30) train loss: 0.013053; val_loss: 0.015130\n",
      "(Iteration 601 / 3210) loss: 0.010432\n",
      "(Epoch 6 / 30) train loss: 0.009540; val_loss: 0.010899\n",
      "(Iteration 701 / 3210) loss: 0.008356\n",
      "(Epoch 7 / 30) train loss: 0.007414; val_loss: 0.008485\n",
      "(Iteration 801 / 3210) loss: 0.006634\n",
      "(Epoch 8 / 30) train loss: 0.005667; val_loss: 0.006629\n",
      "(Iteration 901 / 3210) loss: 0.005839\n",
      "(Epoch 9 / 30) train loss: 0.004592; val_loss: 0.005412\n",
      "(Iteration 1001 / 3210) loss: 0.004053\n",
      "(Epoch 10 / 30) train loss: 0.003857; val_loss: 0.004605\n",
      "(Iteration 1101 / 3210) loss: 0.003806\n",
      "(Epoch 11 / 30) train loss: 0.003275; val_loss: 0.003970\n",
      "(Iteration 1201 / 3210) loss: 0.003007\n",
      "(Epoch 12 / 30) train loss: 0.002788; val_loss: 0.003467\n",
      "(Iteration 1301 / 3210) loss: 0.002455\n",
      "(Epoch 13 / 30) train loss: 0.002442; val_loss: 0.003045\n",
      "(Iteration 1401 / 3210) loss: 0.002331\n",
      "(Epoch 14 / 30) train loss: 0.002147; val_loss: 0.002654\n",
      "(Iteration 1501 / 3210) loss: 0.002163\n",
      "(Iteration 1601 / 3210) loss: 0.001999\n",
      "(Epoch 15 / 30) train loss: 0.001848; val_loss: 0.002435\n",
      "(Iteration 1701 / 3210) loss: 0.001443\n",
      "(Epoch 16 / 30) train loss: 0.001660; val_loss: 0.002167\n",
      "(Iteration 1801 / 3210) loss: 0.001483\n",
      "(Epoch 17 / 30) train loss: 0.001494; val_loss: 0.001931\n",
      "(Iteration 1901 / 3210) loss: 0.001245\n",
      "(Epoch 18 / 30) train loss: 0.001376; val_loss: 0.001756\n",
      "(Iteration 2001 / 3210) loss: 0.001225\n",
      "(Epoch 19 / 30) train loss: 0.001265; val_loss: 0.001655\n",
      "(Iteration 2101 / 3210) loss: 0.001142\n",
      "(Epoch 20 / 30) train loss: 0.001109; val_loss: 0.001516\n",
      "(Iteration 2201 / 3210) loss: 0.001084\n",
      "(Epoch 21 / 30) train loss: 0.001059; val_loss: 0.001393\n",
      "(Iteration 2301 / 3210) loss: 0.000975\n",
      "(Epoch 22 / 30) train loss: 0.000974; val_loss: 0.001293\n",
      "(Iteration 2401 / 3210) loss: 0.000785\n",
      "(Epoch 23 / 30) train loss: 0.000871; val_loss: 0.001200\n",
      "(Iteration 2501 / 3210) loss: 0.000898\n",
      "(Epoch 24 / 30) train loss: 0.000847; val_loss: 0.001142\n",
      "(Iteration 2601 / 3210) loss: 0.001051\n",
      "(Epoch 25 / 30) train loss: 0.000763; val_loss: 0.001075\n",
      "(Iteration 2701 / 3210) loss: 0.000814\n",
      "(Epoch 26 / 30) train loss: 0.000756; val_loss: 0.001017\n",
      "(Iteration 2801 / 3210) loss: 0.000741\n",
      "(Epoch 27 / 30) train loss: 0.000656; val_loss: 0.000989\n",
      "(Iteration 2901 / 3210) loss: 0.000746\n",
      "(Epoch 28 / 30) train loss: 0.000640; val_loss: 0.000920\n",
      "(Iteration 3001 / 3210) loss: 0.000762\n",
      "(Iteration 3101 / 3210) loss: 0.000480\n",
      "(Epoch 29 / 30) train loss: 0.000552; val_loss: 0.000878\n",
      "(Iteration 3201 / 3210) loss: 0.000785\n",
      "(Epoch 30 / 30) train loss: 0.000534; val_loss: 0.000845\n"
     ]
    }
   ],
   "source": [
    "solver = Solver(submodel, data, classification=False,\n",
    "                update_rule='adam',\n",
    "                optim_config={\n",
    "                  'learning_rate': 1e-3,\n",
    "                },\n",
    "                lr_decay=0.95,\n",
    "                num_epochs=30, batch_size=100,\n",
    "                print_every=100)\n",
    "solver.train()        "
   ]
  },
  {
   "cell_type": "code",
   "execution_count": 228,
   "metadata": {
    "collapsed": false
   },
   "outputs": [
    {
     "data": {
      "text/plain": [
       "(0, 0.02)"
      ]
     },
     "execution_count": 228,
     "metadata": {},
     "output_type": "execute_result"
    },
    {
     "data": {
      "image/png": "[encoded data removed]",
      "text/plain": [
       "<matplotlib.figure.Figure at 0x113f6a940>"
      ]
     },
     "metadata": {},
     "output_type": "display_data"
    }
   ],
   "source": [
    "def plot_errors(solver):\n",
    "    plt.hold(True)\n",
    "    plt.plot(solver.train_acc_history, label='Train')\n",
    "    plt.plot(solver.val_acc_history, label='Test')\n",
    "    plt.legend()\n",
    "    plt.hold(False)\n",
    "    \n",
    "plot_errors(solver)\n",
    "plt.ylim((0, 0.02))"
   ]
  },
  {
   "cell_type": "code",
   "execution_count": 234,
   "metadata": {
    "collapsed": false
   },
   "outputs": [
    {
     "name": "stdout",
     "output_type": "stream",
     "text": [
      "Loading: alpha_0_000000000010_H.npy,alpha_0_000000000030_H.npy,alpha_0_000000000100_H.npy,alpha_0_000000000300_H.npy,alpha_0_000000001000_H.npy,alpha_0_000000003000_H.npy,alpha_0_00000001_H.npy,alpha_0_00000003_H.npy,alpha_0_0000001_H.npy,alpha_0_0000003_H.npy,alpha_0_000001_H.npy,alpha_0_000003_H.npy,alpha_0_000010_H.npy,alpha_0_000030_H.npy,alpha_0_000100_H.npy,alpha_0_000300_H.npy,alpha_0_001000_H.npy,alpha_0_003000_H.npy,alpha_0_010000_H.npy,alpha_0_030000_H.npy, from data/mnist_1456811360/\n"
     ]
    }
   ],
   "source": [
    "for i, H in enumerate(load(dataPath, which='H')):\n",
    "    if i == indices[1]:\n",
    "        break"
   ]
  },
  {
   "cell_type": "code",
   "execution_count": 236,
   "metadata": {
    "collapsed": false
   },
   "outputs": [],
   "source": [
    "X_in = model[:1].loss(X)\n",
    "\n",
    "submodel = model[1]\n",
    "data = {'X_train': X_in[train_idx], \n",
    "        'y_train': H[train_idx],\n",
    "        'X_val': X_in[val_idx],\n",
    "        'y_val': H[val_idx]}"
   ]
  },
  {
   "cell_type": "code",
   "execution_count": 238,
   "metadata": {
    "collapsed": false
   },
   "outputs": [
    {
     "name": "stdout",
     "output_type": "stream",
     "text": [
      "(Iteration 1 / 3210) loss: 1.017875\n",
      "(Epoch 0 / 30) train loss: 0.799879; val_loss: 0.816286\n",
      "(Iteration 101 / 3210) loss: 0.169319\n",
      "(Epoch 1 / 30) train loss: 0.164620; val_loss: 0.174568\n",
      "(Iteration 201 / 3210) loss: 0.108602\n",
      "(Epoch 2 / 30) train loss: 0.102749; val_loss: 0.111063\n",
      "(Iteration 301 / 3210) loss: 0.083567\n",
      "(Epoch 3 / 30) train loss: 0.083444; val_loss: 0.090527\n",
      "(Iteration 401 / 3210) loss: 0.077410\n",
      "(Epoch 4 / 30) train loss: 0.072646; val_loss: 0.080664\n",
      "(Iteration 501 / 3210) loss: 0.067820\n",
      "(Epoch 5 / 30) train loss: 0.066751; val_loss: 0.074679\n",
      "(Iteration 601 / 3210) loss: 0.064374\n",
      "(Epoch 6 / 30) train loss: 0.062398; val_loss: 0.070572\n",
      "(Iteration 701 / 3210) loss: 0.060540\n",
      "(Epoch 7 / 30) train loss: 0.060051; val_loss: 0.067425\n",
      "(Iteration 801 / 3210) loss: 0.056521\n",
      "(Epoch 8 / 30) train loss: 0.057490; val_loss: 0.064851\n",
      "(Iteration 901 / 3210) loss: 0.056099\n",
      "(Epoch 9 / 30) train loss: 0.055747; val_loss: 0.063284\n",
      "(Iteration 1001 / 3210) loss: 0.056205\n",
      "(Epoch 10 / 30) train loss: 0.054361; val_loss: 0.061621\n",
      "(Iteration 1101 / 3210) loss: 0.056858\n",
      "(Epoch 11 / 30) train loss: 0.051666; val_loss: 0.060520\n",
      "(Iteration 1201 / 3210) loss: 0.051353\n",
      "(Epoch 12 / 30) train loss: 0.050453; val_loss: 0.059237\n",
      "(Iteration 1301 / 3210) loss: 0.049410\n",
      "(Epoch 13 / 30) train loss: 0.049533; val_loss: 0.058367\n",
      "(Iteration 1401 / 3210) loss: 0.049331\n",
      "(Epoch 14 / 30) train loss: 0.048671; val_loss: 0.057490\n",
      "(Iteration 1501 / 3210) loss: 0.049577\n",
      "(Iteration 1601 / 3210) loss: 0.048693\n",
      "(Epoch 15 / 30) train loss: 0.047399; val_loss: 0.056792\n",
      "(Iteration 1701 / 3210) loss: 0.044765\n",
      "(Epoch 16 / 30) train loss: 0.046642; val_loss: 0.056095\n",
      "(Iteration 1801 / 3210) loss: 0.047612\n",
      "(Epoch 17 / 30) train loss: 0.045772; val_loss: 0.055457\n",
      "(Iteration 1901 / 3210) loss: 0.047987\n",
      "(Epoch 18 / 30) train loss: 0.045158; val_loss: 0.055071\n",
      "(Iteration 2001 / 3210) loss: 0.045865\n",
      "(Epoch 19 / 30) train loss: 0.043565; val_loss: 0.054476\n",
      "(Iteration 2101 / 3210) loss: 0.040433\n",
      "(Epoch 20 / 30) train loss: 0.043539; val_loss: 0.053989\n",
      "(Iteration 2201 / 3210) loss: 0.044754\n",
      "(Epoch 21 / 30) train loss: 0.043909; val_loss: 0.053583\n",
      "(Iteration 2301 / 3210) loss: 0.042370\n",
      "(Epoch 22 / 30) train loss: 0.043215; val_loss: 0.053179\n",
      "(Iteration 2401 / 3210) loss: 0.043906\n",
      "(Epoch 23 / 30) train loss: 0.042595; val_loss: 0.052901\n",
      "(Iteration 2501 / 3210) loss: 0.040989\n",
      "(Epoch 24 / 30) train loss: 0.041647; val_loss: 0.052390\n",
      "(Iteration 2601 / 3210) loss: 0.041760\n",
      "(Epoch 25 / 30) train loss: 0.041372; val_loss: 0.052143\n",
      "(Iteration 2701 / 3210) loss: 0.041851\n",
      "(Epoch 26 / 30) train loss: 0.041620; val_loss: 0.052005\n",
      "(Iteration 2801 / 3210) loss: 0.042226\n",
      "(Epoch 27 / 30) train loss: 0.040977; val_loss: 0.051639\n",
      "(Iteration 2901 / 3210) loss: 0.040254\n",
      "(Epoch 28 / 30) train loss: 0.040644; val_loss: 0.051337\n",
      "(Iteration 3001 / 3210) loss: 0.040393\n",
      "(Iteration 3101 / 3210) loss: 0.040071\n",
      "(Epoch 29 / 30) train loss: 0.040904; val_loss: 0.051151\n",
      "(Iteration 3201 / 3210) loss: 0.040490\n",
      "(Epoch 30 / 30) train loss: 0.039169; val_loss: 0.050907\n"
     ]
    }
   ],
   "source": [
    "solver = Solver(submodel, data, classification=False,\n",
    "                update_rule='adam',\n",
    "                optim_config={\n",
    "                  'learning_rate': 1e-3,\n",
    "                },\n",
    "                lr_decay=0.95,\n",
    "                num_epochs=30, batch_size=100,\n",
    "                print_every=100)\n",
    "solver.train()     "
   ]
  },
  {
   "cell_type": "code",
   "execution_count": 241,
   "metadata": {
    "collapsed": false
   },
   "outputs": [
    {
     "data": {
      "text/plain": [
       "(0, 0.5)"
      ]
     },
     "execution_count": 241,
     "metadata": {},
     "output_type": "execute_result"
    },
    {
     "data": {
      "image/png": "[encoded data removed]",
      "text/plain": [
       "<matplotlib.figure.Figure at 0x113f7a978>"
      ]
     },
     "metadata": {},
     "output_type": "display_data"
    }
   ],
   "source": [
    "plot_errors(solver)\n",
    "plt.ylim((0, 0.5))"
   ]
  },
  {
   "cell_type": "code",
   "execution_count": 242,
   "metadata": {
    "collapsed": false
   },
   "outputs": [
    {
     "name": "stdout",
     "output_type": "stream",
     "text": [
      "Loading: alpha_0_000000000010_H.npy,alpha_0_000000000030_H.npy,alpha_0_000000000100_H.npy,alpha_0_000000000300_H.npy,alpha_0_000000001000_H.npy,alpha_0_000000003000_H.npy,alpha_0_00000001_H.npy,alpha_0_00000003_H.npy,alpha_0_0000001_H.npy,alpha_0_0000003_H.npy,alpha_0_000001_H.npy,alpha_0_000003_H.npy,alpha_0_000010_H.npy,alpha_0_000030_H.npy,alpha_0_000100_H.npy,alpha_0_000300_H.npy,alpha_0_001000_H.npy,alpha_0_003000_H.npy,alpha_0_010000_H.npy,alpha_0_030000_H.npy, from data/mnist_1456811360/\n"
     ]
    }
   ],
   "source": [
    "current_layer = 2\n",
    "for i, H in enumerate(load(dataPath, which='H')):\n",
    "    if i == indices[current_layer]:\n",
    "        break\n",
    "        \n",
    "X_in = model[:current_layer].loss(X)\n",
    "\n",
    "submodel = model[current_layer]\n",
    "data = {'X_train': X_in[train_idx], \n",
    "        'y_train': H[train_idx],\n",
    "        'X_val': X_in[val_idx],\n",
    "        'y_val': H[val_idx]}"
   ]
  },
  {
   "cell_type": "code",
   "execution_count": 243,
   "metadata": {
    "collapsed": false
   },
   "outputs": [
    {
     "name": "stdout",
     "output_type": "stream",
     "text": [
      "(Iteration 1 / 3210) loss: 0.938460\n",
      "(Epoch 0 / 30) train loss: 0.737859; val_loss: 0.747568\n",
      "(Iteration 101 / 3210) loss: 0.211528\n",
      "(Epoch 1 / 30) train loss: 0.206445; val_loss: 0.209584\n",
      "(Iteration 201 / 3210) loss: 0.153529\n",
      "(Epoch 2 / 30) train loss: 0.143350; val_loss: 0.154210\n",
      "(Iteration 301 / 3210) loss: 0.132290\n",
      "(Epoch 3 / 30) train loss: 0.124439; val_loss: 0.135122\n",
      "(Iteration 401 / 3210) loss: 0.117742\n",
      "(Epoch 4 / 30) train loss: 0.113717; val_loss: 0.125505\n",
      "(Iteration 501 / 3210) loss: 0.109251\n",
      "(Epoch 5 / 30) train loss: 0.106432; val_loss: 0.118965\n",
      "(Iteration 601 / 3210) loss: 0.103450\n",
      "(Epoch 6 / 30) train loss: 0.098994; val_loss: 0.115036\n",
      "(Iteration 701 / 3210) loss: 0.104466\n",
      "(Epoch 7 / 30) train loss: 0.096710; val_loss: 0.110778\n",
      "(Iteration 801 / 3210) loss: 0.093605\n",
      "(Epoch 8 / 30) train loss: 0.090499; val_loss: 0.108581\n",
      "(Iteration 901 / 3210) loss: 0.092084\n",
      "(Epoch 9 / 30) train loss: 0.089266; val_loss: 0.106258\n",
      "(Iteration 1001 / 3210) loss: 0.088891\n",
      "(Epoch 10 / 30) train loss: 0.087136; val_loss: 0.104563\n",
      "(Iteration 1101 / 3210) loss: 0.088493\n",
      "(Epoch 11 / 30) train loss: 0.084977; val_loss: 0.102944\n",
      "(Iteration 1201 / 3210) loss: 0.086323\n",
      "(Epoch 12 / 30) train loss: 0.082695; val_loss: 0.101678\n",
      "(Iteration 1301 / 3210) loss: 0.084858\n",
      "(Epoch 13 / 30) train loss: 0.081035; val_loss: 0.100153\n",
      "(Iteration 1401 / 3210) loss: 0.079391\n",
      "(Epoch 14 / 30) train loss: 0.078730; val_loss: 0.099395\n",
      "(Iteration 1501 / 3210) loss: 0.082648\n",
      "(Iteration 1601 / 3210) loss: 0.079925\n",
      "(Epoch 15 / 30) train loss: 0.077053; val_loss: 0.098309\n",
      "(Iteration 1701 / 3210) loss: 0.074794\n",
      "(Epoch 16 / 30) train loss: 0.075921; val_loss: 0.097522\n",
      "(Iteration 1801 / 3210) loss: 0.075583\n",
      "(Epoch 17 / 30) train loss: 0.075938; val_loss: 0.097006\n",
      "(Iteration 1901 / 3210) loss: 0.073599\n",
      "(Epoch 18 / 30) train loss: 0.074454; val_loss: 0.096496\n",
      "(Iteration 2001 / 3210) loss: 0.071368\n",
      "(Epoch 19 / 30) train loss: 0.072094; val_loss: 0.095883\n",
      "(Iteration 2101 / 3210) loss: 0.071040\n",
      "(Epoch 20 / 30) train loss: 0.071897; val_loss: 0.095660\n",
      "(Iteration 2201 / 3210) loss: 0.071865\n",
      "(Epoch 21 / 30) train loss: 0.071578; val_loss: 0.095282\n",
      "(Iteration 2301 / 3210) loss: 0.074733\n",
      "(Epoch 22 / 30) train loss: 0.070881; val_loss: 0.094685\n",
      "(Iteration 2401 / 3210) loss: 0.070424\n",
      "(Epoch 23 / 30) train loss: 0.071381; val_loss: 0.094393\n",
      "(Iteration 2501 / 3210) loss: 0.070732\n",
      "(Epoch 24 / 30) train loss: 0.069469; val_loss: 0.094239\n",
      "(Iteration 2601 / 3210) loss: 0.070209\n",
      "(Epoch 25 / 30) train loss: 0.068514; val_loss: 0.093938\n",
      "(Iteration 2701 / 3210) loss: 0.067931\n",
      "(Epoch 26 / 30) train loss: 0.069110; val_loss: 0.093623\n",
      "(Iteration 2801 / 3210) loss: 0.067986\n",
      "(Epoch 27 / 30) train loss: 0.067343; val_loss: 0.093343\n",
      "(Iteration 2901 / 3210) loss: 0.065336\n",
      "(Epoch 28 / 30) train loss: 0.067383; val_loss: 0.093071\n",
      "(Iteration 3001 / 3210) loss: 0.065935\n",
      "(Iteration 3101 / 3210) loss: 0.072396\n",
      "(Epoch 29 / 30) train loss: 0.068003; val_loss: 0.092853\n",
      "(Iteration 3201 / 3210) loss: 0.063542\n",
      "(Epoch 30 / 30) train loss: 0.067522; val_loss: 0.092709\n"
     ]
    }
   ],
   "source": [
    "solver = Solver(submodel, data, classification=False,\n",
    "                update_rule='adam',\n",
    "                optim_config={\n",
    "                  'learning_rate': 1e-3,\n",
    "                },\n",
    "                lr_decay=0.95,\n",
    "                num_epochs=30, batch_size=100,\n",
    "                print_every=100)\n",
    "solver.train()  "
   ]
  },
  {
   "cell_type": "code",
   "execution_count": 244,
   "metadata": {
    "collapsed": false
   },
   "outputs": [
    {
     "data": {
      "image/png": "[encoded data removed]",
      "text/plain": [
       "<matplotlib.figure.Figure at 0x148aa9278>"
      ]
     },
     "metadata": {},
     "output_type": "display_data"
    }
   ],
   "source": [
    "plot_errors(solver)\n"
   ]
  },
  {
   "cell_type": "code",
   "execution_count": 245,
   "metadata": {
    "collapsed": false
   },
   "outputs": [
    {
     "name": "stdout",
     "output_type": "stream",
     "text": [
      "Loading: alpha_0_000000000010_H.npy,alpha_0_000000000030_H.npy,alpha_0_000000000100_H.npy,alpha_0_000000000300_H.npy,alpha_0_000000001000_H.npy,alpha_0_000000003000_H.npy,alpha_0_00000001_H.npy,alpha_0_00000003_H.npy,alpha_0_0000001_H.npy,alpha_0_0000003_H.npy,alpha_0_000001_H.npy,alpha_0_000003_H.npy,alpha_0_000010_H.npy,alpha_0_000030_H.npy,alpha_0_000100_H.npy,alpha_0_000300_H.npy,alpha_0_001000_H.npy,alpha_0_003000_H.npy,alpha_0_010000_H.npy,alpha_0_030000_H.npy, from data/mnist_1456811360/\n"
     ]
    }
   ],
   "source": [
    "current_layer = 3\n",
    "for i, H in enumerate(load(dataPath, which='H')):\n",
    "    if i == indices[current_layer]:\n",
    "        break\n",
    "        \n",
    "X_in = model[:current_layer].loss(X)\n",
    "\n",
    "submodel = model[current_layer]\n",
    "data = {'X_train': X_in[train_idx], \n",
    "        'y_train': H[train_idx],\n",
    "        'X_val': X_in[val_idx],\n",
    "        'y_val': H[val_idx]}"
   ]
  },
  {
   "cell_type": "code",
   "execution_count": 246,
   "metadata": {
    "collapsed": false
   },
   "outputs": [
    {
     "name": "stdout",
     "output_type": "stream",
     "text": [
      "(Iteration 1 / 3210) loss: 0.835308\n",
      "(Epoch 0 / 30) train loss: 0.681342; val_loss: 0.690198\n",
      "(Iteration 101 / 3210) loss: 0.250243\n",
      "(Epoch 1 / 30) train loss: 0.240238; val_loss: 0.249693\n",
      "(Iteration 201 / 3210) loss: 0.198597\n",
      "(Epoch 2 / 30) train loss: 0.186199; val_loss: 0.198785\n",
      "(Iteration 301 / 3210) loss: 0.176177\n",
      "(Epoch 3 / 30) train loss: 0.164073; val_loss: 0.180028\n",
      "(Iteration 401 / 3210) loss: 0.161586\n",
      "(Epoch 4 / 30) train loss: 0.153038; val_loss: 0.169075\n",
      "(Iteration 501 / 3210) loss: 0.145243\n",
      "(Epoch 5 / 30) train loss: 0.144759; val_loss: 0.161676\n",
      "(Iteration 601 / 3210) loss: 0.136092\n",
      "(Epoch 6 / 30) train loss: 0.134203; val_loss: 0.157242\n",
      "(Iteration 701 / 3210) loss: 0.129765\n",
      "(Epoch 7 / 30) train loss: 0.130515; val_loss: 0.153030\n",
      "(Iteration 801 / 3210) loss: 0.133894\n",
      "(Epoch 8 / 30) train loss: 0.122365; val_loss: 0.149432\n",
      "(Iteration 901 / 3210) loss: 0.118392\n",
      "(Epoch 9 / 30) train loss: 0.119274; val_loss: 0.147070\n",
      "(Iteration 1001 / 3210) loss: 0.117968\n",
      "(Epoch 10 / 30) train loss: 0.117050; val_loss: 0.145692\n",
      "(Iteration 1101 / 3210) loss: 0.118484\n",
      "(Epoch 11 / 30) train loss: 0.113821; val_loss: 0.143925\n",
      "(Iteration 1201 / 3210) loss: 0.114317\n",
      "(Epoch 12 / 30) train loss: 0.113219; val_loss: 0.142372\n",
      "(Iteration 1301 / 3210) loss: 0.112079\n",
      "(Epoch 13 / 30) train loss: 0.107386; val_loss: 0.141430\n",
      "(Iteration 1401 / 3210) loss: 0.111555\n",
      "(Epoch 14 / 30) train loss: 0.105331; val_loss: 0.140455\n",
      "(Iteration 1501 / 3210) loss: 0.108313\n",
      "(Iteration 1601 / 3210) loss: 0.107509\n",
      "(Epoch 15 / 30) train loss: 0.104935; val_loss: 0.139737\n",
      "(Iteration 1701 / 3210) loss: 0.100179\n",
      "(Epoch 16 / 30) train loss: 0.103388; val_loss: 0.138844\n",
      "(Iteration 1801 / 3210) loss: 0.102049\n",
      "(Epoch 17 / 30) train loss: 0.103375; val_loss: 0.138287\n",
      "(Iteration 1901 / 3210) loss: 0.101960\n",
      "(Epoch 18 / 30) train loss: 0.100156; val_loss: 0.137843\n",
      "(Iteration 2001 / 3210) loss: 0.103292\n",
      "(Epoch 19 / 30) train loss: 0.098116; val_loss: 0.137240\n",
      "(Iteration 2101 / 3210) loss: 0.096009\n",
      "(Epoch 20 / 30) train loss: 0.095865; val_loss: 0.136477\n",
      "(Iteration 2201 / 3210) loss: 0.099072\n",
      "(Epoch 21 / 30) train loss: 0.096673; val_loss: 0.136549\n",
      "(Iteration 2301 / 3210) loss: 0.096534\n",
      "(Epoch 22 / 30) train loss: 0.095871; val_loss: 0.136360\n",
      "(Iteration 2401 / 3210) loss: 0.093796\n",
      "(Epoch 23 / 30) train loss: 0.095415; val_loss: 0.135707\n",
      "(Iteration 2501 / 3210) loss: 0.091152\n",
      "(Epoch 24 / 30) train loss: 0.096090; val_loss: 0.135895\n",
      "(Iteration 2601 / 3210) loss: 0.093827\n",
      "(Epoch 25 / 30) train loss: 0.093672; val_loss: 0.135721\n",
      "(Iteration 2701 / 3210) loss: 0.096566\n",
      "(Epoch 26 / 30) train loss: 0.093508; val_loss: 0.135254\n",
      "(Iteration 2801 / 3210) loss: 0.096557\n",
      "(Epoch 27 / 30) train loss: 0.092185; val_loss: 0.135340\n",
      "(Iteration 2901 / 3210) loss: 0.092924\n",
      "(Epoch 28 / 30) train loss: 0.092000; val_loss: 0.135383\n",
      "(Iteration 3001 / 3210) loss: 0.093083\n",
      "(Iteration 3101 / 3210) loss: 0.089507\n",
      "(Epoch 29 / 30) train loss: 0.091465; val_loss: 0.134927\n",
      "(Iteration 3201 / 3210) loss: 0.093307\n",
      "(Epoch 30 / 30) train loss: 0.089091; val_loss: 0.134763\n"
     ]
    }
   ],
   "source": [
    "solver = Solver(submodel, data, classification=False,\n",
    "                update_rule='adam',\n",
    "                optim_config={\n",
    "                  'learning_rate': 1e-3,\n",
    "                },\n",
    "                lr_decay=0.95,\n",
    "                num_epochs=30, batch_size=100,\n",
    "                print_every=100)\n",
    "solver.train() "
   ]
  },
  {
   "cell_type": "code",
   "execution_count": 247,
   "metadata": {
    "collapsed": false
   },
   "outputs": [
    {
     "data": {
      "image/png": "[encoded data removed]",
      "text/plain": [
       "<matplotlib.figure.Figure at 0x1487f7c50>"
      ]
     },
     "metadata": {},
     "output_type": "display_data"
    }
   ],
   "source": [
    "plot_errors(solver)"
   ]
  },
  {
   "cell_type": "code",
   "execution_count": 248,
   "metadata": {
    "collapsed": false
   },
   "outputs": [
    {
     "name": "stdout",
     "output_type": "stream",
     "text": [
      "Loading: alpha_0_000000000010_H.npy,alpha_0_000000000030_H.npy,alpha_0_000000000100_H.npy,alpha_0_000000000300_H.npy,alpha_0_000000001000_H.npy,alpha_0_000000003000_H.npy,alpha_0_00000001_H.npy,alpha_0_00000003_H.npy,alpha_0_0000001_H.npy,alpha_0_0000003_H.npy,alpha_0_000001_H.npy,alpha_0_000003_H.npy,alpha_0_000010_H.npy,alpha_0_000030_H.npy,alpha_0_000100_H.npy,alpha_0_000300_H.npy,alpha_0_001000_H.npy,alpha_0_003000_H.npy,alpha_0_010000_H.npy,alpha_0_030000_H.npy, from data/mnist_1456811360/\n"
     ]
    }
   ],
   "source": [
    "current_layer = 4\n",
    "for i, H in enumerate(load(dataPath, which='H')):\n",
    "    if i == indices[current_layer]:\n",
    "        break\n",
    "        \n",
    "X_in = model[:current_layer].loss(X)\n",
    "\n",
    "submodel = model[current_layer]\n",
    "data = {'X_train': X_in[train_idx], \n",
    "        'y_train': H[train_idx],\n",
    "        'X_val': X_in[val_idx],\n",
    "        'y_val': H[val_idx]}"
   ]
  },
  {
   "cell_type": "code",
   "execution_count": 250,
   "metadata": {
    "collapsed": false
   },
   "outputs": [
    {
     "name": "stdout",
     "output_type": "stream",
     "text": [
      "(Iteration 1 / 3210) loss: 0.722441\n",
      "(Epoch 0 / 30) train loss: 0.635353; val_loss: 0.642940\n",
      "(Iteration 101 / 3210) loss: 0.290457\n",
      "(Epoch 1 / 30) train loss: 0.279715; val_loss: 0.286605\n",
      "(Iteration 201 / 3210) loss: 0.225737\n",
      "(Epoch 2 / 30) train loss: 0.222099; val_loss: 0.237006\n",
      "(Iteration 301 / 3210) loss: 0.195386\n",
      "(Epoch 3 / 30) train loss: 0.201414; val_loss: 0.218635\n",
      "(Iteration 401 / 3210) loss: 0.184152\n",
      "(Epoch 4 / 30) train loss: 0.186490; val_loss: 0.207688\n",
      "(Iteration 501 / 3210) loss: 0.174363\n",
      "(Epoch 5 / 30) train loss: 0.172324; val_loss: 0.200154\n",
      "(Iteration 601 / 3210) loss: 0.161670\n",
      "(Epoch 6 / 30) train loss: 0.167873; val_loss: 0.194797\n",
      "(Iteration 701 / 3210) loss: 0.167729\n",
      "(Epoch 7 / 30) train loss: 0.157361; val_loss: 0.190419\n",
      "(Iteration 801 / 3210) loss: 0.154500\n",
      "(Epoch 8 / 30) train loss: 0.156663; val_loss: 0.187955\n",
      "(Iteration 901 / 3210) loss: 0.157076\n",
      "(Epoch 9 / 30) train loss: 0.149006; val_loss: 0.185769\n",
      "(Iteration 1001 / 3210) loss: 0.151947\n",
      "(Epoch 10 / 30) train loss: 0.145733; val_loss: 0.183432\n",
      "(Iteration 1101 / 3210) loss: 0.142400\n",
      "(Epoch 11 / 30) train loss: 0.143136; val_loss: 0.181856\n",
      "(Iteration 1201 / 3210) loss: 0.138824\n",
      "(Epoch 12 / 30) train loss: 0.139494; val_loss: 0.180954\n",
      "(Iteration 1301 / 3210) loss: 0.139964\n",
      "(Epoch 13 / 30) train loss: 0.138559; val_loss: 0.180317\n",
      "(Iteration 1401 / 3210) loss: 0.138886\n",
      "(Epoch 14 / 30) train loss: 0.133613; val_loss: 0.179502\n",
      "(Iteration 1501 / 3210) loss: 0.131796\n",
      "(Iteration 1601 / 3210) loss: 0.129272\n",
      "(Epoch 15 / 30) train loss: 0.132861; val_loss: 0.178470\n",
      "(Iteration 1701 / 3210) loss: 0.137875\n",
      "(Epoch 16 / 30) train loss: 0.129673; val_loss: 0.177706\n",
      "(Iteration 1801 / 3210) loss: 0.127452\n",
      "(Epoch 17 / 30) train loss: 0.128108; val_loss: 0.177210\n",
      "(Iteration 1901 / 3210) loss: 0.121289\n",
      "(Epoch 18 / 30) train loss: 0.126128; val_loss: 0.177022\n",
      "(Iteration 2001 / 3210) loss: 0.118894\n",
      "(Epoch 19 / 30) train loss: 0.126843; val_loss: 0.177189\n",
      "(Iteration 2101 / 3210) loss: 0.117478\n",
      "(Epoch 20 / 30) train loss: 0.123273; val_loss: 0.176720\n",
      "(Iteration 2201 / 3210) loss: 0.114906\n",
      "(Epoch 21 / 30) train loss: 0.122009; val_loss: 0.176289\n",
      "(Iteration 2301 / 3210) loss: 0.118904\n",
      "(Epoch 22 / 30) train loss: 0.119575; val_loss: 0.176240\n",
      "(Iteration 2401 / 3210) loss: 0.116292\n",
      "(Epoch 23 / 30) train loss: 0.121250; val_loss: 0.176193\n",
      "(Iteration 2501 / 3210) loss: 0.118756\n",
      "(Epoch 24 / 30) train loss: 0.117780; val_loss: 0.176180\n",
      "(Iteration 2601 / 3210) loss: 0.118609\n",
      "(Epoch 25 / 30) train loss: 0.119012; val_loss: 0.175844\n",
      "(Iteration 2701 / 3210) loss: 0.114597\n",
      "(Epoch 26 / 30) train loss: 0.116280; val_loss: 0.175954\n",
      "(Iteration 2801 / 3210) loss: 0.114676\n",
      "(Epoch 27 / 30) train loss: 0.117520; val_loss: 0.175841\n",
      "(Iteration 2901 / 3210) loss: 0.117128\n",
      "(Epoch 28 / 30) train loss: 0.116204; val_loss: 0.175948\n",
      "(Iteration 3001 / 3210) loss: 0.120715\n",
      "(Iteration 3101 / 3210) loss: 0.119461\n",
      "(Epoch 29 / 30) train loss: 0.114790; val_loss: 0.175961\n",
      "(Iteration 3201 / 3210) loss: 0.111427\n",
      "(Epoch 30 / 30) train loss: 0.113731; val_loss: 0.175754\n"
     ]
    }
   ],
   "source": [
    "solver = Solver(submodel, data, classification=False,\n",
    "                update_rule='adam',\n",
    "                optim_config={\n",
    "                  'learning_rate': 1e-3,\n",
    "                },\n",
    "                lr_decay=0.95,\n",
    "                num_epochs=30, batch_size=100,\n",
    "                print_every=100)\n",
    "solver.train() "
   ]
  },
  {
   "cell_type": "code",
   "execution_count": 252,
   "metadata": {
    "collapsed": false
   },
   "outputs": [
    {
     "data": {
      "text/plain": [
       "(0, 0.5)"
      ]
     },
     "execution_count": 252,
     "metadata": {},
     "output_type": "execute_result"
    },
    {
     "data": {
      "image/png": "[encoded data removed]",
      "text/plain": [
       "<matplotlib.figure.Figure at 0x113f8c0f0>"
      ]
     },
     "metadata": {},
     "output_type": "display_data"
    }
   ],
   "source": [
    "plot_errors(solver)\n",
    "plt.ylim((0, 0.5))"
   ]
  },
  {
   "cell_type": "code",
   "execution_count": 253,
   "metadata": {
    "collapsed": false
   },
   "outputs": [
    {
     "name": "stdout",
     "output_type": "stream",
     "text": [
      "Loading: alpha_0_000000000010_H.npy,alpha_0_000000000030_H.npy,alpha_0_000000000100_H.npy,alpha_0_000000000300_H.npy,alpha_0_000000001000_H.npy,alpha_0_000000003000_H.npy,alpha_0_00000001_H.npy,alpha_0_00000003_H.npy,alpha_0_0000001_H.npy,alpha_0_0000003_H.npy,alpha_0_000001_H.npy,alpha_0_000003_H.npy,alpha_0_000010_H.npy,alpha_0_000030_H.npy,alpha_0_000100_H.npy,alpha_0_000300_H.npy,alpha_0_001000_H.npy,alpha_0_003000_H.npy,alpha_0_010000_H.npy,alpha_0_030000_H.npy, from data/mnist_1456811360/\n"
     ]
    }
   ],
   "source": [
    "current_layer = 5\n",
    "for i, H in enumerate(load(dataPath, which='H')):\n",
    "    if i == indices[current_layer]:\n",
    "        break\n",
    "        \n",
    "X_in = model[:current_layer].loss(X)\n",
    "\n",
    "submodel = model[current_layer]\n",
    "data = {'X_train': X_in[train_idx], \n",
    "        'y_train': H[train_idx],\n",
    "        'X_val': X_in[val_idx],\n",
    "        'y_val': H[val_idx]}"
   ]
  },
  {
   "cell_type": "code",
   "execution_count": 254,
   "metadata": {
    "collapsed": false
   },
   "outputs": [
    {
     "name": "stdout",
     "output_type": "stream",
     "text": [
      "(Iteration 1 / 3210) loss: 0.648524\n",
      "(Epoch 0 / 30) train loss: 0.596597; val_loss: 0.605849\n",
      "(Iteration 101 / 3210) loss: 0.329944\n",
      "(Epoch 1 / 30) train loss: 0.310266; val_loss: 0.321062\n",
      "(Iteration 201 / 3210) loss: 0.274876\n",
      "(Epoch 2 / 30) train loss: 0.263567; val_loss: 0.278649\n",
      "(Iteration 301 / 3210) loss: 0.221911\n",
      "(Epoch 3 / 30) train loss: 0.242620; val_loss: 0.260700\n",
      "(Iteration 401 / 3210) loss: 0.234381\n",
      "(Epoch 4 / 30) train loss: 0.220581; val_loss: 0.249279\n",
      "(Iteration 501 / 3210) loss: 0.210223\n",
      "(Epoch 5 / 30) train loss: 0.208077; val_loss: 0.241660\n",
      "(Iteration 601 / 3210) loss: 0.197044\n",
      "(Epoch 6 / 30) train loss: 0.199796; val_loss: 0.236267\n",
      "(Iteration 701 / 3210) loss: 0.197290\n",
      "(Epoch 7 / 30) train loss: 0.195868; val_loss: 0.232509\n",
      "(Iteration 801 / 3210) loss: 0.193053\n",
      "(Epoch 8 / 30) train loss: 0.187314; val_loss: 0.229321\n",
      "(Iteration 901 / 3210) loss: 0.194960\n",
      "(Epoch 9 / 30) train loss: 0.180390; val_loss: 0.226643\n",
      "(Iteration 1001 / 3210) loss: 0.169779\n",
      "(Epoch 10 / 30) train loss: 0.175299; val_loss: 0.225031\n",
      "(Iteration 1101 / 3210) loss: 0.173159\n",
      "(Epoch 11 / 30) train loss: 0.173846; val_loss: 0.223581\n",
      "(Iteration 1201 / 3210) loss: 0.179767\n",
      "(Epoch 12 / 30) train loss: 0.168785; val_loss: 0.222533\n",
      "(Iteration 1301 / 3210) loss: 0.176630\n",
      "(Epoch 13 / 30) train loss: 0.163646; val_loss: 0.222146\n",
      "(Iteration 1401 / 3210) loss: 0.165627\n",
      "(Epoch 14 / 30) train loss: 0.161844; val_loss: 0.221287\n",
      "(Iteration 1501 / 3210) loss: 0.163238\n",
      "(Iteration 1601 / 3210) loss: 0.156174\n",
      "(Epoch 15 / 30) train loss: 0.160993; val_loss: 0.220669\n",
      "(Iteration 1701 / 3210) loss: 0.155788\n",
      "(Epoch 16 / 30) train loss: 0.157432; val_loss: 0.220014\n",
      "(Iteration 1801 / 3210) loss: 0.159635\n",
      "(Epoch 17 / 30) train loss: 0.153434; val_loss: 0.220110\n",
      "(Iteration 1901 / 3210) loss: 0.149827\n",
      "(Epoch 18 / 30) train loss: 0.153174; val_loss: 0.219458\n",
      "(Iteration 2001 / 3210) loss: 0.152087\n",
      "(Epoch 19 / 30) train loss: 0.152836; val_loss: 0.219428\n",
      "(Iteration 2101 / 3210) loss: 0.146574\n",
      "(Epoch 20 / 30) train loss: 0.149762; val_loss: 0.219067\n",
      "(Iteration 2201 / 3210) loss: 0.152217\n",
      "(Epoch 21 / 30) train loss: 0.147145; val_loss: 0.218937\n",
      "(Iteration 2301 / 3210) loss: 0.145913\n",
      "(Epoch 22 / 30) train loss: 0.146531; val_loss: 0.218814\n",
      "(Iteration 2401 / 3210) loss: 0.142659\n",
      "(Epoch 23 / 30) train loss: 0.147488; val_loss: 0.219099\n",
      "(Iteration 2501 / 3210) loss: 0.147688\n",
      "(Epoch 24 / 30) train loss: 0.143665; val_loss: 0.218974\n",
      "(Iteration 2601 / 3210) loss: 0.144909\n",
      "(Epoch 25 / 30) train loss: 0.142990; val_loss: 0.219032\n",
      "(Iteration 2701 / 3210) loss: 0.138312\n",
      "(Epoch 26 / 30) train loss: 0.143528; val_loss: 0.219104\n",
      "(Iteration 2801 / 3210) loss: 0.141074\n",
      "(Epoch 27 / 30) train loss: 0.141022; val_loss: 0.218985\n",
      "(Iteration 2901 / 3210) loss: 0.140236\n",
      "(Epoch 28 / 30) train loss: 0.140823; val_loss: 0.219071\n",
      "(Iteration 3001 / 3210) loss: 0.136804\n",
      "(Iteration 3101 / 3210) loss: 0.139377\n",
      "(Epoch 29 / 30) train loss: 0.138609; val_loss: 0.218841\n",
      "(Iteration 3201 / 3210) loss: 0.131597\n",
      "(Epoch 30 / 30) train loss: 0.138425; val_loss: 0.219053\n"
     ]
    }
   ],
   "source": [
    "solver = Solver(submodel, data, classification=False,\n",
    "                update_rule='adam',\n",
    "                optim_config={\n",
    "                  'learning_rate': 1e-3,\n",
    "                },\n",
    "                lr_decay=0.95,\n",
    "                num_epochs=30, batch_size=100,\n",
    "                print_every=100)\n",
    "solver.train() "
   ]
  },
  {
   "cell_type": "code",
   "execution_count": 256,
   "metadata": {
    "collapsed": false
   },
   "outputs": [
    {
     "data": {
      "text/plain": [
       "(0, 0.6)"
      ]
     },
     "execution_count": 256,
     "metadata": {},
     "output_type": "execute_result"
    },
    {
     "data": {
      "image/png": "[encoded data removed]",
      "text/plain": [
       "<matplotlib.figure.Figure at 0x1499140f0>"
      ]
     },
     "metadata": {},
     "output_type": "display_data"
    }
   ],
   "source": [
    "plot_errors(solver)\n",
    "plt.ylim((0, 0.6))"
   ]
  },
  {
   "cell_type": "code",
   "execution_count": 277,
   "metadata": {
    "collapsed": false
   },
   "outputs": [
    {
     "data": {
      "text/plain": [
       "True"
      ]
     },
     "execution_count": 277,
     "metadata": {},
     "output_type": "execute_result"
    }
   ],
   "source": [
    "# We need to change our output to be labels from 0 to C. In this case 0 to 1.\n",
    "y_final = y.copy().astype(int)\n",
    "y_final[y_final == -1] = 0\n",
    "((y_final == 1).sum() + (y_final == 0).sum()) == len(y)"
   ]
  },
  {
   "cell_type": "code",
   "execution_count": 299,
   "metadata": {
    "collapsed": false
   },
   "outputs": [],
   "source": [
    "# The normal submodel has a regression loss. We need log loss for our labeled output y.\n",
    "from models.nets import Subnet, softmax_loss\n",
    "\n",
    "current_layer = 6\n",
    "        \n",
    "X_in = model[:current_layer].loss(X)\n",
    "\n",
    "submodel = Subnet(model, [model.layers[current_layer]], softmax_loss)\n",
    "data = {'X_train': X_in[train_idx], \n",
    "        'y_train': y_final[train_idx],\n",
    "        'X_val': X_in[val_idx],\n",
    "        'y_val': y_final[val_idx]}"
   ]
  },
  {
   "cell_type": "code",
   "execution_count": 300,
   "metadata": {
    "collapsed": false
   },
   "outputs": [
    {
     "name": "stdout",
     "output_type": "stream",
     "text": [
      "(Iteration 1 / 7950) loss: 0.458081\n",
      "(Epoch 0 / 150) train acc: 0.823000; val_acc: 0.830000\n",
      "(Epoch 1 / 150) train acc: 0.810000; val_acc: 0.829167\n",
      "(Iteration 101 / 7950) loss: 0.436818\n",
      "(Epoch 2 / 150) train acc: 0.809000; val_acc: 0.827500\n",
      "(Epoch 3 / 150) train acc: 0.831000; val_acc: 0.828333\n",
      "(Iteration 201 / 7950) loss: 0.407986\n",
      "(Epoch 4 / 150) train acc: 0.822000; val_acc: 0.827500\n",
      "(Epoch 5 / 150) train acc: 0.805000; val_acc: 0.829167\n",
      "(Iteration 301 / 7950) loss: 0.439390\n",
      "(Epoch 6 / 150) train acc: 0.828000; val_acc: 0.829167\n",
      "(Epoch 7 / 150) train acc: 0.830000; val_acc: 0.828333\n",
      "(Iteration 401 / 7950) loss: 0.458898\n",
      "(Epoch 8 / 150) train acc: 0.814000; val_acc: 0.829167\n",
      "(Epoch 9 / 150) train acc: 0.834000; val_acc: 0.829167\n",
      "(Iteration 501 / 7950) loss: 0.389861\n",
      "(Epoch 10 / 150) train acc: 0.826000; val_acc: 0.829167\n",
      "(Epoch 11 / 150) train acc: 0.844000; val_acc: 0.830833\n",
      "(Iteration 601 / 7950) loss: 0.387867\n",
      "(Epoch 12 / 150) train acc: 0.848000; val_acc: 0.830000\n",
      "(Epoch 13 / 150) train acc: 0.856000; val_acc: 0.830000\n",
      "(Iteration 701 / 7950) loss: 0.407254\n",
      "(Epoch 14 / 150) train acc: 0.831000; val_acc: 0.830833\n",
      "(Epoch 15 / 150) train acc: 0.838000; val_acc: 0.830000\n",
      "(Iteration 801 / 7950) loss: 0.369196\n",
      "(Epoch 16 / 150) train acc: 0.831000; val_acc: 0.830000\n",
      "(Iteration 901 / 7950) loss: 0.453447\n",
      "(Epoch 17 / 150) train acc: 0.834000; val_acc: 0.830000\n",
      "(Epoch 18 / 150) train acc: 0.837000; val_acc: 0.830833\n",
      "(Iteration 1001 / 7950) loss: 0.374665\n",
      "(Epoch 19 / 150) train acc: 0.858000; val_acc: 0.830833\n",
      "(Epoch 20 / 150) train acc: 0.837000; val_acc: 0.830833\n",
      "(Iteration 1101 / 7950) loss: 0.367802\n",
      "(Epoch 21 / 150) train acc: 0.832000; val_acc: 0.828333\n",
      "(Epoch 22 / 150) train acc: 0.851000; val_acc: 0.830833\n",
      "(Iteration 1201 / 7950) loss: 0.393660\n",
      "(Epoch 23 / 150) train acc: 0.840000; val_acc: 0.830000\n",
      "(Epoch 24 / 150) train acc: 0.840000; val_acc: 0.830000\n",
      "(Iteration 1301 / 7950) loss: 0.388256\n",
      "(Epoch 25 / 150) train acc: 0.827000; val_acc: 0.830000\n",
      "(Epoch 26 / 150) train acc: 0.838000; val_acc: 0.830833\n",
      "(Iteration 1401 / 7950) loss: 0.430000\n",
      "(Epoch 27 / 150) train acc: 0.859000; val_acc: 0.830833\n",
      "(Epoch 28 / 150) train acc: 0.834000; val_acc: 0.830000\n",
      "(Iteration 1501 / 7950) loss: 0.410891\n",
      "(Epoch 29 / 150) train acc: 0.835000; val_acc: 0.830833\n",
      "(Epoch 30 / 150) train acc: 0.844000; val_acc: 0.830000\n",
      "(Iteration 1601 / 7950) loss: 0.331437\n",
      "(Epoch 31 / 150) train acc: 0.832000; val_acc: 0.830833\n",
      "(Epoch 32 / 150) train acc: 0.810000; val_acc: 0.830000\n",
      "(Iteration 1701 / 7950) loss: 0.360826\n",
      "(Epoch 33 / 150) train acc: 0.827000; val_acc: 0.831667\n",
      "(Iteration 1801 / 7950) loss: 0.436335\n",
      "(Epoch 34 / 150) train acc: 0.840000; val_acc: 0.830833\n",
      "(Epoch 35 / 150) train acc: 0.836000; val_acc: 0.830000\n",
      "(Iteration 1901 / 7950) loss: 0.423904\n",
      "(Epoch 36 / 150) train acc: 0.834000; val_acc: 0.830833\n",
      "(Epoch 37 / 150) train acc: 0.844000; val_acc: 0.829167\n",
      "(Iteration 2001 / 7950) loss: 0.385339\n",
      "(Epoch 38 / 150) train acc: 0.822000; val_acc: 0.830833\n",
      "(Epoch 39 / 150) train acc: 0.838000; val_acc: 0.830833\n",
      "(Iteration 2101 / 7950) loss: 0.375511\n",
      "(Epoch 40 / 150) train acc: 0.819000; val_acc: 0.830833\n",
      "(Epoch 41 / 150) train acc: 0.851000; val_acc: 0.830000\n",
      "(Iteration 2201 / 7950) loss: 0.398393\n",
      "(Epoch 42 / 150) train acc: 0.837000; val_acc: 0.832500\n",
      "(Epoch 43 / 150) train acc: 0.835000; val_acc: 0.833333\n",
      "(Iteration 2301 / 7950) loss: 0.370825\n",
      "(Epoch 44 / 150) train acc: 0.835000; val_acc: 0.832500\n",
      "(Epoch 45 / 150) train acc: 0.828000; val_acc: 0.833333\n",
      "(Iteration 2401 / 7950) loss: 0.374556\n",
      "(Epoch 46 / 150) train acc: 0.835000; val_acc: 0.833333\n",
      "(Epoch 47 / 150) train acc: 0.839000; val_acc: 0.833333\n",
      "(Iteration 2501 / 7950) loss: 0.404103\n",
      "(Epoch 48 / 150) train acc: 0.840000; val_acc: 0.833333\n",
      "(Epoch 49 / 150) train acc: 0.829000; val_acc: 0.833333\n",
      "(Iteration 2601 / 7950) loss: 0.374225\n",
      "(Epoch 50 / 150) train acc: 0.852000; val_acc: 0.831667\n",
      "(Iteration 2701 / 7950) loss: 0.369755\n",
      "(Epoch 51 / 150) train acc: 0.813000; val_acc: 0.830833\n",
      "(Epoch 52 / 150) train acc: 0.826000; val_acc: 0.831667\n",
      "(Iteration 2801 / 7950) loss: 0.378943\n",
      "(Epoch 53 / 150) train acc: 0.838000; val_acc: 0.833333\n",
      "(Epoch 54 / 150) train acc: 0.833000; val_acc: 0.832500\n",
      "(Iteration 2901 / 7950) loss: 0.409344\n",
      "(Epoch 55 / 150) train acc: 0.849000; val_acc: 0.831667\n",
      "(Epoch 56 / 150) train acc: 0.835000; val_acc: 0.831667\n",
      "(Iteration 3001 / 7950) loss: 0.408195\n",
      "(Epoch 57 / 150) train acc: 0.833000; val_acc: 0.831667\n",
      "(Epoch 58 / 150) train acc: 0.841000; val_acc: 0.831667\n",
      "(Iteration 3101 / 7950) loss: 0.392452\n",
      "(Epoch 59 / 150) train acc: 0.844000; val_acc: 0.831667\n",
      "(Epoch 60 / 150) train acc: 0.856000; val_acc: 0.832500\n",
      "(Iteration 3201 / 7950) loss: 0.421864\n",
      "(Epoch 61 / 150) train acc: 0.835000; val_acc: 0.832500\n",
      "(Epoch 62 / 150) train acc: 0.830000; val_acc: 0.832500\n",
      "(Iteration 3301 / 7950) loss: 0.410188\n",
      "(Epoch 63 / 150) train acc: 0.839000; val_acc: 0.832500\n",
      "(Epoch 64 / 150) train acc: 0.841000; val_acc: 0.832500\n",
      "(Iteration 3401 / 7950) loss: 0.406380\n",
      "(Epoch 65 / 150) train acc: 0.850000; val_acc: 0.832500\n",
      "(Epoch 66 / 150) train acc: 0.850000; val_acc: 0.832500\n",
      "(Iteration 3501 / 7950) loss: 0.398062\n",
      "(Epoch 67 / 150) train acc: 0.841000; val_acc: 0.832500\n",
      "(Iteration 3601 / 7950) loss: 0.378167\n",
      "(Epoch 68 / 150) train acc: 0.844000; val_acc: 0.832500\n",
      "(Epoch 69 / 150) train acc: 0.817000; val_acc: 0.832500\n",
      "(Iteration 3701 / 7950) loss: 0.414558\n",
      "(Epoch 70 / 150) train acc: 0.846000; val_acc: 0.833333\n",
      "(Epoch 71 / 150) train acc: 0.865000; val_acc: 0.833333\n",
      "(Iteration 3801 / 7950) loss: 0.378486\n",
      "(Epoch 72 / 150) train acc: 0.854000; val_acc: 0.833333\n",
      "(Epoch 73 / 150) train acc: 0.846000; val_acc: 0.833333\n",
      "(Iteration 3901 / 7950) loss: 0.386937\n",
      "(Epoch 74 / 150) train acc: 0.840000; val_acc: 0.833333\n",
      "(Epoch 75 / 150) train acc: 0.833000; val_acc: 0.833333\n",
      "(Iteration 4001 / 7950) loss: 0.410532\n",
      "(Epoch 76 / 150) train acc: 0.838000; val_acc: 0.833333\n",
      "(Epoch 77 / 150) train acc: 0.859000; val_acc: 0.833333\n",
      "(Iteration 4101 / 7950) loss: 0.412956\n",
      "(Epoch 78 / 150) train acc: 0.827000; val_acc: 0.833333\n",
      "(Epoch 79 / 150) train acc: 0.849000; val_acc: 0.833333\n",
      "(Iteration 4201 / 7950) loss: 0.402894\n",
      "(Epoch 80 / 150) train acc: 0.855000; val_acc: 0.833333\n",
      "(Epoch 81 / 150) train acc: 0.843000; val_acc: 0.833333\n",
      "(Iteration 4301 / 7950) loss: 0.409107\n",
      "(Epoch 82 / 150) train acc: 0.853000; val_acc: 0.833333\n",
      "(Epoch 83 / 150) train acc: 0.835000; val_acc: 0.833333\n",
      "(Iteration 4401 / 7950) loss: 0.383080\n",
      "(Epoch 84 / 150) train acc: 0.838000; val_acc: 0.833333\n",
      "(Iteration 4501 / 7950) loss: 0.386821\n",
      "(Epoch 85 / 150) train acc: 0.833000; val_acc: 0.833333\n",
      "(Epoch 86 / 150) train acc: 0.842000; val_acc: 0.833333\n",
      "(Iteration 4601 / 7950) loss: 0.384975\n",
      "(Epoch 87 / 150) train acc: 0.835000; val_acc: 0.833333\n",
      "(Epoch 88 / 150) train acc: 0.861000; val_acc: 0.833333\n",
      "(Iteration 4701 / 7950) loss: 0.364059\n",
      "(Epoch 89 / 150) train acc: 0.836000; val_acc: 0.833333\n",
      "(Epoch 90 / 150) train acc: 0.842000; val_acc: 0.833333\n",
      "(Iteration 4801 / 7950) loss: 0.369399\n",
      "(Epoch 91 / 150) train acc: 0.833000; val_acc: 0.833333\n",
      "(Epoch 92 / 150) train acc: 0.812000; val_acc: 0.833333\n",
      "(Iteration 4901 / 7950) loss: 0.374653\n",
      "(Epoch 93 / 150) train acc: 0.832000; val_acc: 0.833333\n",
      "(Epoch 94 / 150) train acc: 0.858000; val_acc: 0.833333\n",
      "(Iteration 5001 / 7950) loss: 0.395317\n",
      "(Epoch 95 / 150) train acc: 0.837000; val_acc: 0.833333\n",
      "(Epoch 96 / 150) train acc: 0.850000; val_acc: 0.833333\n",
      "(Iteration 5101 / 7950) loss: 0.426901\n",
      "(Epoch 97 / 150) train acc: 0.846000; val_acc: 0.833333\n",
      "(Epoch 98 / 150) train acc: 0.848000; val_acc: 0.833333\n",
      "(Iteration 5201 / 7950) loss: 0.454124\n",
      "(Epoch 99 / 150) train acc: 0.827000; val_acc: 0.833333\n",
      "(Epoch 100 / 150) train acc: 0.828000; val_acc: 0.833333\n",
      "(Iteration 5301 / 7950) loss: 0.378620\n",
      "(Epoch 101 / 150) train acc: 0.825000; val_acc: 0.833333\n",
      "(Iteration 5401 / 7950) loss: 0.427116\n",
      "(Epoch 102 / 150) train acc: 0.862000; val_acc: 0.833333\n",
      "(Epoch 103 / 150) train acc: 0.833000; val_acc: 0.833333\n",
      "(Iteration 5501 / 7950) loss: 0.397873\n",
      "(Epoch 104 / 150) train acc: 0.834000; val_acc: 0.833333\n",
      "(Epoch 105 / 150) train acc: 0.832000; val_acc: 0.833333\n",
      "(Iteration 5601 / 7950) loss: 0.394117\n",
      "(Epoch 106 / 150) train acc: 0.830000; val_acc: 0.833333\n",
      "(Epoch 107 / 150) train acc: 0.844000; val_acc: 0.833333\n",
      "(Iteration 5701 / 7950) loss: 0.391148\n",
      "(Epoch 108 / 150) train acc: 0.830000; val_acc: 0.833333\n",
      "(Epoch 109 / 150) train acc: 0.820000; val_acc: 0.833333\n",
      "(Iteration 5801 / 7950) loss: 0.425206\n",
      "(Epoch 110 / 150) train acc: 0.843000; val_acc: 0.833333\n",
      "(Epoch 111 / 150) train acc: 0.846000; val_acc: 0.833333\n",
      "(Iteration 5901 / 7950) loss: 0.381222\n",
      "(Epoch 112 / 150) train acc: 0.838000; val_acc: 0.833333\n",
      "(Epoch 113 / 150) train acc: 0.826000; val_acc: 0.833333\n",
      "(Iteration 6001 / 7950) loss: 0.377727\n",
      "(Epoch 114 / 150) train acc: 0.822000; val_acc: 0.833333\n",
      "(Epoch 115 / 150) train acc: 0.850000; val_acc: 0.833333\n",
      "(Iteration 6101 / 7950) loss: 0.392393\n",
      "(Epoch 116 / 150) train acc: 0.850000; val_acc: 0.833333\n",
      "(Iteration 6201 / 7950) loss: 0.401292\n",
      "(Epoch 117 / 150) train acc: 0.851000; val_acc: 0.833333\n",
      "(Epoch 118 / 150) train acc: 0.845000; val_acc: 0.833333\n",
      "(Iteration 6301 / 7950) loss: 0.380863\n",
      "(Epoch 119 / 150) train acc: 0.819000; val_acc: 0.833333\n",
      "(Epoch 120 / 150) train acc: 0.829000; val_acc: 0.833333\n",
      "(Iteration 6401 / 7950) loss: 0.349157\n",
      "(Epoch 121 / 150) train acc: 0.845000; val_acc: 0.833333\n",
      "(Epoch 122 / 150) train acc: 0.845000; val_acc: 0.833333\n",
      "(Iteration 6501 / 7950) loss: 0.406113\n",
      "(Epoch 123 / 150) train acc: 0.842000; val_acc: 0.833333\n",
      "(Epoch 124 / 150) train acc: 0.851000; val_acc: 0.833333\n",
      "(Iteration 6601 / 7950) loss: 0.376116\n",
      "(Epoch 125 / 150) train acc: 0.818000; val_acc: 0.833333\n",
      "(Epoch 126 / 150) train acc: 0.840000; val_acc: 0.833333\n",
      "(Iteration 6701 / 7950) loss: 0.410177\n",
      "(Epoch 127 / 150) train acc: 0.825000; val_acc: 0.833333\n",
      "(Epoch 128 / 150) train acc: 0.850000; val_acc: 0.833333\n",
      "(Iteration 6801 / 7950) loss: 0.404432\n",
      "(Epoch 129 / 150) train acc: 0.820000; val_acc: 0.833333\n",
      "(Epoch 130 / 150) train acc: 0.828000; val_acc: 0.833333\n",
      "(Iteration 6901 / 7950) loss: 0.358676\n",
      "(Epoch 131 / 150) train acc: 0.830000; val_acc: 0.833333\n",
      "(Epoch 132 / 150) train acc: 0.838000; val_acc: 0.833333\n",
      "(Iteration 7001 / 7950) loss: 0.390005\n",
      "(Epoch 133 / 150) train acc: 0.846000; val_acc: 0.833333\n",
      "(Iteration 7101 / 7950) loss: 0.406807\n",
      "(Epoch 134 / 150) train acc: 0.838000; val_acc: 0.833333\n",
      "(Epoch 135 / 150) train acc: 0.847000; val_acc: 0.833333\n",
      "(Iteration 7201 / 7950) loss: 0.379062\n",
      "(Epoch 136 / 150) train acc: 0.840000; val_acc: 0.834167\n",
      "(Epoch 137 / 150) train acc: 0.840000; val_acc: 0.833333\n",
      "(Iteration 7301 / 7950) loss: 0.376879\n",
      "(Epoch 138 / 150) train acc: 0.844000; val_acc: 0.834167\n",
      "(Epoch 139 / 150) train acc: 0.851000; val_acc: 0.834167\n",
      "(Iteration 7401 / 7950) loss: 0.434559\n",
      "(Epoch 140 / 150) train acc: 0.839000; val_acc: 0.834167\n",
      "(Epoch 141 / 150) train acc: 0.827000; val_acc: 0.834167\n",
      "(Iteration 7501 / 7950) loss: 0.340944\n",
      "(Epoch 142 / 150) train acc: 0.863000; val_acc: 0.834167\n",
      "(Epoch 143 / 150) train acc: 0.837000; val_acc: 0.834167\n",
      "(Iteration 7601 / 7950) loss: 0.416754\n",
      "(Epoch 144 / 150) train acc: 0.858000; val_acc: 0.834167\n",
      "(Epoch 145 / 150) train acc: 0.842000; val_acc: 0.834167\n",
      "(Iteration 7701 / 7950) loss: 0.408180\n",
      "(Epoch 146 / 150) train acc: 0.834000; val_acc: 0.834167\n",
      "(Epoch 147 / 150) train acc: 0.849000; val_acc: 0.834167\n",
      "(Iteration 7801 / 7950) loss: 0.404804\n",
      "(Epoch 148 / 150) train acc: 0.834000; val_acc: 0.834167\n",
      "(Epoch 149 / 150) train acc: 0.824000; val_acc: 0.834167\n",
      "(Iteration 7901 / 7950) loss: 0.367738\n",
      "(Epoch 150 / 150) train acc: 0.851000; val_acc: 0.834167\n"
     ]
    }
   ],
   "source": [
    "solver = Solver(submodel, data,\n",
    "                update_rule='adam',\n",
    "                optim_config={\n",
    "                  'learning_rate': 1e-3,\n",
    "                },\n",
    "                lr_decay=0.95,\n",
    "                num_epochs=150, batch_size=200,\n",
    "                print_every=100)\n",
    "solver.train() "
   ]
  },
  {
   "cell_type": "code",
   "execution_count": 303,
   "metadata": {
    "collapsed": false
   },
   "outputs": [
    {
     "data": {
      "text/plain": [
       "(0, 50)"
      ]
     },
     "execution_count": 303,
     "metadata": {},
     "output_type": "execute_result"
    },
    {
     "data": {
      "image/png": "[encoded data removed]",
      "text/plain": [
       "<matplotlib.figure.Figure at 0x148d38c18>"
      ]
     },
     "metadata": {},
     "output_type": "display_data"
    }
   ],
   "source": [
    "plot_errors(solver)\n",
    "plt.ylim((0, 1))\n",
    "plt.xlim((0, 50))"
   ]
  },
  {
   "cell_type": "code",
   "execution_count": 286,
   "metadata": {
    "collapsed": false
   },
   "outputs": [
    {
     "data": {
      "text/plain": [
       "[<matplotlib.lines.Line2D at 0x149e355f8>]"
      ]
     },
     "execution_count": 286,
     "metadata": {},
     "output_type": "execute_result"
    },
    {
     "data": {
      "image/png": "[encoded data removed]",
      "text/plain": [
       "<matplotlib.figure.Figure at 0x149fec9b0>"
      ]
     },
     "metadata": {},
     "output_type": "display_data"
    }
   ],
   "source": [
    "plt.plot(solver.loss_history, 'o')"
   ]
  },
  {
   "cell_type": "code",
   "execution_count": 289,
   "metadata": {
    "collapsed": false
   },
   "outputs": [
    {
     "name": "stdout",
     "output_type": "stream",
     "text": [
      "Accuracy = 0.830833333333\n"
     ]
    }
   ],
   "source": [
    "y_scores = model.loss(X[val_idx])\n",
    "y_pred = np.argmax(y_scores, axis=1)\n",
    "print('Accuracy = ' + str((y_pred == y_final[val_idx]).mean()))"
   ]
  },
  {
   "cell_type": "code",
   "execution_count": 291,
   "metadata": {
    "collapsed": false
   },
   "outputs": [],
   "source": [
    "logi = LogisticRegression(C=1e6)"
   ]
  },
  {
   "cell_type": "code",
   "execution_count": 292,
   "metadata": {
    "collapsed": false
   },
   "outputs": [
    {
     "data": {
      "text/plain": [
       "LogisticRegression(C=1000000.0, class_weight=None, dual=False,\n",
       "          fit_intercept=True, intercept_scaling=1, max_iter=100,\n",
       "          multi_class='ovr', n_jobs=1, penalty='l2', random_state=None,\n",
       "          solver='liblinear', tol=0.0001, verbose=0, warm_start=False)"
      ]
     },
     "execution_count": 292,
     "metadata": {},
     "output_type": "execute_result"
    }
   ],
   "source": [
    "logi.fit(X_in[train_idx], y_final[train_idx])"
   ]
  },
  {
   "cell_type": "code",
   "execution_count": 296,
   "metadata": {
    "collapsed": false
   },
   "outputs": [
    {
     "data": {
      "text/plain": [
       "0.85583333333333333"
      ]
     },
     "execution_count": 296,
     "metadata": {},
     "output_type": "execute_result"
    }
   ],
   "source": [
    "(logi.predict(X_in[val_idx]) == y_final[val_idx]).mean()"
   ]
  },
  {
   "cell_type": "code",
   "execution_count": 297,
   "metadata": {
    "collapsed": false
   },
   "outputs": [
    {
     "data": {
      "text/plain": [
       "LogisticRegression(C=1000000.0, class_weight=None, dual=False,\n",
       "          fit_intercept=True, intercept_scaling=1, max_iter=100,\n",
       "          multi_class='ovr', n_jobs=1, penalty='l2', random_state=None,\n",
       "          solver='liblinear', tol=0.0001, verbose=0, warm_start=False)"
      ]
     },
     "execution_count": 297,
     "metadata": {},
     "output_type": "execute_result"
    }
   ],
   "source": [
    "logi2 = LogisticRegression(C=1e6)\n",
    "logi2.fit(X[train_idx], y_final[train_idx])"
   ]
  },
  {
   "cell_type": "code",
   "execution_count": 298,
   "metadata": {
    "collapsed": false
   },
   "outputs": [
    {
     "data": {
      "text/plain": [
       "0.95166666666666666"
      ]
     },
     "execution_count": 298,
     "metadata": {},
     "output_type": "execute_result"
    }
   ],
   "source": [
    "(logi2.predict(X[val_idx]) == y_final[val_idx]).mean()"
   ]
  },
  {
   "cell_type": "code",
   "execution_count": null,
   "metadata": {
    "collapsed": true
   },
   "outputs": [],
   "source": []
  }
 ],
 "metadata": {
  "kernelspec": {
   "display_name": "Python 3",
   "language": "python",
   "name": "python3"
  },
  "language_info": {
   "codemirror_mode": {
    "name": "ipython",
    "version": 3
   },
   "file_extension": ".py",
   "mimetype": "text/x-python",
   "name": "python",
   "nbconvert_exporter": "python",
   "pygments_lexer": "ipython3",
   "version": "3.5.0"
  }
 },
 "nbformat": 4,
 "nbformat_minor": 0
}
