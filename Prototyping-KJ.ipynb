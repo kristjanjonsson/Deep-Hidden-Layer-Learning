{
 "cells": [
  {
   "cell_type": "code",
   "execution_count": 1,
   "metadata": {
    "collapsed": false
   },
   "outputs": [],
   "source": [
    "%matplotlib inline\n",
    "%load_ext autoreload\n",
    "%autoreload 2"
   ]
  },
  {
   "cell_type": "code",
   "execution_count": 2,
   "metadata": {
    "collapsed": false
   },
   "outputs": [
    {
     "name": "stderr",
     "output_type": "stream",
     "text": [
      "/Users/kristjanjonsson/Development/Notebooks/venv/lib/python3.5/site-packages/IPython/html.py:14: ShimWarning: The `IPython.html` package has been deprecated. You should import from `notebook` instead. `IPython.html.widgets` has moved to `ipywidgets`.\n",
      "  \"`IPython.html.widgets` has moved to `ipywidgets`.\", ShimWarning)\n"
     ]
    }
   ],
   "source": [
    "import gzip\n",
    "\n",
    "import numpy as np\n",
    "import scipy as scp\n",
    "import matplotlib.pyplot as plt\n",
    "import seaborn as sns\n",
    "import sklearn\n",
    "from sklearn.cross_validation import train_test_split\n",
    "\n",
    "from utils import effectiveDimension, factorize, gram, hiddenTargets"
   ]
  },
  {
   "cell_type": "markdown",
   "metadata": {},
   "source": [
    "## MNIST dataset"
   ]
  },
  {
   "cell_type": "code",
   "execution_count": 3,
   "metadata": {
    "collapsed": true
   },
   "outputs": [],
   "source": [
    "def parse_img(filename):\n",
    "    '''Parses mnist images in filename.'''\n",
    "    f = gzip.open(filename)\n",
    "    arr = np.frombuffer(f.read(), dtype=np.dtype('>u1'), offset=16)\n",
    "    f.close()\n",
    "    return arr.reshape((-1, 28*28))\n",
    "\n",
    "def parse_label(filename):\n",
    "    '''Parses mnist labels in filename.'''\n",
    "    f = gzip.open(filename)\n",
    "    arr = np.frombuffer(f.read(), dtype=np.dtype('>u1'), offset=8)\n",
    "    f.close()\n",
    "    return arr"
   ]
  },
  {
   "cell_type": "code",
   "execution_count": 4,
   "metadata": {
    "collapsed": false
   },
   "outputs": [
    {
     "name": "stdout",
     "output_type": "stream",
     "text": [
      "(60000, 784) uint8\n",
      "(60000,) uint8\n"
     ]
    }
   ],
   "source": [
    "X_data = parse_img('mnist data/train-images-idx3-ubyte.gz')\n",
    "y_data = parse_label('mnist data/train-labels-idx1-ubyte.gz')\n",
    "print(X_data.shape, X_data.dtype)\n",
    "print(y_data.shape, y_data.dtype)"
   ]
  },
  {
   "cell_type": "code",
   "execution_count": 5,
   "metadata": {
    "collapsed": false
   },
   "outputs": [
    {
     "data": {
      "image/png": "[encoded data removed]",
      "text/plain": [
       "<matplotlib.figure.Figure at 0x10dac8198>"
      ]
     },
     "metadata": {},
     "output_type": "display_data"
    }
   ],
   "source": [
    "def plot_img(x):\n",
    "    plt.figure(figsize=(3, 3))\n",
    "    plt.imshow(x.reshape((28, 28)), cmap=plt.cm.gray_r)\n",
    "    plt.grid(False)\n",
    "    plt.tick_params(labelbottom=False, labelleft=False)\n",
    "\n",
    "plot_img(X_data[np.random.randint(0, len(X_data))])"
   ]
  },
  {
   "cell_type": "code",
   "execution_count": 6,
   "metadata": {
    "collapsed": false
   },
   "outputs": [
    {
     "name": "stdout",
     "output_type": "stream",
     "text": [
      "(6131, 784)\n",
      "(5851, 784)\n",
      "\n",
      "(11982, 784)\n",
      "(11982,)\n",
      "\n"
     ]
    }
   ],
   "source": [
    "# We'll use the 3s and 8s.\n",
    "X3 = X_data[y_data == 3]\n",
    "X8 = X_data[y_data == 8]\n",
    "print(X3.shape)\n",
    "print(X8.shape)\n",
    "print()\n",
    "\n",
    "X = np.vstack([X3, X8])\n",
    "y = np.concatenate([[-1] * len(X3), [1] * len(X8)])\n",
    "print(X.shape)\n",
    "print(y.shape)\n",
    "print()"
   ]
  },
  {
   "cell_type": "code",
   "execution_count": 7,
   "metadata": {
    "collapsed": false
   },
   "outputs": [],
   "source": [
    "def preprocessX(X):\n",
    "    m = np.mean(X, axis=0)\n",
    "    X = X - m\n",
    "    norms = np.linalg.norm(X, axis=1)\n",
    "    mNorm = np.mean(norms)\n",
    "    X = X / mNorm\n",
    "    return X\n",
    "\n",
    "X = preprocessX(X.astype(float))\n",
    "y = y.astype(float)"
   ]
  },
  {
   "cell_type": "code",
   "execution_count": 27,
   "metadata": {
    "collapsed": false
   },
   "outputs": [
    {
     "name": "stdout",
     "output_type": "stream",
     "text": [
      "(6131, 784)\n",
      "(5851, 784)\n",
      "\n",
      "(11982, 784)\n",
      "(11982,)\n",
      "\n",
      "(11970, 784)\n",
      "(11970,)\n",
      "(12, 784)\n",
      "(12,)\n"
     ]
    }
   ],
   "source": [
    "X_train, X_test, y_train, y_test = train_test_split(X, y, train_size=0.999)\n",
    "print(X_train.shape)\n",
    "print(y_train.shape)\n",
    "print(X_test.shape)\n",
    "print(y_test.shape)"
   ]
  },
  {
   "cell_type": "code",
   "execution_count": 67,
   "metadata": {
    "collapsed": false
   },
   "outputs": [
    {
     "name": "stdout",
     "output_type": "stream",
     "text": [
      "Label of sample image is -1\n"
     ]
    },
    {
     "data": {
      "image/png": "[encoded data removed]",
      "text/plain": [
       "<matplotlib.figure.Figure at 0x107be6438>"
      ]
     },
     "metadata": {},
     "output_type": "display_data"
    }
   ],
   "source": [
    "# Sanity check.\n",
    "sampleImgIdx = np.random.randint(0, len(X_train))\n",
    "sampleImg = X_train[sampleImgIdx]\n",
    "sampleLabel = y_train[sampleImgIdx]\n",
    "print('Label of sample image is ' + str(sampleLabel))\n",
    "plot_img(sampleImg)"
   ]
  },
  {
   "cell_type": "markdown",
   "metadata": {},
   "source": [
    "## Next steps\n",
    "1. Plot eigenvalues as a function of i where i is the ith largest eigenvalue. Do for different $\\alpha \\in [0, 1]$\n",
    "1. Plot $d_{95}$ (effective dimension) as a function of $\\alpha$.\n",
    "1. Logistic (or SVM) error as a function of $\\alpha$. (note hidden targest are input an label targets). \n",
    "\n",
    "Question:\n",
    "Throw away eigenvalues below some threshold. Not the same as $d_{95}$"
   ]
  },
  {
   "cell_type": "markdown",
   "metadata": {},
   "source": [
    "## IO function\n",
    "To help with saving and loading experiments."
   ]
  },
  {
   "cell_type": "code",
   "execution_count": 29,
   "metadata": {
    "collapsed": false
   },
   "outputs": [],
   "source": [
    "from time import time\n",
    "import os\n",
    "from os.path import isdir, join\n",
    "from glob import fnmatch\n",
    "\n",
    "def filePrefix(alpha):\n",
    "    '''x is a float.'''\n",
    "    s = '{0:f}'.format(alpha)\n",
    "    prefix = s.replace('.', '_')\n",
    "    return 'alpha_' + prefix + '_'\n",
    "\n",
    "\n",
    "def createSaveDirectory():\n",
    "    '''Creates a unique directory in data/ based on timestamp.'''\n",
    "    directoryName = str(int(time()))\n",
    "    path = join('data', directoryName)\n",
    "    !mkdir $path\n",
    "    assert isdir(path), 'Directory does not exist\\n{0}'.format(path)\n",
    "    return path\n",
    "\n",
    "    \n",
    "def save(arr, alpha, path, which): \n",
    "    '''\n",
    "    arr: The numpy array to save.\n",
    "    alpha: The alpha associated with this calculation. See above definition.\n",
    "    path: the directory to store the data.\n",
    "    which: either \"eigvals\" or \"H\".\n",
    "    \n",
    "    returns an iterator of stored eigvals or H.\n",
    "    '''\n",
    "    fname = join(path, filePrefix(alpha) + which)\n",
    "    np.save(fname, arr)\n",
    "    print('Saved: ' + fname)\n",
    "  \n",
    "\n",
    "def load(path, which):\n",
    "    '''\n",
    "    path: the directory of the data.\n",
    "    which: either \"eigvals\" or \"H\".\n",
    "    \n",
    "    returns an iterator of stored eigvals or H.\n",
    "    '''\n",
    "    fnames = fnmatch.filter(os.listdir(path), '*{0}*'.format(which))\n",
    "    print('Loading: {0}, from {1}'.format(','.join(sorted(fnames)), path))\n",
    "    for fname in sorted(fnames):\n",
    "        fullPath = join(path, fname)\n",
    "        \n",
    "        yield np.load(fullPath)\n",
    "        \n"
   ]
  },
  {
   "cell_type": "code",
   "execution_count": 42,
   "metadata": {
    "collapsed": false
   },
   "outputs": [
    {
     "name": "stdout",
     "output_type": "stream",
     "text": [
      "Saving results in dir: data/1456811360\n",
      "Saved: data/1456811360/alpha_0_000000_H\n",
      "Saved: data/1456811360/alpha_0_000000_eigvals\n",
      "Saved: data/1456811360/alpha_0_000000_H\n",
      "Saved: data/1456811360/alpha_0_000000_eigvals\n",
      "Saved: data/1456811360/alpha_0_000000_H\n",
      "Saved: data/1456811360/alpha_0_000000_eigvals\n",
      "Saved: data/1456811360/alpha_0_000000_H\n",
      "Saved: data/1456811360/alpha_0_000000_eigvals\n",
      "Saved: data/1456811360/alpha_0_000001_H\n",
      "Saved: data/1456811360/alpha_0_000001_eigvals\n",
      "Saved: data/1456811360/alpha_0_000003_H\n",
      "Saved: data/1456811360/alpha_0_000003_eigvals\n"
     ]
    }
   ],
   "source": [
    "def computeHiddenTargets(alphas, X, y):\n",
    "    XG = gram(X)\n",
    "    YG = np.outer(y, y)\n",
    "\n",
    "    path = createSaveDirectory()\n",
    "    np.save(join(path, 'alphas'), alphas)\n",
    "    np.save(join(path, 'X'), X)\n",
    "    np.save(join(path, 'y'), y)\n",
    "    print('Saving results in dir: ' + path)\n",
    "    for alpha in alphas:\n",
    "        H, eigvals = hiddenTargets(XG, YG, alpha)\n",
    "        save(H, alpha, path, 'H')\n",
    "        save(eigvals, alpha, path, 'eigvals')\n",
    "\n",
    "alphas = np.array([1e-8, 3e-8, 1e-7, 3e-7, 1e-6, 3e-6])\n",
    "computeHiddenTargets(alphas, X, y)"
   ]
  },
  {
   "cell_type": "code",
   "execution_count": 44,
   "metadata": {
    "collapsed": true
   },
   "outputs": [],
   "source": [
    "experiment_number = '1456811360'"
   ]
  },
  {
   "cell_type": "code",
   "execution_count": 45,
   "metadata": {
    "collapsed": false
   },
   "outputs": [
    {
     "name": "stdout",
     "output_type": "stream",
     "text": [
      "Loading: alpha_0_00000001_eigvals.npy,alpha_0_00000003_eigvals.npy,alpha_0_0000001_eigvals.npy,alpha_0_0000003_eigvals.npy,alpha_0_000001_eigvals.npy,alpha_0_000003_eigvals.npy, from data/1456811360/\n"
     ]
    },
    {
     "data": {
      "image/png": "[encoded data removed]",
      "text/plain": [
       "<matplotlib.figure.Figure at 0x1107f1b70>"
      ]
     },
     "metadata": {},
     "output_type": "display_data"
    }
   ],
   "source": [
    "eigvals = load('data/{0}/'.format(experiment_number), which='eigvals')\n",
    "# alphas = np.arange(0, 1.05, 0.05)\n",
    "p95 = np.array([effectiveDimension(eigval, p=0.95) for eigval in eigvals])\n",
    "plt.plot(alphas, p95);\n"
   ]
  },
  {
   "cell_type": "code",
   "execution_count": 50,
   "metadata": {
    "collapsed": false
   },
   "outputs": [
    {
     "name": "stdout",
     "output_type": "stream",
     "text": [
      "Loading: alpha_0_00000001_eigvals.npy,alpha_0_00000003_eigvals.npy,alpha_0_0000001_eigvals.npy,alpha_0_0000003_eigvals.npy,alpha_0_000001_eigvals.npy,alpha_0_000003_eigvals.npy, from data/1456811360/\n"
     ]
    },
    {
     "data": {
      "image/png": "[encoded data removed]",
      "text/plain": [
       "<matplotlib.figure.Figure at 0x111f0b0f0>"
      ]
     },
     "metadata": {},
     "output_type": "display_data"
    }
   ],
   "source": [
    "plt.hold(True)\n",
    "for eigvals in load('data/{0}/'.format(experiment_number), which='eigvals'):\n",
    "    plt.plot(eigvals[:30])\n",
    "    \n",
    "plt.hold(False)"
   ]
  },
  {
   "cell_type": "code",
   "execution_count": 51,
   "metadata": {
    "collapsed": false
   },
   "outputs": [
    {
     "name": "stdout",
     "output_type": "stream",
     "text": [
      "Loading: alpha_0_00000001_eigvals.npy,alpha_0_00000003_eigvals.npy,alpha_0_0000001_eigvals.npy,alpha_0_0000003_eigvals.npy,alpha_0_000001_eigvals.npy,alpha_0_000003_eigvals.npy, from data/1456811360/\n"
     ]
    },
    {
     "data": {
      "image/png": "[encoded data removed]",
      "text/plain": [
       "<matplotlib.figure.Figure at 0x1120a30f0>"
      ]
     },
     "metadata": {},
     "output_type": "display_data"
    }
   ],
   "source": [
    "plt.xlim(0, 10)\n",
    "plt.hold(True)\n",
    "for eigvals in load('data/{0}/'.format(experiment_number), which='eigvals'):\n",
    "    plt.plot(eigvals / eigvals.sum())\n",
    "plt.hold(False);"
   ]
  },
  {
   "cell_type": "code",
   "execution_count": 28,
   "metadata": {
    "collapsed": false
   },
   "outputs": [
    {
     "data": {
      "text/plain": [
       "(11982,)"
      ]
     },
     "execution_count": 28,
     "metadata": {},
     "output_type": "execute_result"
    }
   ],
   "source": [
    "y.shape"
   ]
  },
  {
   "cell_type": "code",
   "execution_count": 52,
   "metadata": {
    "collapsed": false
   },
   "outputs": [
    {
     "name": "stdout",
     "output_type": "stream",
     "text": [
      "Loading: alpha_0_00000001_H.npy,alpha_0_00000003_H.npy,alpha_0_0000001_H.npy,alpha_0_0000003_H.npy,alpha_0_000001_H.npy,alpha_0_000003_H.npy, from data/1456811360/\n",
      "(11982, 613)\n",
      "(11982, 613)\n",
      "(11982, 613)\n",
      "(11982, 613)\n",
      "(11982, 613)\n",
      "(11982, 613)\n"
     ]
    }
   ],
   "source": [
    "from sklearn.linear_model import LogisticRegression\n",
    "\n",
    "error_train = []\n",
    "for H in load('data/{0}/'.format(experiment_number), which='H'):\n",
    "    print(H.shape)\n",
    "    model = LogisticRegression(C=1e6)\n",
    "    model.fit(H, y)\n",
    "    error_train.append((model.predict(H) != y).mean())"
   ]
  },
  {
   "cell_type": "code",
   "execution_count": 55,
   "metadata": {
    "collapsed": false
   },
   "outputs": [
    {
     "data": {
      "text/plain": [
       "[0.0080954765481555668, 0.0027541311967951929, 0.0, 0.0, 0.0, 0.0]"
      ]
     },
     "execution_count": 55,
     "metadata": {},
     "output_type": "execute_result"
    }
   ],
   "source": [
    "error_train"
   ]
  },
  {
   "cell_type": "code",
   "execution_count": 58,
   "metadata": {
    "collapsed": false
   },
   "outputs": [
    {
     "data": {
      "text/plain": [
       "[<matplotlib.lines.Line2D at 0x11268e358>]"
      ]
     },
     "execution_count": 58,
     "metadata": {},
     "output_type": "execute_result"
    },
    {
     "data": {
      "image/png": "[encoded data removed]",
      "text/plain": [
       "<matplotlib.figure.Figure at 0x1124cb588>"
      ]
     },
     "metadata": {},
     "output_type": "display_data"
    }
   ],
   "source": [
    "plt.semilogx(alphas, error_train)"
   ]
  },
  {
   "cell_type": "markdown",
   "metadata": {},
   "source": [
    "Schedule Rob\n",
    "Mondays: Anytime\n",
    "Wednesdays: anytime. \n",
    "Thursdays: 12:30 - 1:45, 3:30 - 4:45\n",
    "Fridays: After surfing."
   ]
  },
  {
   "cell_type": "markdown",
   "metadata": {},
   "source": [
    "# First attempt at model.\n",
    "Each layer is affine - relu - affine\n",
    "\n",
    "Gradient check the layers."
   ]
  },
  {
   "cell_type": "code",
   "execution_count": 8,
   "metadata": {
    "collapsed": false
   },
   "outputs": [],
   "source": [
    "from models.nets import AffineReluAffineNet\n",
    "from models.gradient_check import eval_numerical_gradient, eval_numerical_gradient_array\n",
    "from models.solver import Solver\n",
    "\n",
    "def rel_error(x, y):\n",
    "  \"\"\" returns relative error \"\"\"\n",
    "  return np.max(np.abs(x - y) / (np.maximum(1e-8, np.abs(x) + np.abs(y))))"
   ]
  },
  {
   "cell_type": "code",
   "execution_count": 9,
   "metadata": {
    "collapsed": false
   },
   "outputs": [
    {
     "ename": "ImportError",
     "evalue": "No module named 'models.layer_utils'",
     "output_type": "error",
     "traceback": [
      "\u001b[0;31m---------------------------------------------------------------------------\u001b[0m",
      "\u001b[0;31mImportError\u001b[0m                               Traceback (most recent call last)",
      "\u001b[0;32m<ipython-input-9-37a2938c6a54>\u001b[0m in \u001b[0;36m<module>\u001b[0;34m()\u001b[0m\n\u001b[1;32m      1\u001b[0m \u001b[0;31m# This needs to be modified.\u001b[0m\u001b[0;34m\u001b[0m\u001b[0;34m\u001b[0m\u001b[0m\n\u001b[1;32m      2\u001b[0m \u001b[0;34m\u001b[0m\u001b[0m\n\u001b[0;32m----> 3\u001b[0;31m \u001b[0;32mfrom\u001b[0m \u001b[0mmodels\u001b[0m\u001b[0;34m.\u001b[0m\u001b[0mlayer_utils\u001b[0m \u001b[0;32mimport\u001b[0m \u001b[0maffine_relu_affine_forward\u001b[0m\u001b[0;34m,\u001b[0m \u001b[0maffine_relu_affine_backward\u001b[0m\u001b[0;34m\u001b[0m\u001b[0m\n\u001b[0m\u001b[1;32m      4\u001b[0m \u001b[0;34m\u001b[0m\u001b[0m\n\u001b[1;32m      5\u001b[0m \u001b[0mx\u001b[0m \u001b[0;34m=\u001b[0m \u001b[0mnp\u001b[0m\u001b[0;34m.\u001b[0m\u001b[0mrandom\u001b[0m\u001b[0;34m.\u001b[0m\u001b[0mrandn\u001b[0m\u001b[0;34m(\u001b[0m\u001b[0;36m2\u001b[0m\u001b[0;34m,\u001b[0m \u001b[0;36m3\u001b[0m\u001b[0;34m,\u001b[0m \u001b[0;36m4\u001b[0m\u001b[0;34m)\u001b[0m\u001b[0;34m\u001b[0m\u001b[0m\n",
      "\u001b[0;31mImportError\u001b[0m: No module named 'models.layer_utils'"
     ]
    }
   ],
   "source": [
    "# This needs to be modified.\n",
    "\n",
    "from models.layer_utils import affine_relu_affine_forward, affine_relu_affine_backward\n",
    "\n",
    "x = np.random.randn(2, 3, 4)\n",
    "w1 = np.random.randn(12, 10)\n",
    "w2 = np.random.randn(10, 10)\n",
    "b1 = np.random.randn(10)\n",
    "b2 = np.random.randn(10)\n",
    "dout = np.random.randn(2, 10)\n",
    "\n",
    "out, cache = affine_relu_affine_forward(x, w1, b1, w2, b2)\n",
    "dx, dw1, db1, dw2, db2 = affine_relu_affine_backward(dout, cache)\n",
    "\n",
    "fx = lambda x: affine_relu_affine_forward(x, w1, b1, w2, b2)[0]\n",
    "fw1 = lambda w1: affine_relu_affine_forward(x, w1, b1, w2, b2)[0]\n",
    "fb1 = lambda b1: affine_relu_affine_forward(x, w1, b1, w2, b2)[0]\n",
    "fw2 = lambda w2: affine_relu_affine_forward(x, w1, b1, w2, b2)[0]\n",
    "fb2 = lambda b2: affine_relu_affine_forward(x, w1, b1, w2, b2)[0]\n",
    "\n",
    "dx_num = eval_numerical_gradient_array(fx, x, dout)\n",
    "dw1_num = eval_numerical_gradient_array(fw1, w1, dout)\n",
    "db1_num = eval_numerical_gradient_array(fb1, b1, dout)\n",
    "dw2_num = eval_numerical_gradient_array(fw2, w2, dout)\n",
    "db2_num = eval_numerical_gradient_array(fb2, b2, dout)\n",
    "\n",
    "print ('Testing affine_relu_affine_forward:')\n",
    "print ('dx error: ', rel_error(dx_num, dx))\n",
    "print ('dw1 error: ', rel_error(dw1_num, dw1))\n",
    "print ('db1 error: ', rel_error(db1_num, db1))\n",
    "print ('dw2 error: ', rel_error(dw2_num, dw2))\n",
    "print ('db2 error: ', rel_error(db2_num, db2))"
   ]
  },
  {
   "cell_type": "code",
   "execution_count": 10,
   "metadata": {
    "collapsed": false
   },
   "outputs": [
    {
     "data": {
      "text/plain": [
       "0.071428571428571425"
      ]
     },
     "execution_count": 10,
     "metadata": {},
     "output_type": "execute_result"
    }
   ],
   "source": [
    "init_scale = 2 / np.sqrt(28*28)\n",
    "init_scale"
   ]
  },
  {
   "cell_type": "code",
   "execution_count": 11,
   "metadata": {
    "collapsed": false
   },
   "outputs": [
    {
     "name": "stdout",
     "output_type": "stream",
     "text": [
      "2.28297057292\n"
     ]
    }
   ],
   "source": [
    "model = AffineReluAffineNet(hidden_dims=[30, 30, 30], \n",
    "                          input_dim=28*28, \n",
    "                          num_classes=10, \n",
    "                          reg=0, \n",
    "                          weight_scale=init_scale)\n",
    "\n",
    "loss, grads = model.loss(X_data, y_data)\n",
    "print(loss)  # Should be around 2.3"
   ]
  },
  {
   "cell_type": "code",
   "execution_count": 32,
   "metadata": {
    "collapsed": false
   },
   "outputs": [
    {
     "name": "stdout",
     "output_type": "stream",
     "text": [
      "737.344927017\n"
     ]
    }
   ],
   "source": [
    "model = AffineReluAffineNet(hidden_dims=[30, 30, 30], \n",
    "                          input_dim=28*28, \n",
    "                          num_classes=10, \n",
    "                          reg=10, \n",
    "                          weight_scale=init_scale)\n",
    "\n",
    "\n",
    "loss, grads = model.loss(X_data, y_data)\n",
    "print(loss)  "
   ]
  },
  {
   "cell_type": "code",
   "execution_count": 36,
   "metadata": {
    "collapsed": false
   },
   "outputs": [
    {
     "data": {
      "text/plain": [
       "[<models.layers.AffineReluAffine at 0x11954ea90>]"
      ]
     },
     "execution_count": 36,
     "metadata": {},
     "output_type": "execute_result"
    }
   ],
   "source": [
    "model.layers\n",
    "submodel = model[0]\n",
    "submodel.layers"
   ]
  },
  {
   "cell_type": "code",
   "execution_count": 13,
   "metadata": {
    "collapsed": false
   },
   "outputs": [
    {
     "name": "stdout",
     "output_type": "stream",
     "text": [
      "(Iteration 1 / 300) loss: 2.301971\n",
      "(Epoch 0 / 30) train acc: 0.137000; val_acc: 0.138525\n",
      "(Epoch 1 / 30) train acc: 0.282000; val_acc: 0.262898\n",
      "(Epoch 2 / 30) train acc: 0.591000; val_acc: 0.554508\n",
      "(Epoch 3 / 30) train acc: 0.680000; val_acc: 0.631915\n",
      "(Epoch 4 / 30) train acc: 0.745000; val_acc: 0.703407\n",
      "(Epoch 5 / 30) train acc: 0.794000; val_acc: 0.744034\n",
      "(Epoch 6 / 30) train acc: 0.840000; val_acc: 0.779763\n",
      "(Epoch 7 / 30) train acc: 0.866000; val_acc: 0.797729\n",
      "(Epoch 8 / 30) train acc: 0.883000; val_acc: 0.793203\n",
      "(Epoch 9 / 30) train acc: 0.897000; val_acc: 0.820847\n",
      "(Epoch 10 / 30) train acc: 0.919000; val_acc: 0.823220\n",
      "(Iteration 101 / 300) loss: 0.395248\n",
      "(Epoch 11 / 30) train acc: 0.920000; val_acc: 0.826119\n",
      "(Epoch 12 / 30) train acc: 0.935000; val_acc: 0.831322\n",
      "(Epoch 13 / 30) train acc: 0.948000; val_acc: 0.835932\n",
      "(Epoch 14 / 30) train acc: 0.959000; val_acc: 0.843136\n",
      "(Epoch 15 / 30) train acc: 0.960000; val_acc: 0.846949\n",
      "(Epoch 16 / 30) train acc: 0.964000; val_acc: 0.842966\n",
      "(Epoch 17 / 30) train acc: 0.973000; val_acc: 0.845186\n",
      "(Epoch 18 / 30) train acc: 0.973000; val_acc: 0.849661\n",
      "(Epoch 19 / 30) train acc: 0.982000; val_acc: 0.847695\n",
      "(Epoch 20 / 30) train acc: 0.983000; val_acc: 0.849186\n",
      "(Iteration 201 / 300) loss: 0.068887\n",
      "(Epoch 21 / 30) train acc: 0.981000; val_acc: 0.848915\n",
      "(Epoch 22 / 30) train acc: 0.989000; val_acc: 0.850492\n",
      "(Epoch 23 / 30) train acc: 0.991000; val_acc: 0.850695\n",
      "(Epoch 24 / 30) train acc: 0.994000; val_acc: 0.850712\n",
      "(Epoch 25 / 30) train acc: 0.994000; val_acc: 0.848644\n",
      "(Epoch 26 / 30) train acc: 0.995000; val_acc: 0.850000\n",
      "(Epoch 27 / 30) train acc: 0.998000; val_acc: 0.851644\n",
      "(Epoch 28 / 30) train acc: 0.995000; val_acc: 0.850932\n",
      "(Epoch 29 / 30) train acc: 0.997000; val_acc: 0.854949\n",
      "(Epoch 30 / 30) train acc: 0.997000; val_acc: 0.852831\n"
     ]
    }
   ],
   "source": [
    "X_train, X_test, y_train, y_test = train_test_split(X_data, y_data, train_size=1000)\n",
    "data = dict(X_train=X_train, X_val=X_test, y_train=y_train, y_val=y_test)\n",
    "\n",
    "init_scale = 2 / np.sqrt(28*28) \n",
    "model = AffineReluAffineNet(hidden_dims=[30, 30, 30], \n",
    "                          input_dim=28*28, \n",
    "                          num_classes=10, \n",
    "                          reg=0, \n",
    "                          weight_scale=init_scale)\n",
    "\n",
    "solver = Solver(model, data,\n",
    "                update_rule='adam',\n",
    "                optim_config={\n",
    "                  'learning_rate': 1e-3,\n",
    "                },\n",
    "                lr_decay=0.95,\n",
    "                num_epochs=30, batch_size=100,\n",
    "                print_every=100)\n",
    "solver.train()"
   ]
  },
  {
   "cell_type": "code",
   "execution_count": 14,
   "metadata": {
    "collapsed": false
   },
   "outputs": [
    {
     "name": "stdout",
     "output_type": "stream",
     "text": [
      "[(0, 'W1'), (0, 'W2'), (0, 'b1'), (0, 'b2'), (1, 'W1'), (1, 'W2'), (1, 'b1'), (1, 'b2'), (2, 'W1'), (2, 'W2'), (2, 'b1'), (2, 'b2'), (3, 'W'), (3, 'b')]\n"
     ]
    }
   ],
   "source": [
    "print(sorted(model.params.keys()))"
   ]
  },
  {
   "cell_type": "code",
   "execution_count": 15,
   "metadata": {
    "collapsed": false
   },
   "outputs": [
    {
     "name": "stdout",
     "output_type": "stream",
     "text": [
      "Running check with reg =  0\n",
      "Initial loss:  2.30194354405\n",
      "(0, 'W1') relative error: 6.31e-06\n",
      "(0, 'W2') relative error: 1.74e-06\n",
      "(0, 'b1') relative error: 9.31e-08\n",
      "(0, 'b2') relative error: 1.08e-07\n",
      "(1, 'W1') relative error: 4.79e-05\n",
      "(1, 'W2') relative error: 6.55e-06\n",
      "(1, 'b1') relative error: 2.07e-08\n",
      "(1, 'b2') relative error: 7.67e-09\n",
      "(2, 'W') relative error: 1.51e-06\n",
      "(2, 'b') relative error: 1.21e-10\n",
      "Running check with reg =  3.14\n",
      "Initial loss:  12.1133693468\n",
      "(0, 'W1') relative error: 1.17e-07\n",
      "(0, 'W2') relative error: 3.22e-08\n",
      "(0, 'b1') relative error: 2.69e-07\n",
      "(0, 'b2') relative error: 1.42e-07\n",
      "(1, 'W1') relative error: 1.61e-08\n",
      "(1, 'W2') relative error: 1.12e-07\n",
      "(1, 'b1') relative error: 2.20e-08\n",
      "(1, 'b2') relative error: 8.56e-08\n",
      "(2, 'W') relative error: 1.77e-08\n",
      "(2, 'b') relative error: 3.87e-10\n"
     ]
    }
   ],
   "source": [
    "N, D, H1, H2, C = 2, 15, 20, 30, 10\n",
    "X = np.random.randn(N, D)\n",
    "y = np.random.randint(C, size=(N,))\n",
    "\n",
    "for reg in [0, 3.14]:\n",
    "    print ('Running check with reg = ', reg)\n",
    "    model = AffineReluAffineNet([H1, H2], input_dim=D, num_classes=C,\n",
    "                            reg=reg, weight_scale=5e-2, dtype=np.float64)\n",
    "\n",
    "    loss, grads = model.loss(X, y)\n",
    "    print ('Initial loss: ', loss)\n",
    "\n",
    "    for name in sorted(grads):\n",
    "        f = lambda _: model.loss(X, y)[0]\n",
    "        grad_num = eval_numerical_gradient(f, model.params[name], verbose=False, h=1e-5)\n",
    "        print ('%s relative error: %.2e' % (name, rel_error(grad_num, grads[name])))"
   ]
  },
  {
   "cell_type": "code",
   "execution_count": 16,
   "metadata": {
    "collapsed": false
   },
   "outputs": [
    {
     "name": "stdout",
     "output_type": "stream",
     "text": [
      "(Iteration 1 / 16200) loss: 2.289934\n",
      "(Epoch 0 / 30) train acc: 0.118000; val_acc: 0.112833\n",
      "(Iteration 101 / 16200) loss: 0.498059\n",
      "(Iteration 201 / 16200) loss: 0.355993\n",
      "(Iteration 301 / 16200) loss: 0.254787\n",
      "(Iteration 401 / 16200) loss: 0.281160\n",
      "(Iteration 501 / 16200) loss: 0.175544\n",
      "(Epoch 1 / 30) train acc: 0.931000; val_acc: 0.931167\n",
      "(Iteration 601 / 16200) loss: 0.208472\n",
      "(Iteration 701 / 16200) loss: 0.136653\n",
      "(Iteration 801 / 16200) loss: 0.222881\n",
      "(Iteration 901 / 16200) loss: 0.086840\n",
      "(Iteration 1001 / 16200) loss: 0.254276\n",
      "(Epoch 2 / 30) train acc: 0.952000; val_acc: 0.945500\n",
      "(Iteration 1101 / 16200) loss: 0.081361\n",
      "(Iteration 1201 / 16200) loss: 0.306804\n",
      "(Iteration 1301 / 16200) loss: 0.160536\n",
      "(Iteration 1401 / 16200) loss: 0.136419\n",
      "(Iteration 1501 / 16200) loss: 0.163765\n",
      "(Iteration 1601 / 16200) loss: 0.164559\n",
      "(Epoch 3 / 30) train acc: 0.959000; val_acc: 0.954167\n",
      "(Iteration 1701 / 16200) loss: 0.175701\n",
      "(Iteration 1801 / 16200) loss: 0.199718\n",
      "(Iteration 1901 / 16200) loss: 0.107919\n",
      "(Iteration 2001 / 16200) loss: 0.184068\n",
      "(Iteration 2101 / 16200) loss: 0.148500\n",
      "(Epoch 4 / 30) train acc: 0.969000; val_acc: 0.962333\n",
      "(Iteration 2201 / 16200) loss: 0.094302\n",
      "(Iteration 2301 / 16200) loss: 0.114724\n",
      "(Iteration 2401 / 16200) loss: 0.135129\n",
      "(Iteration 2501 / 16200) loss: 0.101608\n",
      "(Iteration 2601 / 16200) loss: 0.083593\n",
      "(Epoch 5 / 30) train acc: 0.959000; val_acc: 0.962000\n",
      "(Iteration 2701 / 16200) loss: 0.106456\n",
      "(Iteration 2801 / 16200) loss: 0.109910\n",
      "(Iteration 2901 / 16200) loss: 0.089396\n",
      "(Iteration 3001 / 16200) loss: 0.038567\n",
      "(Iteration 3101 / 16200) loss: 0.206319\n",
      "(Iteration 3201 / 16200) loss: 0.045611\n",
      "(Epoch 6 / 30) train acc: 0.975000; val_acc: 0.957667\n",
      "(Iteration 3301 / 16200) loss: 0.114230\n",
      "(Iteration 3401 / 16200) loss: 0.090862\n",
      "(Iteration 3501 / 16200) loss: 0.088415\n",
      "(Iteration 3601 / 16200) loss: 0.050177\n",
      "(Iteration 3701 / 16200) loss: 0.053775\n",
      "(Epoch 7 / 30) train acc: 0.974000; val_acc: 0.955833\n",
      "(Iteration 3801 / 16200) loss: 0.078614\n",
      "(Iteration 3901 / 16200) loss: 0.233615\n",
      "(Iteration 4001 / 16200) loss: 0.059901\n",
      "(Iteration 4101 / 16200) loss: 0.030665\n",
      "(Iteration 4201 / 16200) loss: 0.124938\n",
      "(Iteration 4301 / 16200) loss: 0.033121\n",
      "(Epoch 8 / 30) train acc: 0.980000; val_acc: 0.963500\n",
      "(Iteration 4401 / 16200) loss: 0.089034\n",
      "(Iteration 4501 / 16200) loss: 0.061771\n",
      "(Iteration 4601 / 16200) loss: 0.117049\n",
      "(Iteration 4701 / 16200) loss: 0.061773\n",
      "(Iteration 4801 / 16200) loss: 0.061381\n",
      "(Epoch 9 / 30) train acc: 0.973000; val_acc: 0.959500\n",
      "(Iteration 4901 / 16200) loss: 0.057288\n",
      "(Iteration 5001 / 16200) loss: 0.072382\n",
      "(Iteration 5101 / 16200) loss: 0.033722\n",
      "(Iteration 5201 / 16200) loss: 0.059934\n",
      "(Iteration 5301 / 16200) loss: 0.111482\n",
      "(Epoch 10 / 30) train acc: 0.973000; val_acc: 0.958667\n",
      "(Iteration 5401 / 16200) loss: 0.018403\n",
      "(Iteration 5501 / 16200) loss: 0.090765\n",
      "(Iteration 5601 / 16200) loss: 0.085855\n",
      "(Iteration 5701 / 16200) loss: 0.034460\n",
      "(Iteration 5801 / 16200) loss: 0.051774\n",
      "(Iteration 5901 / 16200) loss: 0.012666\n",
      "(Epoch 11 / 30) train acc: 0.989000; val_acc: 0.968500\n",
      "(Iteration 6001 / 16200) loss: 0.055220\n",
      "(Iteration 6101 / 16200) loss: 0.013023\n",
      "(Iteration 6201 / 16200) loss: 0.005064\n",
      "(Iteration 6301 / 16200) loss: 0.029431\n",
      "(Iteration 6401 / 16200) loss: 0.049590\n",
      "(Epoch 12 / 30) train acc: 0.984000; val_acc: 0.968167\n",
      "(Iteration 6501 / 16200) loss: 0.067374\n",
      "(Iteration 6601 / 16200) loss: 0.009733\n",
      "(Iteration 6701 / 16200) loss: 0.117837\n",
      "(Iteration 6801 / 16200) loss: 0.107327\n",
      "(Iteration 6901 / 16200) loss: 0.047718\n",
      "(Iteration 7001 / 16200) loss: 0.054443\n",
      "(Epoch 13 / 30) train acc: 0.987000; val_acc: 0.963833\n",
      "(Iteration 7101 / 16200) loss: 0.056292\n",
      "(Iteration 7201 / 16200) loss: 0.004012\n",
      "(Iteration 7301 / 16200) loss: 0.024809\n",
      "(Iteration 7401 / 16200) loss: 0.051720\n",
      "(Iteration 7501 / 16200) loss: 0.014572\n",
      "(Epoch 14 / 30) train acc: 0.990000; val_acc: 0.968167\n",
      "(Iteration 7601 / 16200) loss: 0.036190\n",
      "(Iteration 7701 / 16200) loss: 0.001646\n",
      "(Iteration 7801 / 16200) loss: 0.009762\n",
      "(Iteration 7901 / 16200) loss: 0.022916\n",
      "(Iteration 8001 / 16200) loss: 0.004112\n",
      "(Epoch 15 / 30) train acc: 0.985000; val_acc: 0.967833\n",
      "(Iteration 8101 / 16200) loss: 0.022423\n",
      "(Iteration 8201 / 16200) loss: 0.037498\n",
      "(Iteration 8301 / 16200) loss: 0.028538\n",
      "(Iteration 8401 / 16200) loss: 0.056206\n",
      "(Iteration 8501 / 16200) loss: 0.074757\n",
      "(Iteration 8601 / 16200) loss: 0.078978\n",
      "(Epoch 16 / 30) train acc: 0.989000; val_acc: 0.969167\n",
      "(Iteration 8701 / 16200) loss: 0.011365\n",
      "(Iteration 8801 / 16200) loss: 0.016664\n",
      "(Iteration 8901 / 16200) loss: 0.101804\n",
      "(Iteration 9001 / 16200) loss: 0.005447\n",
      "(Iteration 9101 / 16200) loss: 0.018516\n",
      "(Epoch 17 / 30) train acc: 0.992000; val_acc: 0.968833\n",
      "(Iteration 9201 / 16200) loss: 0.038017\n",
      "(Iteration 9301 / 16200) loss: 0.041796\n",
      "(Iteration 9401 / 16200) loss: 0.023535\n",
      "(Iteration 9501 / 16200) loss: 0.035973\n",
      "(Iteration 9601 / 16200) loss: 0.044234\n",
      "(Iteration 9701 / 16200) loss: 0.033446\n",
      "(Epoch 18 / 30) train acc: 0.993000; val_acc: 0.969833\n",
      "(Iteration 9801 / 16200) loss: 0.044387\n",
      "(Iteration 9901 / 16200) loss: 0.130114\n",
      "(Iteration 10001 / 16200) loss: 0.170798\n",
      "(Iteration 10101 / 16200) loss: 0.017864\n",
      "(Iteration 10201 / 16200) loss: 0.006515\n",
      "(Epoch 19 / 30) train acc: 0.992000; val_acc: 0.968167\n",
      "(Iteration 10301 / 16200) loss: 0.017601\n",
      "(Iteration 10401 / 16200) loss: 0.010299\n",
      "(Iteration 10501 / 16200) loss: 0.065253\n",
      "(Iteration 10601 / 16200) loss: 0.024475\n",
      "(Iteration 10701 / 16200) loss: 0.030334\n",
      "(Epoch 20 / 30) train acc: 0.993000; val_acc: 0.968500\n",
      "(Iteration 10801 / 16200) loss: 0.022097\n",
      "(Iteration 10901 / 16200) loss: 0.005919\n",
      "(Iteration 11001 / 16200) loss: 0.027546\n",
      "(Iteration 11101 / 16200) loss: 0.068402\n",
      "(Iteration 11201 / 16200) loss: 0.052039\n",
      "(Iteration 11301 / 16200) loss: 0.026964\n",
      "(Epoch 21 / 30) train acc: 0.993000; val_acc: 0.970333\n",
      "(Iteration 11401 / 16200) loss: 0.010748\n",
      "(Iteration 11501 / 16200) loss: 0.043585\n",
      "(Iteration 11601 / 16200) loss: 0.006943\n",
      "(Iteration 11701 / 16200) loss: 0.010369\n",
      "(Iteration 11801 / 16200) loss: 0.021803\n",
      "(Epoch 22 / 30) train acc: 0.992000; val_acc: 0.963833\n",
      "(Iteration 11901 / 16200) loss: 0.010776\n",
      "(Iteration 12001 / 16200) loss: 0.077872\n",
      "(Iteration 12101 / 16200) loss: 0.020978\n",
      "(Iteration 12201 / 16200) loss: 0.016578\n",
      "(Iteration 12301 / 16200) loss: 0.045015\n",
      "(Iteration 12401 / 16200) loss: 0.007802\n",
      "(Epoch 23 / 30) train acc: 0.993000; val_acc: 0.968667\n",
      "(Iteration 12501 / 16200) loss: 0.014112\n",
      "(Iteration 12601 / 16200) loss: 0.065113\n",
      "(Iteration 12701 / 16200) loss: 0.002806\n",
      "(Iteration 12801 / 16200) loss: 0.045317\n",
      "(Iteration 12901 / 16200) loss: 0.027531\n",
      "(Epoch 24 / 30) train acc: 0.989000; val_acc: 0.967167\n",
      "(Iteration 13001 / 16200) loss: 0.007213\n",
      "(Iteration 13101 / 16200) loss: 0.005662\n",
      "(Iteration 13201 / 16200) loss: 0.007752\n",
      "(Iteration 13301 / 16200) loss: 0.046443\n",
      "(Iteration 13401 / 16200) loss: 0.047933\n",
      "(Epoch 25 / 30) train acc: 0.990000; val_acc: 0.965000\n",
      "(Iteration 13501 / 16200) loss: 0.006396\n",
      "(Iteration 13601 / 16200) loss: 0.096107\n",
      "(Iteration 13701 / 16200) loss: 0.026247\n",
      "(Iteration 13801 / 16200) loss: 0.016074\n",
      "(Iteration 13901 / 16200) loss: 0.025935\n",
      "(Iteration 14001 / 16200) loss: 0.012918\n",
      "(Epoch 26 / 30) train acc: 0.989000; val_acc: 0.967833\n",
      "(Iteration 14101 / 16200) loss: 0.010701\n",
      "(Iteration 14201 / 16200) loss: 0.039850\n",
      "(Iteration 14301 / 16200) loss: 0.006207\n",
      "(Iteration 14401 / 16200) loss: 0.013887\n",
      "(Iteration 14501 / 16200) loss: 0.002156\n",
      "(Epoch 27 / 30) train acc: 0.993000; val_acc: 0.969500\n",
      "(Iteration 14601 / 16200) loss: 0.009997\n",
      "(Iteration 14701 / 16200) loss: 0.002152\n",
      "(Iteration 14801 / 16200) loss: 0.001221\n",
      "(Iteration 14901 / 16200) loss: 0.002964\n",
      "(Iteration 15001 / 16200) loss: 0.105469\n",
      "(Iteration 15101 / 16200) loss: 0.002449\n",
      "(Epoch 28 / 30) train acc: 0.998000; val_acc: 0.969833\n",
      "(Iteration 15201 / 16200) loss: 0.002675\n",
      "(Iteration 15301 / 16200) loss: 0.000300\n",
      "(Iteration 15401 / 16200) loss: 0.057870\n",
      "(Iteration 15501 / 16200) loss: 0.005588\n",
      "(Iteration 15601 / 16200) loss: 0.066467\n",
      "(Epoch 29 / 30) train acc: 0.991000; val_acc: 0.969333\n",
      "(Iteration 15701 / 16200) loss: 0.006061\n",
      "(Iteration 15801 / 16200) loss: 0.003609\n",
      "(Iteration 15901 / 16200) loss: 0.003295\n",
      "(Iteration 16001 / 16200) loss: 0.006802\n",
      "(Iteration 16101 / 16200) loss: 0.027013\n",
      "(Epoch 30 / 30) train acc: 0.996000; val_acc: 0.968333\n"
     ]
    }
   ],
   "source": [
    "X_train, X_test, y_train, y_test = train_test_split(X_data, y_data, train_size=0.9)\n",
    "data = dict(X_train=X_train, X_val=X_test, y_train=y_train, y_val=y_test)\n",
    "\n",
    "# for it in range(30):\n",
    "init_scale = 2 / np.sqrt(28*28) \n",
    "model = AffineReluAffineNet(hidden_dims=[30, 25, 30], \n",
    "                          input_dim=28*28, \n",
    "                          num_classes=10, \n",
    "                          reg=0, \n",
    "                          weight_scale=init_scale)\n",
    "\n",
    "solver = Solver(model, data,\n",
    "                update_rule='adam',\n",
    "                optim_config={\n",
    "                  'learning_rate': 1e-3,\n",
    "                },\n",
    "                lr_decay=0.95,\n",
    "                num_epochs=30, batch_size=100,\n",
    "                print_every=100)\n",
    "solver.train()"
   ]
  },
  {
   "cell_type": "code",
   "execution_count": 33,
   "metadata": {
    "collapsed": true
   },
   "outputs": [],
   "source": [
    "submodel = model[0:3]"
   ]
  },
  {
   "cell_type": "code",
   "execution_count": 34,
   "metadata": {
    "collapsed": false
   },
   "outputs": [
    {
     "data": {
      "text/plain": [
       "[<models.layers.AffineReluAffine at 0x11954ea90>,\n",
       " <models.layers.AffineReluAffine at 0x11954e198>,\n",
       " <models.layers.AffineReluAffine at 0x119552dd8>]"
      ]
     },
     "execution_count": 34,
     "metadata": {},
     "output_type": "execute_result"
    }
   ],
   "source": []
  }
 ],
 "metadata": {
  "kernelspec": {
   "display_name": "Python 3",
   "language": "python",
   "name": "python3"
  },
  "language_info": {
   "codemirror_mode": {
    "name": "ipython",
    "version": 3
   },
   "file_extension": ".py",
   "mimetype": "text/x-python",
   "name": "python",
   "nbconvert_exporter": "python",
   "pygments_lexer": "ipython3",
   "version": "3.5.0"
  }
 },
 "nbformat": 4,
 "nbformat_minor": 0
}
