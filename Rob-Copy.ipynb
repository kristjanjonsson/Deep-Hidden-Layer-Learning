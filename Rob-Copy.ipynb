{
 "cells": [
  {
   "cell_type": "code",
   "execution_count": 1,
   "metadata": {
    "collapsed": false
   },
   "outputs": [],
   "source": [
    "%matplotlib inline"
   ]
  },
  {
   "cell_type": "code",
   "execution_count": 2,
   "metadata": {
    "collapsed": false
   },
   "outputs": [],
   "source": [
    "import gzip\n",
    "\n",
    "import numpy as np\n",
    "import scipy as scp\n",
    "import matplotlib.pyplot as plt\n",
    "import seaborn as sns\n",
    "import sklearn\n",
    "from sklearn.cross_validation import train_test_split\n",
    "\n",
    "from utils import effectiveDimension, factorize, gram, hiddenTargets\n",
    "\n",
    "import sklearn\n",
    "from sklearn.linear_model import LogisticRegression"
   ]
  },
  {
   "cell_type": "markdown",
   "metadata": {},
   "source": [
    "## MNIST dataset"
   ]
  },
  {
   "cell_type": "code",
   "execution_count": 3,
   "metadata": {
    "collapsed": true
   },
   "outputs": [],
   "source": [
    "def parse_img(filename):\n",
    "    '''Parses mnist images in filename.'''\n",
    "    f = gzip.open(filename)\n",
    "    arr = np.frombuffer(f.read(), dtype=np.dtype('>u1'), offset=16)\n",
    "    arr = arr.astype(np.int64)\n",
    "    f.close()\n",
    "    return arr.reshape((-1, 28*28))\n",
    "\n",
    "def parse_label(filename):\n",
    "    '''Parses mnist labels in filename.'''\n",
    "    f = gzip.open(filename)\n",
    "    arr = np.frombuffer(f.read(), dtype=np.dtype('>u1'), offset=8)\n",
    "    f.close()\n",
    "    return arr"
   ]
  },
  {
   "cell_type": "code",
   "execution_count": 4,
   "metadata": {
    "collapsed": false
   },
   "outputs": [
    {
     "name": "stdout",
     "output_type": "stream",
     "text": [
      "(60000, 784) int64\n",
      "(60000,) uint8\n"
     ]
    }
   ],
   "source": [
    "X_data = parse_img('mnist data/train-images-idx3-ubyte.gz')\n",
    "y_data = parse_label('mnist data/train-labels-idx1-ubyte.gz')\n",
    "print(X_data.shape, X_data.dtype)\n",
    "print(y_data.shape, y_data.dtype)"
   ]
  },
  {
   "cell_type": "code",
   "execution_count": 106,
   "metadata": {
    "collapsed": false
   },
   "outputs": [
    {
     "data": {
      "image/png": "[encoded data removed]",
      "text/plain": [
       "<matplotlib.figure.Figure at 0x10953eef0>"
      ]
     },
     "metadata": {},
     "output_type": "display_data"
    }
   ],
   "source": [
    "def plot_img(x):\n",
    "    plt.figure(figsize=(3, 3))\n",
    "    plt.imshow(x.reshape((28, 28)), cmap=plt.cm.gray_r)\n",
    "    plt.grid(False)\n",
    "    plt.tick_params(labelbottom=False, labelleft=False)\n",
    "\n",
    "plot_img(X_data[np.random.randint(0, len(X_data))])"
   ]
  },
  {
   "cell_type": "code",
   "execution_count": 128,
   "metadata": {
    "collapsed": false
   },
   "outputs": [
    {
     "name": "stdout",
     "output_type": "stream",
     "text": [
      "(6131, 784)\n",
      "(5851, 784)\n",
      "\n",
      "(11982, 784)\n",
      "(11982,)\n",
      "\n"
     ]
    }
   ],
   "source": [
    "# We'll use the 3s and 8s.\n",
    "X3 = X_data[y_data == 3]\n",
    "X8 = X_data[y_data == 8]\n",
    "print(X3.shape)\n",
    "print(X8.shape)\n",
    "print()\n",
    "\n",
    "X = np.vstack([X3, X8])\n",
    "y = np.concatenate([[-1] * len(X3), [1] * len(X8)])\n",
    "print(X.shape)\n",
    "print(y.shape)\n",
    "print()\n"
   ]
  },
  {
   "cell_type": "code",
   "execution_count": 129,
   "metadata": {
    "collapsed": false
   },
   "outputs": [
    {
     "name": "stdout",
     "output_type": "stream",
     "text": [
      "accuracy: 0.980136871975\n"
     ]
    }
   ],
   "source": [
    "# Pick a mix of easy and hard samples\n",
    "model = LogisticRegression(C=.0001)\n",
    "model.fit(X, y)\n",
    "print(\"accuracy:\", sum(model.predict(X) == y) / len(y))"
   ]
  },
  {
   "cell_type": "code",
   "execution_count": 130,
   "metadata": {
    "collapsed": false
   },
   "outputs": [
    {
     "name": "stdout",
     "output_type": "stream",
     "text": [
      "(2119, 784)\n",
      "(2119,)\n",
      "(9863, 784)\n",
      "(9863,)\n"
     ]
    }
   ],
   "source": [
    "hard = X[model.predict(X) != y]\n",
    "hardLabels = y[model.predict(X) != y]\n",
    "\n",
    "easy = X[model.predict(X) == y]\n",
    "easyLabels = y[model.predict(X) == y]\n",
    "\n",
    "numHard = len(hard)\n",
    "hardX_train, hardX_test, hardY_train, hardY_test = train_test_split(hard, hardLabels, train_size=int(numHard/2))\n",
    "\n",
    "easyX_train, easyX_test, easyY_train, easyY_test = train_test_split(easy, easyLabels, train_size=2000)\n",
    "\n",
    "X_train = np.vstack([hardX_train, easyX_train])\n",
    "X_test = np.vstack([hardX_test, easyX_test])\n",
    "\n",
    "y_train = np.concatenate([hardY_train, easyY_train])\n",
    "y_test = np.concatenate([hardY_test, easyY_test])\n",
    "\n",
    "print(X_train.shape)\n",
    "print(y_train.shape)\n",
    "print(X_test.shape)\n",
    "print(y_test.shape)"
   ]
  },
  {
   "cell_type": "code",
   "execution_count": 131,
   "metadata": {
    "collapsed": false
   },
   "outputs": [],
   "source": [
    "def preprocessX(X):\n",
    "    m = np.mean(X, axis=0)\n",
    "    X = X - m\n",
    "    norms = np.linalg.norm(X, axis=1)\n",
    "    mNorm = np.mean(norms)\n",
    "    X = X / mNorm\n",
    "    return X\n",
    "    \n",
    "X_train = preprocessX(X_train)"
   ]
  },
  {
   "cell_type": "code",
   "execution_count": 8,
   "metadata": {
    "collapsed": false
   },
   "outputs": [
    {
     "name": "stdout",
     "output_type": "stream",
     "text": [
      "CPU times: user 136 ms, sys: 6.57 ms, total: 143 ms\n",
      "Wall time: 84 ms\n"
     ]
    }
   ],
   "source": [
    "%%time\n",
    "test = gram(X_train)"
   ]
  },
  {
   "cell_type": "code",
   "execution_count": 9,
   "metadata": {
    "collapsed": false
   },
   "outputs": [
    {
     "name": "stdout",
     "output_type": "stream",
     "text": [
      "CPU times: user 584 ms, sys: 21.4 ms, total: 605 ms\n",
      "Wall time: 455 ms\n"
     ]
    }
   ],
   "source": [
    "%%time\n",
    "r = scp.linalg.eigh(test)"
   ]
  },
  {
   "cell_type": "code",
   "execution_count": 134,
   "metadata": {
    "collapsed": false
   },
   "outputs": [
    {
     "name": "stdout",
     "output_type": "stream",
     "text": [
      "Label of sample image is 1\n"
     ]
    },
    {
     "data": {
      "image/png": "[encoded data removed]",
      "text/plain": [
       "<matplotlib.figure.Figure at 0x104a9b9e8>"
      ]
     },
     "metadata": {},
     "output_type": "display_data"
    }
   ],
   "source": [
    "# Sanity check.\n",
    "sampleImgIdx = np.random.randint(0, len(X_train))\n",
    "sampleImg = X_train[sampleImgIdx]\n",
    "sampleLabel = y_train[sampleImgIdx]\n",
    "print('Label of sample image is ' + str(sampleLabel))\n",
    "plot_img(sampleImg)"
   ]
  },
  {
   "cell_type": "markdown",
   "metadata": {},
   "source": [
    "## Next steps\n",
    "1. Plot eigenvalues as a function of i where i is the ith largest eigenvalue. Do for different $\\alpha \\in [0, 1]$\n",
    "1. Plot $d_{95}$ (effective dimension) as a function of $\\alpha$.\n",
    "1. Logistic (or SVM) error as a function of $\\alpha$. (note hidden targest are input an label targets). \n",
    "\n",
    "Question:\n",
    "Throw away eigenvalues below some threshold. Not the same as $d_{95}$"
   ]
  },
  {
   "cell_type": "code",
   "execution_count": 120,
   "metadata": {
    "collapsed": false
   },
   "outputs": [],
   "source": [
    "XG = gram(X_train)\n",
    "YG = gram(y_train[:, np.newaxis])"
   ]
  },
  {
   "cell_type": "code",
   "execution_count": 124,
   "metadata": {
    "collapsed": false
   },
   "outputs": [
    {
     "name": "stdout",
     "output_type": "stream",
     "text": [
      "(572,)\n"
     ]
    }
   ],
   "source": [
    "alpha = .9\n",
    "H, eigvals = hiddenTargets(XG, YG, alpha)\n",
    "np.allclose(H.dot(H.T), alpha * XG + (1 - alpha) * YG)\n",
    "print(eigvals.shape)"
   ]
  },
  {
   "cell_type": "code",
   "execution_count": 126,
   "metadata": {
    "collapsed": false
   },
   "outputs": [
    {
     "data": {
      "text/plain": [
       "10"
      ]
     },
     "execution_count": 126,
     "metadata": {},
     "output_type": "execute_result"
    }
   ],
   "source": [
    "effectiveDimension(eigvals)"
   ]
  },
  {
   "cell_type": "code",
   "execution_count": 127,
   "metadata": {
    "collapsed": false,
    "scrolled": true
   },
   "outputs": [
    {
     "data": {
      "image/png": "[encoded data removed]",
      "text/plain": [
       "<matplotlib.figure.Figure at 0x12e4f1c50>"
      ]
     },
     "metadata": {},
     "output_type": "display_data"
    }
   ],
   "source": [
    "plt.plot(eigvals.cumsum() / eigvals.sum())\n",
    "plt.xlim((0, 300));"
   ]
  },
  {
   "cell_type": "code",
   "execution_count": 15,
   "metadata": {
    "collapsed": false
   },
   "outputs": [
    {
     "name": "stdout",
     "output_type": "stream",
     "text": [
      "\u001b[34m1455174040\u001b[m\u001b[m/\r\n"
     ]
    }
   ],
   "source": [
    "ls data/"
   ]
  },
  {
   "cell_type": "markdown",
   "metadata": {},
   "source": [
    "## IO function\n",
    "To help with saving and loading experiments."
   ]
  },
  {
   "cell_type": "code",
   "execution_count": 135,
   "metadata": {
    "collapsed": false
   },
   "outputs": [],
   "source": [
    "from time import time\n",
    "import os\n",
    "from os.path import isdir, join\n",
    "from glob import fnmatch\n",
    "\n",
    "def filePrefix(alpha):\n",
    "    '''x is a float.'''\n",
    "    s = str(alpha)\n",
    "    prefix = s[0] + s[2:4]\n",
    "    return 'alpha_' + (prefix if len(prefix) == 3 else prefix + '0') + '_'\n",
    "\n",
    "\n",
    "def createSaveDirectory():\n",
    "    '''Creates a unique directory in data/ based on timestamp.'''\n",
    "    directoryName = str(int(time()))\n",
    "    path = join('data', directoryName)\n",
    "    !mkdir $path\n",
    "    assert isdir(path), 'Directory does not exist\\n{0}'.format(path)\n",
    "    return path\n",
    "\n",
    "    \n",
    "def save(arr, alpha, path, which): \n",
    "    '''\n",
    "    arr: The numpy array to save.\n",
    "    alpha: The alpha associated with this calculation. See above definition.\n",
    "    path: the directory to store the data.\n",
    "    which: either \"eigvals\" or \"H\".\n",
    "    \n",
    "    returns an iterator of stored eigvals or H.\n",
    "    '''\n",
    "    fname = join(path, filePrefix(alpha) + which)\n",
    "    np.save(fname, arr)\n",
    "    print('Saved: ' + fname)\n",
    "  \n",
    "\n",
    "def load(path, which):\n",
    "    '''\n",
    "    path: the directory of the data.\n",
    "    which: either \"eigvals\" or \"H\".\n",
    "    \n",
    "    returns an iterator of stored eigvals or H.\n",
    "    '''\n",
    "    fnames = fnmatch.filter(os.listdir(path), '*{0}*'.format(which))\n",
    "    for fname in sorted(fnames):\n",
    "        fullPath = join(path, fname)\n",
    "        print('Loading: {0}'.format(fullPath))\n",
    "        yield np.load(fullPath)\n",
    "        \n"
   ]
  },
  {
   "cell_type": "code",
   "execution_count": 136,
   "metadata": {
    "collapsed": false
   },
   "outputs": [
    {
     "name": "stdout",
     "output_type": "stream",
     "text": [
      "Saving results in dir: data/1456383745\n",
      "Saved: data/1456383745/alpha_000_H\n",
      "Saved: data/1456383745/alpha_000_eigvals\n",
      "Saved: data/1456383745/alpha_001_H\n",
      "Saved: data/1456383745/alpha_001_eigvals\n",
      "Saved: data/1456383745/alpha_002_H\n",
      "Saved: data/1456383745/alpha_002_eigvals\n",
      "Saved: data/1456383745/alpha_003_H\n",
      "Saved: data/1456383745/alpha_003_eigvals\n",
      "Saved: data/1456383745/alpha_004_H\n",
      "Saved: data/1456383745/alpha_004_eigvals\n",
      "Saved: data/1456383745/alpha_005_H\n",
      "Saved: data/1456383745/alpha_005_eigvals\n",
      "Saved: data/1456383745/alpha_006_H\n",
      "Saved: data/1456383745/alpha_006_eigvals\n",
      "Saved: data/1456383745/alpha_007_H\n",
      "Saved: data/1456383745/alpha_007_eigvals\n",
      "Saved: data/1456383745/alpha_008_H\n",
      "Saved: data/1456383745/alpha_008_eigvals\n",
      "Saved: data/1456383745/alpha_009_H\n",
      "Saved: data/1456383745/alpha_009_eigvals\n",
      "Saved: data/1456383745/alpha_010_H\n",
      "Saved: data/1456383745/alpha_010_eigvals\n",
      "Saved: data/1456383745/alpha_011_H\n",
      "Saved: data/1456383745/alpha_011_eigvals\n"
     ]
    }
   ],
   "source": [
    "def computeHiddenTargets(alphas, X, y):\n",
    "    XG = gram(X)\n",
    "    YG = gram(y[:, np.newaxis])\n",
    "\n",
    "    path = createSaveDirectory()\n",
    "    print('Saving results in dir: ' + path)\n",
    "    for alpha in alphas:\n",
    "        H, eigvals = hiddenTargets(XG, YG, alpha)\n",
    "        save(H, alpha, path, 'H')\n",
    "        save(eigvals, alpha, path, 'eigvals')\n",
    "        \n",
    "alphas = np.arange(0, .12, 0.01)\n",
    "computeHiddenTargets(alphas, X_train, y_train)"
   ]
  },
  {
   "cell_type": "code",
   "execution_count": 137,
   "metadata": {
    "collapsed": false
   },
   "outputs": [
    {
     "name": "stdout",
     "output_type": "stream",
     "text": [
      "\u001b[34m1456380479\u001b[m\u001b[m/ \u001b[34m1456383745\u001b[m\u001b[m/\r\n"
     ]
    }
   ],
   "source": [
    "ls data"
   ]
  },
  {
   "cell_type": "code",
   "execution_count": null,
   "metadata": {
    "collapsed": false
   },
   "outputs": [],
   "source": [
    "# Careful!!\n",
    "# !rm -r data/*"
   ]
  },
  {
   "cell_type": "code",
   "execution_count": 85,
   "metadata": {
    "collapsed": false
   },
   "outputs": [],
   "source": [
    "eigvals = load('data/1456383745/', which='eigvals')"
   ]
  },
  {
   "cell_type": "code",
   "execution_count": 138,
   "metadata": {
    "collapsed": false
   },
   "outputs": [
    {
     "data": {
      "text/plain": [
       "(12,)"
      ]
     },
     "execution_count": 138,
     "metadata": {},
     "output_type": "execute_result"
    }
   ],
   "source": [
    "alphas.shape"
   ]
  },
  {
   "cell_type": "code",
   "execution_count": 139,
   "metadata": {
    "collapsed": false
   },
   "outputs": [
    {
     "name": "stdout",
     "output_type": "stream",
     "text": [
      "Loading: data/1456383745/alpha_000_eigvals.npy\n",
      "Loading: data/1456383745/alpha_001_eigvals.npy\n",
      "Loading: data/1456383745/alpha_002_eigvals.npy\n",
      "Loading: data/1456383745/alpha_003_eigvals.npy\n",
      "Loading: data/1456383745/alpha_004_eigvals.npy\n",
      "Loading: data/1456383745/alpha_005_eigvals.npy\n",
      "Loading: data/1456383745/alpha_006_eigvals.npy\n",
      "Loading: data/1456383745/alpha_007_eigvals.npy\n",
      "Loading: data/1456383745/alpha_008_eigvals.npy\n",
      "Loading: data/1456383745/alpha_009_eigvals.npy\n",
      "Loading: data/1456383745/alpha_010_eigvals.npy\n",
      "Loading: data/1456383745/alpha_011_eigvals.npy\n"
     ]
    },
    {
     "data": {
      "text/plain": [
       "[<matplotlib.lines.Line2D at 0x122c59b00>]"
      ]
     },
     "execution_count": 139,
     "metadata": {},
     "output_type": "execute_result"
    },
    {
     "data": {
      "image/png": "[encoded data removed]",
      "text/plain": [
       "<matplotlib.figure.Figure at 0x13a55a7b8>"
      ]
     },
     "metadata": {},
     "output_type": "display_data"
    }
   ],
   "source": [
    "eigvals = load('data/1456383745/', which='eigvals')\n",
    "p95 = np.array([effectiveDimension(eigval, p=0.95) for eigval in eigvals])\n",
    "plt.plot(alphas, p95)"
   ]
  },
  {
   "cell_type": "code",
   "execution_count": 140,
   "metadata": {
    "collapsed": false
   },
   "outputs": [
    {
     "name": "stdout",
     "output_type": "stream",
     "text": [
      "Loading: data/1456383745/alpha_000_eigvals.npy\n",
      "Loading: data/1456383745/alpha_001_eigvals.npy\n",
      "Loading: data/1456383745/alpha_002_eigvals.npy\n",
      "Loading: data/1456383745/alpha_003_eigvals.npy\n",
      "Loading: data/1456383745/alpha_004_eigvals.npy\n",
      "Loading: data/1456383745/alpha_005_eigvals.npy\n",
      "Loading: data/1456383745/alpha_006_eigvals.npy\n",
      "Loading: data/1456383745/alpha_007_eigvals.npy\n",
      "Loading: data/1456383745/alpha_008_eigvals.npy\n",
      "Loading: data/1456383745/alpha_009_eigvals.npy\n",
      "Loading: data/1456383745/alpha_010_eigvals.npy\n",
      "Loading: data/1456383745/alpha_011_eigvals.npy\n"
     ]
    },
    {
     "data": {
      "image/png": "[encoded data removed]",
      "text/plain": [
       "<matplotlib.figure.Figure at 0x104aa4a90>"
      ]
     },
     "metadata": {},
     "output_type": "display_data"
    }
   ],
   "source": [
    "plt.hold(True)\n",
    "for eigvals in load('data/1456383745/', which='eigvals'):\n",
    "    plt.plot(eigvals[:20])\n",
    "    \n",
    "plt.hold(False)"
   ]
  },
  {
   "cell_type": "code",
   "execution_count": 145,
   "metadata": {
    "collapsed": false
   },
   "outputs": [
    {
     "name": "stdout",
     "output_type": "stream",
     "text": [
      "Loading: data/1456383745/alpha_000_eigvals.npy\n",
      "Loading: data/1456383745/alpha_001_eigvals.npy\n",
      "Loading: data/1456383745/alpha_002_eigvals.npy\n",
      "Loading: data/1456383745/alpha_003_eigvals.npy\n",
      "Loading: data/1456383745/alpha_004_eigvals.npy\n",
      "Loading: data/1456383745/alpha_005_eigvals.npy\n",
      "Loading: data/1456383745/alpha_006_eigvals.npy\n",
      "Loading: data/1456383745/alpha_007_eigvals.npy\n",
      "Loading: data/1456383745/alpha_008_eigvals.npy\n",
      "Loading: data/1456383745/alpha_009_eigvals.npy\n",
      "Loading: data/1456383745/alpha_010_eigvals.npy\n",
      "Loading: data/1456383745/alpha_011_eigvals.npy\n"
     ]
    },
    {
     "data": {
      "image/png": "[encoded data removed]",
      "text/plain": [
       "<matplotlib.figure.Figure at 0x13a579c50>"
      ]
     },
     "metadata": {},
     "output_type": "display_data"
    }
   ],
   "source": [
    "plt.xlim(0, 10)\n",
    "plt.hold(True)\n",
    "for eigvals in load('data/1456383745/', which='eigvals'):\n",
    "    plt.plot(eigvals / eigvals.sum())\n",
    "plt.hold(False);"
   ]
  },
  {
   "cell_type": "code",
   "execution_count": 146,
   "metadata": {
    "collapsed": false
   },
   "outputs": [
    {
     "name": "stdout",
     "output_type": "stream",
     "text": [
      "Loading: data/1456383745/alpha_000_H.npy\n",
      "(2119, 556)\n",
      "Loading: data/1456383745/alpha_001_H.npy\n",
      "(2119, 557)\n",
      "Loading: data/1456383745/alpha_002_H.npy\n",
      "(2119, 557)\n",
      "Loading: data/1456383745/alpha_003_H.npy\n",
      "(2119, 557)\n",
      "Loading: data/1456383745/alpha_004_H.npy\n",
      "(2119, 557)\n",
      "Loading: data/1456383745/alpha_005_H.npy\n",
      "(2119, 557)\n",
      "Loading: data/1456383745/alpha_006_H.npy\n",
      "(2119, 557)\n",
      "Loading: data/1456383745/alpha_007_H.npy\n",
      "(2119, 557)\n",
      "Loading: data/1456383745/alpha_008_H.npy\n",
      "(2119, 557)\n",
      "Loading: data/1456383745/alpha_009_H.npy\n",
      "(2119, 557)\n",
      "Loading: data/1456383745/alpha_010_H.npy\n",
      "(2119, 557)\n",
      "Loading: data/1456383745/alpha_011_H.npy\n",
      "(2119, 557)\n"
     ]
    }
   ],
   "source": [
    "acc_train = []\n",
    "for H in load('data/1456383745/', which='H'):\n",
    "    print(H.shape)\n",
    "    model = LogisticRegression(C=.001)\n",
    "    model.fit(H, y_train)\n",
    "#     acc_train.append((model.predict(H) == y_test).mean())\n",
    "    acc_train.append(model.score(H, y_train))\n",
    "    "
   ]
  },
  {
   "cell_type": "code",
   "execution_count": 147,
   "metadata": {
    "collapsed": false
   },
   "outputs": [
    {
     "name": "stdout",
     "output_type": "stream",
     "text": [
      "[0.84285040113260967, 0.87730061349693256, 0.90703161868806037, 0.93109957527135445, 0.94808872109485609, 0.96507786691835773, 0.97734780556866452, 0.98584237848041534, 0.99103350637092968, 0.99575271354412453, 0.99811231713072202, 1.0]\n"
     ]
    }
   ],
   "source": [
    "print(acc_train)"
   ]
  },
  {
   "cell_type": "markdown",
   "metadata": {},
   "source": [
    "Schedule Rob\n",
    "Mondays: Anytime\n",
    "Wednesdays: anytime. \n",
    "Thursdays: 12:30 - 1:45, 3:30 - 4:45\n",
    "Fridays: After surfing."
   ]
  }
 ],
 "metadata": {
  "kernelspec": {
   "display_name": "Python 3",
   "language": "python",
   "name": "python3"
  },
  "language_info": {
   "codemirror_mode": {
    "name": "ipython",
    "version": 3
   },
   "file_extension": ".py",
   "mimetype": "text/x-python",
   "name": "python",
   "nbconvert_exporter": "python",
   "pygments_lexer": "ipython3",
   "version": "3.5.1"
  }
 },
 "nbformat": 4,
 "nbformat_minor": 0
}
