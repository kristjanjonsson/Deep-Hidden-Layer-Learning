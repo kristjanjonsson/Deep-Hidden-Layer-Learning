{
 "cells": [
  {
   "cell_type": "code",
   "execution_count": 1,
   "metadata": {
    "collapsed": false
   },
   "outputs": [],
   "source": [
    "%matplotlib inline"
   ]
  },
  {
   "cell_type": "code",
   "execution_count": 2,
   "metadata": {
    "collapsed": false
   },
   "outputs": [],
   "source": [
    "import gzip\n",
    "\n",
    "import numpy as np\n",
    "import scipy as scp\n",
    "import matplotlib.pyplot as plt\n",
    "import seaborn as sns\n",
    "import sklearn\n",
    "from sklearn.cross_validation import train_test_split\n",
    "\n",
    "from utils import effectiveDimension, factorize, gram, hiddenTargets"
   ]
  },
  {
   "cell_type": "markdown",
   "metadata": {},
   "source": [
    "## MNIST dataset"
   ]
  },
  {
   "cell_type": "code",
   "execution_count": 3,
   "metadata": {
    "collapsed": true
   },
   "outputs": [],
   "source": [
    "def parse_img(filename):\n",
    "    '''Parses mnist images in filename.'''\n",
    "    f = gzip.open(filename)\n",
    "    arr = np.frombuffer(f.read(), dtype=np.dtype('>u1'), offset=16)\n",
    "    arr = arr.astype(np.int64)\n",
    "    f.close()\n",
    "    return arr.reshape((-1, 28*28))\n",
    "\n",
    "def parse_label(filename):\n",
    "    '''Parses mnist labels in filename.'''\n",
    "    f = gzip.open(filename)\n",
    "    arr = np.frombuffer(f.read(), dtype=np.dtype('>u1'), offset=8)\n",
    "    f.close()\n",
    "    return arr"
   ]
  },
  {
   "cell_type": "code",
   "execution_count": 4,
   "metadata": {
    "collapsed": false
   },
   "outputs": [
    {
     "name": "stdout",
     "output_type": "stream",
     "text": [
      "(60000, 784) int64\n",
      "(60000,) uint8\n"
     ]
    }
   ],
   "source": [
    "X_data = parse_img('mnist data/train-images-idx3-ubyte.gz')\n",
    "y_data = parse_label('mnist data/train-labels-idx1-ubyte.gz')\n",
    "print(X_data.shape, X_data.dtype)\n",
    "print(y_data.shape, y_data.dtype)"
   ]
  },
  {
   "cell_type": "code",
   "execution_count": 5,
   "metadata": {
    "collapsed": false
   },
   "outputs": [
    {
     "data": {
      "image/png": "[encoded data removed]",
      "text/plain": [
       "<matplotlib.figure.Figure at 0x10bdf7da0>"
      ]
     },
     "metadata": {},
     "output_type": "display_data"
    }
   ],
   "source": [
    "def plot_img(x):\n",
    "    plt.figure(figsize=(3, 3))\n",
    "    plt.imshow(x.reshape((28, 28)), cmap=plt.cm.gray_r)\n",
    "    plt.grid(False)\n",
    "    plt.tick_params(labelbottom=False, labelleft=False)\n",
    "\n",
    "plot_img(X_data[np.random.randint(0, len(X_data))])"
   ]
  },
  {
   "cell_type": "code",
   "execution_count": 6,
   "metadata": {
    "collapsed": false
   },
   "outputs": [
    {
     "name": "stdout",
     "output_type": "stream",
     "text": [
      "(6131, 784)\n",
      "(5851, 784)\n",
      "\n",
      "(11982, 784)\n",
      "(11982,)\n",
      "\n",
      "(2000, 784)\n",
      "(2000,)\n",
      "(9982, 784)\n",
      "(9982,)\n"
     ]
    }
   ],
   "source": [
    "# We'll use the 3s and 8s.\n",
    "X3 = X_data[y_data == 3]\n",
    "X8 = X_data[y_data == 8]\n",
    "print(X3.shape)\n",
    "print(X8.shape)\n",
    "print()\n",
    "\n",
    "X = np.vstack([X3, X8])\n",
    "y = np.concatenate([[-1] * len(X3), [1] * len(X8)])\n",
    "print(X.shape)\n",
    "print(y.shape)\n",
    "print()\n",
    "\n",
    "\n",
    "X_train, X_test, y_train, y_test = train_test_split(X, y, train_size=2000)\n",
    "print(X_train.shape)\n",
    "print(y_train.shape)\n",
    "print(X_test.shape)\n",
    "print(y_test.shape)"
   ]
  },
  {
   "cell_type": "code",
   "execution_count": 7,
   "metadata": {
    "collapsed": true
   },
   "outputs": [],
   "source": [
    "def preprocessX(X):\n",
    "    m = np.mean(X, axis=0)\n",
    "    X = X - m\n",
    "    norms = np.linalg.norm(X, axis=1)\n",
    "    mNorm = np.mean(norms)\n",
    "    X = X / mNorm\n",
    "    return X\n",
    "    \n",
    "X_train = preprocessX(X_train)"
   ]
  },
  {
   "cell_type": "code",
   "execution_count": 8,
   "metadata": {
    "collapsed": false
   },
   "outputs": [
    {
     "name": "stdout",
     "output_type": "stream",
     "text": [
      "CPU times: user 430 ms, sys: 18.2 ms, total: 448 ms\n",
      "Wall time: 251 ms\n"
     ]
    }
   ],
   "source": [
    "%%time\n",
    "test = gram(X_train)"
   ]
  },
  {
   "cell_type": "code",
   "execution_count": null,
   "metadata": {
    "collapsed": false
   },
   "outputs": [],
   "source": [
    "%%time\n",
    "r = scp.linalg.eigh(test)"
   ]
  },
  {
   "cell_type": "code",
   "execution_count": 10,
   "metadata": {
    "collapsed": false
   },
   "outputs": [
    {
     "name": "stdout",
     "output_type": "stream",
     "text": [
      "Label of sample image is -1\n"
     ]
    },
    {
     "data": {
      "image/png": "[encoded data removed]",
      "text/plain": [
       "<matplotlib.figure.Figure at 0x133b8c518>"
      ]
     },
     "metadata": {},
     "output_type": "display_data"
    }
   ],
   "source": [
    "# Sanity check.\n",
    "sampleImgIdx = np.random.randint(0, len(X_train))\n",
    "sampleImg = X_train[sampleImgIdx]\n",
    "sampleLabel = y_train[sampleImgIdx]\n",
    "print('Label of sample image is ' + str(sampleLabel))\n",
    "plot_img(sampleImg)"
   ]
  },
  {
   "cell_type": "markdown",
   "metadata": {},
   "source": [
    "## Next steps\n",
    "1. Plot eigenvalues as a function of i where i is the ith largest eigenvalue. Do for different $\\alpha \\in [0, 1]$\n",
    "1. Plot $d_{95}$ (effective dimension) as a function of $\\alpha$.\n",
    "1. Logistic (or SVM) error as a function of $\\alpha$. (note hidden targest are input an label targets). \n",
    "\n",
    "Question:\n",
    "Throw away eigenvalues below some threshold. Not the same as $d_{95}$"
   ]
  },
  {
   "cell_type": "code",
   "execution_count": 11,
   "metadata": {
    "collapsed": false
   },
   "outputs": [],
   "source": [
    "XG = gram(X_train)\n",
    "YG = gram(y_train[:, np.newaxis])"
   ]
  },
  {
   "cell_type": "code",
   "execution_count": 12,
   "metadata": {
    "collapsed": false
   },
   "outputs": [
    {
     "data": {
      "text/plain": [
       "False"
      ]
     },
     "execution_count": 12,
     "metadata": {},
     "output_type": "execute_result"
    }
   ],
   "source": [
    "alpha = 0\n",
    "H, eigvals = hiddenTargets(XG, YG, alpha)\n",
    "np.allclose(H.dot(H.T), alpha * XG + (1 - alpha) * YG)"
   ]
  },
  {
   "cell_type": "code",
   "execution_count": 13,
   "metadata": {
    "collapsed": false
   },
   "outputs": [
    {
     "data": {
      "text/plain": [
       "136"
      ]
     },
     "execution_count": 13,
     "metadata": {},
     "output_type": "execute_result"
    }
   ],
   "source": [
    "effectiveDimension(eigvals)"
   ]
  },
  {
   "cell_type": "code",
   "execution_count": 14,
   "metadata": {
    "collapsed": false
   },
   "outputs": [
    {
     "data": {
      "image/png": "[encoded data removed]",
      "text/plain": [
       "<matplotlib.figure.Figure at 0x133ba9390>"
      ]
     },
     "metadata": {},
     "output_type": "display_data"
    }
   ],
   "source": [
    "plt.plot(eigvals.cumsum() / eigvals.sum())\n",
    "plt.xlim((0, 300));"
   ]
  },
  {
   "cell_type": "code",
   "execution_count": 15,
   "metadata": {
    "collapsed": false
   },
   "outputs": [
    {
     "name": "stdout",
     "output_type": "stream",
     "text": [
      "ls: data/1454912595: No such file or directory\r\n"
     ]
    }
   ],
   "source": [
    "ls data/1454912595"
   ]
  },
  {
   "cell_type": "markdown",
   "metadata": {},
   "source": [
    "## IO function\n",
    "To help with saving and loading experiments."
   ]
  },
  {
   "cell_type": "code",
   "execution_count": 16,
   "metadata": {
    "collapsed": false
   },
   "outputs": [],
   "source": [
    "from time import time\n",
    "import os\n",
    "from os.path import isdir, join\n",
    "from glob import fnmatch\n",
    "\n",
    "def filePrefix(alpha):\n",
    "    '''x is a float.'''\n",
    "    s = str(alpha)\n",
    "    prefix = s[0] + s[2:4]\n",
    "    return 'alpha_' + (prefix if len(prefix) == 3 else prefix + '0') + '_'\n",
    "\n",
    "\n",
    "def createSaveDirectory():\n",
    "    '''Creates a unique directory in data/ based on timestamp.'''\n",
    "    directoryName = str(int(time()))\n",
    "    path = join('data', directoryName)\n",
    "    !mkdir $path\n",
    "    assert isdir(path), 'Directory does not exist\\n{0}'.format(path)\n",
    "    return path\n",
    "\n",
    "    \n",
    "def save(arr, alpha, path, which): \n",
    "    '''\n",
    "    arr: The numpy array to save.\n",
    "    alpha: The alpha associated with this calculation. See above definition.\n",
    "    path: the directory to store the data.\n",
    "    which: either \"eigvals\" or \"H\".\n",
    "    \n",
    "    returns an iterator of stored eigvals or H.\n",
    "    '''\n",
    "    fname = join(path, filePrefix(alpha) + which)\n",
    "    np.save(fname, arr)\n",
    "    print('Saved: ' + fname)\n",
    "  \n",
    "\n",
    "def load(path, which):\n",
    "    '''\n",
    "    path: the directory of the data.\n",
    "    which: either \"eigvals\" or \"H\".\n",
    "    \n",
    "    returns an iterator of stored eigvals or H.\n",
    "    '''\n",
    "    fnames = fnmatch.filter(os.listdir(path), '*{0}*'.format(which))\n",
    "    for fname in sorted(fnames):\n",
    "        fullPath = join(path, fname)\n",
    "        print('Loading: {0}'.format(fullPath))\n",
    "        yield np.load(fullPath)\n",
    "        \n"
   ]
  },
  {
   "cell_type": "code",
   "execution_count": 18,
   "metadata": {
    "collapsed": false
   },
   "outputs": [
    {
     "name": "stdout",
     "output_type": "stream",
     "text": [
      "Saving results in dir: data/1455175735\n",
      "Saved: data/1455175735/alpha_000_H\n",
      "Saved: data/1455175735/alpha_000_eigvals\n",
      "Saved: data/1455175735/alpha_005_H\n",
      "Saved: data/1455175735/alpha_005_eigvals\n",
      "Saved: data/1455175735/alpha_010_H\n",
      "Saved: data/1455175735/alpha_010_eigvals\n",
      "Saved: data/1455175735/alpha_015_H\n",
      "Saved: data/1455175735/alpha_015_eigvals\n",
      "Saved: data/1455175735/alpha_020_H\n",
      "Saved: data/1455175735/alpha_020_eigvals\n",
      "Saved: data/1455175735/alpha_025_H\n",
      "Saved: data/1455175735/alpha_025_eigvals\n",
      "Saved: data/1455175735/alpha_030_H\n",
      "Saved: data/1455175735/alpha_030_eigvals\n",
      "Saved: data/1455175735/alpha_035_H\n",
      "Saved: data/1455175735/alpha_035_eigvals\n",
      "Saved: data/1455175735/alpha_040_H\n",
      "Saved: data/1455175735/alpha_040_eigvals\n",
      "Saved: data/1455175735/alpha_045_H\n",
      "Saved: data/1455175735/alpha_045_eigvals\n",
      "Saved: data/1455175735/alpha_050_H\n",
      "Saved: data/1455175735/alpha_050_eigvals\n",
      "Saved: data/1455175735/alpha_055_H\n",
      "Saved: data/1455175735/alpha_055_eigvals\n",
      "Saved: data/1455175735/alpha_060_H\n",
      "Saved: data/1455175735/alpha_060_eigvals\n",
      "Saved: data/1455175735/alpha_065_H\n",
      "Saved: data/1455175735/alpha_065_eigvals\n",
      "Saved: data/1455175735/alpha_070_H\n",
      "Saved: data/1455175735/alpha_070_eigvals\n",
      "Saved: data/1455175735/alpha_075_H\n",
      "Saved: data/1455175735/alpha_075_eigvals\n",
      "Saved: data/1455175735/alpha_080_H\n",
      "Saved: data/1455175735/alpha_080_eigvals\n",
      "Saved: data/1455175735/alpha_085_H\n",
      "Saved: data/1455175735/alpha_085_eigvals\n",
      "Saved: data/1455175735/alpha_090_H\n",
      "Saved: data/1455175735/alpha_090_eigvals\n",
      "Saved: data/1455175735/alpha_095_H\n",
      "Saved: data/1455175735/alpha_095_eigvals\n",
      "Saved: data/1455175735/alpha_100_H\n",
      "Saved: data/1455175735/alpha_100_eigvals\n"
     ]
    }
   ],
   "source": [
    "def computeHiddenTargets(alphas, X, y):\n",
    "    XG = gram(X)\n",
    "    YG = gram(y[:, np.newaxis])\n",
    "\n",
    "    path = createSaveDirectory()\n",
    "    print('Saving results in dir: ' + path)\n",
    "    for alpha in alphas:\n",
    "        H, eigvals = hiddenTargets(XG, YG, alpha)\n",
    "        save(H, alpha, path, 'H')\n",
    "        save(eigvals, alpha, path, 'eigvals')\n",
    "        \n",
    "computeHiddenTargets(np.arange(0, 1.05, 0.05), X_train, y_train)"
   ]
  },
  {
   "cell_type": "code",
   "execution_count": 20,
   "metadata": {
    "collapsed": false
   },
   "outputs": [
    {
     "name": "stdout",
     "output_type": "stream",
     "text": [
      "\u001b[34m1455175735\u001b[m\u001b[m/\r\n"
     ]
    }
   ],
   "source": [
    "ls data"
   ]
  },
  {
   "cell_type": "code",
   "execution_count": 76,
   "metadata": {
    "collapsed": false
   },
   "outputs": [
    {
     "name": "stdout",
     "output_type": "stream",
     "text": [
      "rm: data/*: No such file or directory\r\n"
     ]
    }
   ],
   "source": [
    "# Careful!!\n",
    "# !rm -r data/*"
   ]
  },
  {
   "cell_type": "code",
   "execution_count": 21,
   "metadata": {
    "collapsed": false
   },
   "outputs": [],
   "source": [
    "eigvals = load('data/1455175735/', which='eigvals')"
   ]
  },
  {
   "cell_type": "code",
   "execution_count": 22,
   "metadata": {
    "collapsed": false
   },
   "outputs": [
    {
     "ename": "NameError",
     "evalue": "name 'alphas' is not defined",
     "output_type": "error",
     "traceback": [
      "\u001b[0;31m---------------------------------------------------------------------------\u001b[0m",
      "\u001b[0;31mNameError\u001b[0m                                 Traceback (most recent call last)",
      "\u001b[0;32m<ipython-input-22-e0cc577af32c>\u001b[0m in \u001b[0;36m<module>\u001b[0;34m()\u001b[0m\n\u001b[0;32m----> 1\u001b[0;31m \u001b[0malphas\u001b[0m\u001b[0;34m.\u001b[0m\u001b[0mshape\u001b[0m\u001b[0;34m\u001b[0m\u001b[0m\n\u001b[0m",
      "\u001b[0;31mNameError\u001b[0m: name 'alphas' is not defined"
     ]
    }
   ],
   "source": [
    "alphas.shape"
   ]
  },
  {
   "cell_type": "code",
   "execution_count": 23,
   "metadata": {
    "collapsed": false
   },
   "outputs": [
    {
     "name": "stdout",
     "output_type": "stream",
     "text": [
      "Loading: data/1455175735/alpha_000_eigvals.npy\n",
      "Loading: data/1455175735/alpha_005_eigvals.npy\n",
      "Loading: data/1455175735/alpha_010_eigvals.npy\n",
      "Loading: data/1455175735/alpha_015_eigvals.npy\n",
      "Loading: data/1455175735/alpha_020_eigvals.npy\n",
      "Loading: data/1455175735/alpha_025_eigvals.npy\n",
      "Loading: data/1455175735/alpha_030_eigvals.npy\n",
      "Loading: data/1455175735/alpha_035_eigvals.npy\n",
      "Loading: data/1455175735/alpha_040_eigvals.npy\n",
      "Loading: data/1455175735/alpha_045_eigvals.npy\n",
      "Loading: data/1455175735/alpha_050_eigvals.npy\n",
      "Loading: data/1455175735/alpha_055_eigvals.npy\n",
      "Loading: data/1455175735/alpha_060_eigvals.npy\n",
      "Loading: data/1455175735/alpha_065_eigvals.npy\n",
      "Loading: data/1455175735/alpha_070_eigvals.npy\n",
      "Loading: data/1455175735/alpha_075_eigvals.npy\n",
      "Loading: data/1455175735/alpha_080_eigvals.npy\n",
      "Loading: data/1455175735/alpha_085_eigvals.npy\n",
      "Loading: data/1455175735/alpha_090_eigvals.npy\n",
      "Loading: data/1455175735/alpha_095_eigvals.npy\n",
      "Loading: data/1455175735/alpha_100_eigvals.npy\n"
     ]
    },
    {
     "data": {
      "text/plain": [
       "[<matplotlib.lines.Line2D at 0x12bd82128>]"
      ]
     },
     "execution_count": 23,
     "metadata": {},
     "output_type": "execute_result"
    },
    {
     "data": {
      "image/png": "[encoded data removed]",
      "text/plain": [
       "<matplotlib.figure.Figure at 0x133bda668>"
      ]
     },
     "metadata": {},
     "output_type": "display_data"
    }
   ],
   "source": [
    "eigvals = load('data/1455175735/', which='eigvals')\n",
    "alphas = np.arange(0, 1.05, 0.05)\n",
    "p95 = np.array([effectiveDimension(eigval, p=0.95) for eigval in eigvals])\n",
    "plt.plot(alphas, p95)"
   ]
  },
  {
   "cell_type": "code",
   "execution_count": 24,
   "metadata": {
    "collapsed": false
   },
   "outputs": [
    {
     "name": "stdout",
     "output_type": "stream",
     "text": [
      "Loading: data/1455175735/alpha_000_eigvals.npy\n",
      "Loading: data/1455175735/alpha_005_eigvals.npy\n",
      "Loading: data/1455175735/alpha_010_eigvals.npy\n",
      "Loading: data/1455175735/alpha_015_eigvals.npy\n",
      "Loading: data/1455175735/alpha_020_eigvals.npy\n",
      "Loading: data/1455175735/alpha_025_eigvals.npy\n",
      "Loading: data/1455175735/alpha_030_eigvals.npy\n",
      "Loading: data/1455175735/alpha_035_eigvals.npy\n",
      "Loading: data/1455175735/alpha_040_eigvals.npy\n",
      "Loading: data/1455175735/alpha_045_eigvals.npy\n",
      "Loading: data/1455175735/alpha_050_eigvals.npy\n",
      "Loading: data/1455175735/alpha_055_eigvals.npy\n",
      "Loading: data/1455175735/alpha_060_eigvals.npy\n",
      "Loading: data/1455175735/alpha_065_eigvals.npy\n",
      "Loading: data/1455175735/alpha_070_eigvals.npy\n",
      "Loading: data/1455175735/alpha_075_eigvals.npy\n",
      "Loading: data/1455175735/alpha_080_eigvals.npy\n",
      "Loading: data/1455175735/alpha_085_eigvals.npy\n",
      "Loading: data/1455175735/alpha_090_eigvals.npy\n",
      "Loading: data/1455175735/alpha_095_eigvals.npy\n",
      "Loading: data/1455175735/alpha_100_eigvals.npy\n"
     ]
    },
    {
     "data": {
      "image/png": "[encoded data removed]",
      "text/plain": [
       "<matplotlib.figure.Figure at 0x134517518>"
      ]
     },
     "metadata": {},
     "output_type": "display_data"
    }
   ],
   "source": [
    "plt.hold(True)\n",
    "for eigvals in load('data/1455175735/', which='eigvals'):\n",
    "    plt.plot(eigvals[:20])\n",
    "    \n",
    "plt.hold(False)"
   ]
  },
  {
   "cell_type": "code",
   "execution_count": 25,
   "metadata": {
    "collapsed": false
   },
   "outputs": [
    {
     "name": "stdout",
     "output_type": "stream",
     "text": [
      "Loading: data/1455175735/alpha_000_eigvals.npy\n",
      "Loading: data/1455175735/alpha_005_eigvals.npy\n",
      "Loading: data/1455175735/alpha_010_eigvals.npy\n",
      "Loading: data/1455175735/alpha_015_eigvals.npy\n",
      "Loading: data/1455175735/alpha_020_eigvals.npy\n",
      "Loading: data/1455175735/alpha_025_eigvals.npy\n",
      "Loading: data/1455175735/alpha_030_eigvals.npy\n",
      "Loading: data/1455175735/alpha_035_eigvals.npy\n",
      "Loading: data/1455175735/alpha_040_eigvals.npy\n",
      "Loading: data/1455175735/alpha_045_eigvals.npy\n",
      "Loading: data/1455175735/alpha_050_eigvals.npy\n",
      "Loading: data/1455175735/alpha_055_eigvals.npy\n",
      "Loading: data/1455175735/alpha_060_eigvals.npy\n",
      "Loading: data/1455175735/alpha_065_eigvals.npy\n",
      "Loading: data/1455175735/alpha_070_eigvals.npy\n",
      "Loading: data/1455175735/alpha_075_eigvals.npy\n",
      "Loading: data/1455175735/alpha_080_eigvals.npy\n",
      "Loading: data/1455175735/alpha_085_eigvals.npy\n",
      "Loading: data/1455175735/alpha_090_eigvals.npy\n",
      "Loading: data/1455175735/alpha_095_eigvals.npy\n",
      "Loading: data/1455175735/alpha_100_eigvals.npy\n"
     ]
    },
    {
     "data": {
      "image/png": "[encoded data removed]",
      "text/plain": [
       "<matplotlib.figure.Figure at 0x12be41278>"
      ]
     },
     "metadata": {},
     "output_type": "display_data"
    }
   ],
   "source": [
    "plt.xlim(0, 10)\n",
    "plt.hold(True)\n",
    "for eigvals in load('data/1455175735/', which='eigvals'):\n",
    "    plt.plot(eigvals / eigvals.sum())\n",
    "plt.hold(False);"
   ]
  },
  {
   "cell_type": "code",
   "execution_count": 23,
   "metadata": {
    "collapsed": true
   },
   "outputs": [],
   "source": [
    "import sklearn\n",
    "from sklearn.linear_model import LogisticRegression"
   ]
  },
  {
   "cell_type": "code",
   "execution_count": 36,
   "metadata": {
    "collapsed": false
   },
   "outputs": [
    {
     "name": "stdout",
     "output_type": "stream",
     "text": [
      "Loading: data/1454912595/alpha_000_H.npy\n",
      "(11982, 6403)\n",
      "Loading: data/1454912595/alpha_005_H.npy\n",
      "(11982, 6620)\n",
      "Loading: data/1454912595/alpha_010_H.npy\n",
      "(11982, 5998)\n",
      "Loading: data/1454912595/alpha_015_H.npy\n",
      "(11982, 6770)\n",
      "Loading: data/1454912595/alpha_020_H.npy\n",
      "(11982, 6046)\n",
      "Loading: data/1454912595/alpha_025_H.npy\n",
      "(11982, 6269)\n",
      "Loading: data/1454912595/alpha_030_H.npy\n",
      "(11982, 6313)\n",
      "Loading: data/1454912595/alpha_035_H.npy\n",
      "(11982, 5666)\n",
      "Loading: data/1454912595/alpha_040_H.npy\n",
      "(11982, 6721)\n",
      "Loading: data/1454912595/alpha_045_H.npy\n",
      "(11982, 6334)\n",
      "Loading: data/1454912595/alpha_050_H.npy\n",
      "(11982, 6252)\n",
      "Loading: data/1454912595/alpha_055_H.npy\n",
      "(11982, 5966)\n",
      "Loading: data/1454912595/alpha_060_H.npy\n",
      "(11982, 6047)\n",
      "Loading: data/1454912595/alpha_065_H.npy\n",
      "(11982, 6336)\n",
      "Loading: data/1454912595/alpha_070_H.npy\n",
      "(11982, 6800)\n",
      "Loading: data/1454912595/alpha_075_H.npy\n",
      "(11982, 6423)\n",
      "Loading: data/1454912595/alpha_080_H.npy\n",
      "(11982, 6023)\n",
      "Loading: data/1454912595/alpha_085_H.npy\n",
      "(11982, 6721)\n",
      "Loading: data/1454912595/alpha_090_H.npy\n",
      "(11982, 5957)\n",
      "Loading: data/1454912595/alpha_095_H.npy\n",
      "(11982, 6080)\n",
      "Loading: data/1454912595/alpha_100_H.npy\n",
      "(11982, 2959)\n"
     ]
    }
   ],
   "source": [
    "acc_train = []\n",
    "for H in load('data/1454912595/', which='H'):\n",
    "    print(H.shape)\n",
    "    model = LogisticRegression(C=1e6)\n",
    "#     model.fit(H, y)\n",
    "#     acc_train.append((model.predict(H) == y).mean())"
   ]
  },
  {
   "cell_type": "code",
   "execution_count": 38,
   "metadata": {
    "collapsed": false
   },
   "outputs": [
    {
     "data": {
      "text/plain": [
       "(11982, 784)"
      ]
     },
     "execution_count": 38,
     "metadata": {},
     "output_type": "execute_result"
    }
   ],
   "source": [
    "import sklearn.linear_model.LogisticRegression"
   ]
  },
  {
   "cell_type": "markdown",
   "metadata": {},
   "source": [
    "Schedule Rob\n",
    "Mondays: Anytime\n",
    "Wednesdays: anytime. \n",
    "Thursdays: 12:30 - 1:45, 3:30 - 4:45\n",
    "Fridays: After surfing."
   ]
  }
 ],
 "metadata": {
  "kernelspec": {
   "display_name": "Python 3",
   "language": "python",
   "name": "python3"
  },
  "language_info": {
   "codemirror_mode": {
    "name": "ipython",
    "version": 3
   },
   "file_extension": ".py",
   "mimetype": "text/x-python",
   "name": "python",
   "nbconvert_exporter": "python",
   "pygments_lexer": "ipython3",
   "version": "3.5.1"
  }
 },
 "nbformat": 4,
 "nbformat_minor": 0
}
