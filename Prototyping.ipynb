{
 "cells": [
  {
   "cell_type": "code",
   "execution_count": 1,
   "metadata": {
    "collapsed": false
   },
   "outputs": [],
   "source": [
    "%matplotlib inline"
   ]
  },
  {
   "cell_type": "code",
   "execution_count": 2,
   "metadata": {
    "collapsed": false
   },
   "outputs": [
    {
     "name": "stderr",
     "output_type": "stream",
     "text": [
      "/Users/kristjanjonsson/Development/Notebooks/venv/lib/python3.5/site-packages/IPython/html.py:14: ShimWarning: The `IPython.html` package has been deprecated. You should import from `notebook` instead. `IPython.html.widgets` has moved to `ipywidgets`.\n",
      "  \"`IPython.html.widgets` has moved to `ipywidgets`.\", ShimWarning)\n"
     ]
    }
   ],
   "source": [
    "import gzip\n",
    "\n",
    "import numpy as np\n",
    "import scipy as scp\n",
    "import matplotlib.pyplot as plt\n",
    "import seaborn as sns\n",
    "import sklearn\n",
    "from sklearn.cross_validation import train_test_split\n",
    "\n",
    "from utils import effectiveDimension, factorize, gram, hiddenTargets"
   ]
  },
  {
   "cell_type": "markdown",
   "metadata": {},
   "source": [
    "## MNIST dataset"
   ]
  },
  {
   "cell_type": "code",
   "execution_count": 3,
   "metadata": {
    "collapsed": true
   },
   "outputs": [],
   "source": [
    "def parse_img(filename):\n",
    "    '''Parses mnist images in filename.'''\n",
    "    f = gzip.open(filename)\n",
    "    arr = np.frombuffer(f.read(), dtype=np.dtype('>u1'), offset=16)\n",
    "    arr = arr.astype(np.int64)\n",
    "    f.close()\n",
    "    return arr.reshape((-1, 28*28))\n",
    "\n",
    "def parse_label(filename):\n",
    "    '''Parses mnist labels in filename.'''\n",
    "    f = gzip.open(filename)\n",
    "    arr = np.frombuffer(f.read(), dtype=np.dtype('>u1'), offset=8)\n",
    "    f.close()\n",
    "    return arr"
   ]
  },
  {
   "cell_type": "code",
   "execution_count": 4,
   "metadata": {
    "collapsed": false
   },
   "outputs": [
    {
     "name": "stdout",
     "output_type": "stream",
     "text": [
      "(60000, 784) int64\n",
      "(60000,) uint8\n"
     ]
    }
   ],
   "source": [
    "X_data = parse_img('mnist data/train-images-idx3-ubyte.gz')\n",
    "y_data = parse_label('mnist data/train-labels-idx1-ubyte.gz')\n",
    "print(X_data.shape, X_data.dtype)\n",
    "print(y_data.shape, y_data.dtype)"
   ]
  },
  {
   "cell_type": "code",
   "execution_count": 5,
   "metadata": {
    "collapsed": false
   },
   "outputs": [
    {
     "data": {
      "image/png": "[encoded data removed]",
      "text/plain": [
       "<matplotlib.figure.Figure at 0x10c884860>"
      ]
     },
     "metadata": {},
     "output_type": "display_data"
    }
   ],
   "source": [
    "def plot_img(x):\n",
    "    plt.figure(figsize=(3, 3))\n",
    "    plt.imshow(x.reshape((28, 28)), cmap=plt.cm.gray_r)\n",
    "    plt.grid(False)\n",
    "    plt.tick_params(labelbottom=False, labelleft=False)\n",
    "\n",
    "plot_img(X_data[np.random.randint(0, len(X_data))])"
   ]
  },
  {
   "cell_type": "code",
   "execution_count": 6,
   "metadata": {
    "collapsed": false
   },
   "outputs": [
    {
     "name": "stdout",
     "output_type": "stream",
     "text": [
      "(6131, 784)\n",
      "(5851, 784)\n",
      "\n",
      "(11982, 784)\n",
      "(11982,)\n",
      "\n",
      "(5000, 784)\n",
      "(5000,)\n",
      "(6982, 784)\n",
      "(6982,)\n"
     ]
    }
   ],
   "source": [
    "# We'll use the 3s and 8s.\n",
    "X3 = X_data[y_data == 3]\n",
    "X8 = X_data[y_data == 8]\n",
    "print(X3.shape)\n",
    "print(X8.shape)\n",
    "print()\n",
    "\n",
    "X = np.vstack([X3, X8])\n",
    "y = np.concatenate([[0] * len(X3), [1] * len(X8)])\n",
    "print(X.shape)\n",
    "print(y.shape)\n",
    "print()\n",
    "\n",
    "\n",
    "X_train, X_test, y_train, y_test = train_test_split(X, y, train_size=5000)\n",
    "print(X_train.shape)\n",
    "print(y_train.shape)\n",
    "print(X_test.shape)\n",
    "print(y_test.shape)"
   ]
  },
  {
   "cell_type": "code",
   "execution_count": 29,
   "metadata": {
    "collapsed": false
   },
   "outputs": [
    {
     "name": "stdout",
     "output_type": "stream",
     "text": [
      "CPU times: user 727 ms, sys: 16.5 ms, total: 744 ms\n",
      "Wall time: 736 ms\n"
     ]
    }
   ],
   "source": [
    "%%time\n",
    "test = gram(X_train)"
   ]
  },
  {
   "cell_type": "code",
   "execution_count": 30,
   "metadata": {
    "collapsed": false
   },
   "outputs": [
    {
     "name": "stdout",
     "output_type": "stream",
     "text": [
      "CPU times: user 481 ms, sys: 44 ms, total: 525 ms\n",
      "Wall time: 384 ms\n"
     ]
    }
   ],
   "source": [
    "%%time\n",
    "r = scp.linalg.eigh(test)"
   ]
  },
  {
   "cell_type": "code",
   "execution_count": 8,
   "metadata": {
    "collapsed": false
   },
   "outputs": [
    {
     "name": "stdout",
     "output_type": "stream",
     "text": [
      "Label of sample image is 1\n"
     ]
    },
    {
     "data": {
      "image/png": "[encoded data removed]",
      "text/plain": [
       "<matplotlib.figure.Figure at 0x10a93e7b8>"
      ]
     },
     "metadata": {},
     "output_type": "display_data"
    }
   ],
   "source": [
    "# Sanity check.\n",
    "sampleImgIdx = np.random.randint(0, len(X_train))\n",
    "sampleImg = X_train[sampleImgIdx]\n",
    "sampleLabel = y_train[sampleImgIdx]\n",
    "print('Label of sample image is ' + str(sampleLabel))\n",
    "plot_img(sampleImg)"
   ]
  },
  {
   "cell_type": "markdown",
   "metadata": {},
   "source": [
    "## Next steps\n",
    "1. Plot eigenvalues as a function of i where i is the ith largest eigenvalue. Do for different $\\alpha \\in [0, 1]$\n",
    "1. Plot $d_{95}$ (effective dimension) as a function of $\\alpha$.\n",
    "1. Logistic (or SVM) error as a function of $\\alpha$. (note hidden targest are input an label targets). \n",
    "\n",
    "Question:\n",
    "Throw away eigenvalues below some threshold. Not the same as $d_{95}$"
   ]
  },
  {
   "cell_type": "code",
   "execution_count": 49,
   "metadata": {
    "collapsed": false
   },
   "outputs": [
    {
     "data": {
      "text/plain": [
       "<AsyncResult: scatter>"
      ]
     },
     "execution_count": 49,
     "metadata": {},
     "output_type": "execute_result"
    }
   ],
   "source": [
    "XG = gram(X_train)\n",
    "YG = gram(y_train[:, np.newaxis])"
   ]
  },
  {
   "cell_type": "code",
   "execution_count": 210,
   "metadata": {
    "collapsed": false
   },
   "outputs": [
    {
     "data": {
      "text/plain": [
       "True"
      ]
     },
     "execution_count": 210,
     "metadata": {},
     "output_type": "execute_result"
    }
   ],
   "source": [
    "alpha = 0\n",
    "H, eigvals = hiddenTargets(XG, YG, alpha)\n",
    "np.allclose(H.dot(H.T), alpha * XG + (1 - alpha) * YG)"
   ]
  },
  {
   "cell_type": "code",
   "execution_count": 56,
   "metadata": {
    "collapsed": true
   },
   "outputs": [
    {
     "ename": "AttributeError",
     "evalue": "'list' object has no attribute 'sum'",
     "output_type": "error",
     "traceback": [
      "\u001b[0;31m---------------------------------------------------------------------------\u001b[0m",
      "\u001b[0;31mAttributeError\u001b[0m                            Traceback (most recent call last)",
      "\u001b[0;32m<ipython-input-56-3ef04f28f6da>\u001b[0m in \u001b[0;36m<module>\u001b[0;34m()\u001b[0m\n\u001b[0;32m----> 1\u001b[0;31m \u001b[0meffectiveDimension\u001b[0m\u001b[0;34m(\u001b[0m\u001b[0meigvals\u001b[0m\u001b[0;34m)\u001b[0m\u001b[0;34m\u001b[0m\u001b[0m\n\u001b[0m",
      "\u001b[0;32m/Users/kristjanjonsson/Development/Deep-Hidden-Layer-Learning/utils.py\u001b[0m in \u001b[0;36meffectiveDimension\u001b[0;34m(eigvals, p)\u001b[0m\n\u001b[1;32m     35\u001b[0m         \u001b[0mThe\u001b[0m \u001b[0msmallest\u001b[0m \u001b[0md\u001b[0m \u001b[0msuch\u001b[0m \u001b[0mthat\u001b[0m \u001b[0meigvals\u001b[0m\u001b[0;34m[\u001b[0m\u001b[0;34m:\u001b[0m\u001b[0md\u001b[0m\u001b[0;34m]\u001b[0m\u001b[0;34m.\u001b[0m\u001b[0msum\u001b[0m\u001b[0;34m(\u001b[0m\u001b[0;34m)\u001b[0m \u001b[0;34m/\u001b[0m \u001b[0meigvals\u001b[0m\u001b[0;34m.\u001b[0m\u001b[0msum\u001b[0m\u001b[0;34m(\u001b[0m\u001b[0;34m)\u001b[0m \u001b[0;34m>\u001b[0m \u001b[0;36m0.95\u001b[0m\u001b[0;34m.\u001b[0m\u001b[0;34m\u001b[0m\u001b[0m\n\u001b[1;32m     36\u001b[0m     '''\n\u001b[0;32m---> 37\u001b[0;31m     \u001b[0mtotal\u001b[0m \u001b[0;34m=\u001b[0m \u001b[0meigvals\u001b[0m\u001b[0;34m.\u001b[0m\u001b[0msum\u001b[0m\u001b[0;34m(\u001b[0m\u001b[0;34m)\u001b[0m\u001b[0;34m\u001b[0m\u001b[0m\n\u001b[0m\u001b[1;32m     38\u001b[0m     \u001b[0mpercents\u001b[0m \u001b[0;34m=\u001b[0m \u001b[0meigvals\u001b[0m\u001b[0;34m.\u001b[0m\u001b[0mcumsum\u001b[0m\u001b[0;34m(\u001b[0m\u001b[0;34m)\u001b[0m \u001b[0;34m/\u001b[0m \u001b[0mtotal\u001b[0m\u001b[0;34m\u001b[0m\u001b[0m\n\u001b[1;32m     39\u001b[0m     \u001b[0;32mfor\u001b[0m \u001b[0mi\u001b[0m\u001b[0;34m,\u001b[0m \u001b[0mpct\u001b[0m \u001b[0;32min\u001b[0m \u001b[0menumerate\u001b[0m\u001b[0;34m(\u001b[0m\u001b[0mpercents\u001b[0m\u001b[0;34m)\u001b[0m\u001b[0;34m:\u001b[0m\u001b[0;34m\u001b[0m\u001b[0m\n",
      "\u001b[0;31mAttributeError\u001b[0m: 'list' object has no attribute 'sum'"
     ]
    }
   ],
   "source": [
    "effectiveDimension(eigvals)"
   ]
  },
  {
   "cell_type": "code",
   "execution_count": 174,
   "metadata": {
    "collapsed": false
   },
   "outputs": [
    {
     "data": {
      "image/png": "[encoded data removed]",
      "text/plain": [
       "<matplotlib.figure.Figure at 0x12919fb70>"
      ]
     },
     "metadata": {},
     "output_type": "display_data"
    }
   ],
   "source": [
    "plt.plot(eigvals.cumsum() / eigvals.sum())\n",
    "plt.xlim((0, 300));"
   ]
  },
  {
   "cell_type": "code",
   "execution_count": 35,
   "metadata": {
    "collapsed": false
   },
   "outputs": [
    {
     "name": "stdout",
     "output_type": "stream",
     "text": [
      "alpha_000_H.npy        alpha_035_H.npy        alpha_070_H.npy\r\n",
      "alpha_000_eigvals.npy  alpha_035_eigvals.npy  alpha_070_eigvals.npy\r\n",
      "alpha_005_H.npy        alpha_040_H.npy        alpha_075_H.npy\r\n",
      "alpha_005_eigvals.npy  alpha_040_eigvals.npy  alpha_075_eigvals.npy\r\n",
      "alpha_010_H.npy        alpha_045_H.npy        alpha_080_H.npy\r\n",
      "alpha_010_eigvals.npy  alpha_045_eigvals.npy  alpha_080_eigvals.npy\r\n",
      "alpha_015_H.npy        alpha_050_H.npy        alpha_085_H.npy\r\n",
      "alpha_015_eigvals.npy  alpha_050_eigvals.npy  alpha_085_eigvals.npy\r\n",
      "alpha_020_H.npy        alpha_055_H.npy        alpha_090_H.npy\r\n",
      "alpha_020_eigvals.npy  alpha_055_eigvals.npy  alpha_090_eigvals.npy\r\n",
      "alpha_025_H.npy        alpha_060_H.npy        alpha_095_H.npy\r\n",
      "alpha_025_eigvals.npy  alpha_060_eigvals.npy  alpha_095_eigvals.npy\r\n",
      "alpha_030_H.npy        alpha_065_H.npy        alpha_100_H.npy\r\n",
      "alpha_030_eigvals.npy  alpha_065_eigvals.npy  alpha_100_eigvals.npy\r\n"
     ]
    }
   ],
   "source": [
    "ls data/1454912595"
   ]
  },
  {
   "cell_type": "markdown",
   "metadata": {},
   "source": [
    "## IO function\n",
    "To help with saving and loading experiments."
   ]
  },
  {
   "cell_type": "code",
   "execution_count": 14,
   "metadata": {
    "collapsed": false
   },
   "outputs": [],
   "source": [
    "from time import time\n",
    "import os\n",
    "from os.path import isdir, join\n",
    "from glob import fnmatch\n",
    "\n",
    "def filePrefix(alpha):\n",
    "    '''x is a float.'''\n",
    "    s = str(alpha)\n",
    "    prefix = s[0] + s[2:4]\n",
    "    return 'alpha_' + (prefix if len(prefix) == 3 else prefix + '0') + '_'\n",
    "\n",
    "\n",
    "def createSaveDirectory():\n",
    "    '''Creates a unique directory in data/ based on timestamp.'''\n",
    "    directoryName = str(int(time()))\n",
    "    path = join('data', directoryName)\n",
    "    !mkdir $path\n",
    "    assert isdir(path), 'Directory does not exist\\n{0}'.format(path)\n",
    "    return path\n",
    "\n",
    "    \n",
    "def save(arr, alpha, path, which): \n",
    "    '''\n",
    "    arr: The numpy array to save.\n",
    "    alpha: The alpha associated with this calculation. See above definition.\n",
    "    path: the directory to store the data.\n",
    "    which: either \"eigvals\" or \"H\".\n",
    "    \n",
    "    returns an iterator of stored eigvals or H.\n",
    "    '''\n",
    "    fname = join(path, filePrefix(alpha) + which)\n",
    "    np.save(fname, arr)\n",
    "    print('Saved: ' + fname)\n",
    "  \n",
    "\n",
    "def load(path, which):\n",
    "    '''\n",
    "    path: the directory of the data.\n",
    "    which: either \"eigvals\" or \"H\".\n",
    "    \n",
    "    returns an iterator of stored eigvals or H.\n",
    "    '''\n",
    "    fnames = fnmatch.filter(os.listdir(path), '*{0}*'.format(which))\n",
    "    for fname in sorted(fnames):\n",
    "        fullPath = join(path, fname)\n",
    "        print('Loading: {0}'.format(fullPath))\n",
    "        yield np.load(fullPath)\n",
    "        \n"
   ]
  },
  {
   "cell_type": "code",
   "execution_count": 8,
   "metadata": {
    "collapsed": false
   },
   "outputs": [
    {
     "name": "stdout",
     "output_type": "stream",
     "text": [
      "Saved: data/1454912595/alpha_000_H\n",
      "Saved: data/1454912595/alpha_000_eigvals\n",
      "Saved: data/1454912595/alpha_005_H\n",
      "Saved: data/1454912595/alpha_005_eigvals\n",
      "Saved: data/1454912595/alpha_010_H\n",
      "Saved: data/1454912595/alpha_010_eigvals\n",
      "Saved: data/1454912595/alpha_015_H\n",
      "Saved: data/1454912595/alpha_015_eigvals\n",
      "Saved: data/1454912595/alpha_020_H\n",
      "Saved: data/1454912595/alpha_020_eigvals\n",
      "Saved: data/1454912595/alpha_025_H\n",
      "Saved: data/1454912595/alpha_025_eigvals\n",
      "Saved: data/1454912595/alpha_030_H\n",
      "Saved: data/1454912595/alpha_030_eigvals\n",
      "Saved: data/1454912595/alpha_035_H\n",
      "Saved: data/1454912595/alpha_035_eigvals\n",
      "Saved: data/1454912595/alpha_040_H\n",
      "Saved: data/1454912595/alpha_040_eigvals\n",
      "Saved: data/1454912595/alpha_045_H\n",
      "Saved: data/1454912595/alpha_045_eigvals\n",
      "Saved: data/1454912595/alpha_050_H\n",
      "Saved: data/1454912595/alpha_050_eigvals\n",
      "Saved: data/1454912595/alpha_055_H\n",
      "Saved: data/1454912595/alpha_055_eigvals\n",
      "Saved: data/1454912595/alpha_060_H\n",
      "Saved: data/1454912595/alpha_060_eigvals\n",
      "Saved: data/1454912595/alpha_065_H\n",
      "Saved: data/1454912595/alpha_065_eigvals\n",
      "Saved: data/1454912595/alpha_070_H\n",
      "Saved: data/1454912595/alpha_070_eigvals\n",
      "Saved: data/1454912595/alpha_075_H\n",
      "Saved: data/1454912595/alpha_075_eigvals\n",
      "Saved: data/1454912595/alpha_080_H\n",
      "Saved: data/1454912595/alpha_080_eigvals\n",
      "Saved: data/1454912595/alpha_085_H\n",
      "Saved: data/1454912595/alpha_085_eigvals\n",
      "Saved: data/1454912595/alpha_090_H\n",
      "Saved: data/1454912595/alpha_090_eigvals\n",
      "Saved: data/1454912595/alpha_095_H\n",
      "Saved: data/1454912595/alpha_095_eigvals\n",
      "Saved: data/1454912595/alpha_100_H\n",
      "Saved: data/1454912595/alpha_100_eigvals\n"
     ]
    }
   ],
   "source": [
    "def computeHiddenTargets(alphas, X, y):\n",
    "    XG = gram(X)\n",
    "    YG = gram(y[:, np.newaxis])\n",
    "\n",
    "    path = createSaveDirectory()\n",
    "    print('Saving results in dir: ' + path)\n",
    "    for alpha in alphas:\n",
    "        H, eigvals = hiddenTargets(XG, YG, alpha)\n",
    "        save(H, alpha, path, 'H')\n",
    "        save(eigvals, alpha, path, 'eigvals')\n",
    "        \n",
    "computeHiddenTargets(X_train, y_train, np.arange(0, 1.05, 0.05))"
   ]
  },
  {
   "cell_type": "code",
   "execution_count": 9,
   "metadata": {
    "collapsed": false
   },
   "outputs": [
    {
     "name": "stdout",
     "output_type": "stream",
     "text": [
      "\u001b[1m\u001b[36m1454912595\u001b[m\u001b[m/\r\n"
     ]
    }
   ],
   "source": [
    "ls data"
   ]
  },
  {
   "cell_type": "code",
   "execution_count": 76,
   "metadata": {
    "collapsed": false
   },
   "outputs": [
    {
     "name": "stdout",
     "output_type": "stream",
     "text": [
      "rm: data/*: No such file or directory\r\n"
     ]
    }
   ],
   "source": [
    "# Careful!!\n",
    "# !rm -r data/*"
   ]
  },
  {
   "cell_type": "code",
   "execution_count": 10,
   "metadata": {
    "collapsed": false
   },
   "outputs": [],
   "source": [
    "eigvals = load('data/1454912595/', which='eigvals')"
   ]
  },
  {
   "cell_type": "code",
   "execution_count": 17,
   "metadata": {
    "collapsed": false
   },
   "outputs": [
    {
     "data": {
      "text/plain": [
       "(20,)"
      ]
     },
     "execution_count": 17,
     "metadata": {},
     "output_type": "execute_result"
    }
   ],
   "source": [
    "alphas.shape"
   ]
  },
  {
   "cell_type": "code",
   "execution_count": 37,
   "metadata": {
    "collapsed": false
   },
   "outputs": [
    {
     "name": "stdout",
     "output_type": "stream",
     "text": [
      "Loading: data/1454912595/alpha_000_eigvals.npy\n",
      "Loading: data/1454912595/alpha_005_eigvals.npy\n",
      "Loading: data/1454912595/alpha_010_eigvals.npy\n",
      "Loading: data/1454912595/alpha_015_eigvals.npy\n",
      "Loading: data/1454912595/alpha_020_eigvals.npy\n",
      "Loading: data/1454912595/alpha_025_eigvals.npy\n",
      "Loading: data/1454912595/alpha_030_eigvals.npy\n",
      "Loading: data/1454912595/alpha_035_eigvals.npy\n",
      "Loading: data/1454912595/alpha_040_eigvals.npy\n",
      "Loading: data/1454912595/alpha_045_eigvals.npy\n",
      "Loading: data/1454912595/alpha_050_eigvals.npy\n",
      "Loading: data/1454912595/alpha_055_eigvals.npy\n",
      "Loading: data/1454912595/alpha_060_eigvals.npy\n",
      "Loading: data/1454912595/alpha_065_eigvals.npy\n",
      "Loading: data/1454912595/alpha_070_eigvals.npy\n",
      "Loading: data/1454912595/alpha_075_eigvals.npy\n",
      "Loading: data/1454912595/alpha_080_eigvals.npy\n",
      "Loading: data/1454912595/alpha_085_eigvals.npy\n",
      "Loading: data/1454912595/alpha_090_eigvals.npy\n",
      "Loading: data/1454912595/alpha_095_eigvals.npy\n",
      "Loading: data/1454912595/alpha_100_eigvals.npy\n"
     ]
    },
    {
     "data": {
      "text/plain": [
       "[<matplotlib.lines.Line2D at 0x131260748>]"
      ]
     },
     "execution_count": 37,
     "metadata": {},
     "output_type": "execute_result"
    },
    {
     "data": {
      "image/png": "[encoded data removed]",
      "text/plain": [
       "<matplotlib.figure.Figure at 0x1313f3898>"
      ]
     },
     "metadata": {},
     "output_type": "display_data"
    }
   ],
   "source": [
    "eigvals = load('data/1454912595/', which='eigvals')\n",
    "alphas = np.arange(0, 1.05, 0.05)\n",
    "p95 = np.array([effectiveDimension(eigval, p=0.95) for eigval in eigvals])\n",
    "plt.plot(alphas, p95)"
   ]
  },
  {
   "cell_type": "code",
   "execution_count": 19,
   "metadata": {
    "collapsed": false
   },
   "outputs": [
    {
     "name": "stdout",
     "output_type": "stream",
     "text": [
      "Loading: data/1454912595/alpha_000_eigvals.npy\n",
      "Loading: data/1454912595/alpha_005_eigvals.npy\n",
      "Loading: data/1454912595/alpha_010_eigvals.npy\n",
      "Loading: data/1454912595/alpha_015_eigvals.npy\n",
      "Loading: data/1454912595/alpha_020_eigvals.npy\n",
      "Loading: data/1454912595/alpha_025_eigvals.npy\n",
      "Loading: data/1454912595/alpha_030_eigvals.npy\n",
      "Loading: data/1454912595/alpha_035_eigvals.npy\n",
      "Loading: data/1454912595/alpha_040_eigvals.npy\n",
      "Loading: data/1454912595/alpha_045_eigvals.npy\n",
      "Loading: data/1454912595/alpha_050_eigvals.npy\n",
      "Loading: data/1454912595/alpha_055_eigvals.npy\n",
      "Loading: data/1454912595/alpha_060_eigvals.npy\n",
      "Loading: data/1454912595/alpha_065_eigvals.npy\n",
      "Loading: data/1454912595/alpha_070_eigvals.npy\n",
      "Loading: data/1454912595/alpha_075_eigvals.npy\n",
      "Loading: data/1454912595/alpha_080_eigvals.npy\n",
      "Loading: data/1454912595/alpha_085_eigvals.npy\n",
      "Loading: data/1454912595/alpha_090_eigvals.npy\n",
      "Loading: data/1454912595/alpha_095_eigvals.npy\n",
      "Loading: data/1454912595/alpha_100_eigvals.npy\n"
     ]
    },
    {
     "data": {
      "image/png": "[encoded data removed]",
      "text/plain": [
       "<matplotlib.figure.Figure at 0x1311f7ef0>"
      ]
     },
     "metadata": {},
     "output_type": "display_data"
    }
   ],
   "source": [
    "plt.hold(True)\n",
    "for eigvals in load('data/1454912595/', which='eigvals'):\n",
    "    plt.plot(eigvals[:20])\n",
    "    \n",
    "plt.hold(False)"
   ]
  },
  {
   "cell_type": "code",
   "execution_count": 20,
   "metadata": {
    "collapsed": false
   },
   "outputs": [
    {
     "name": "stdout",
     "output_type": "stream",
     "text": [
      "Loading: data/1454912595/alpha_000_eigvals.npy\n",
      "Loading: data/1454912595/alpha_005_eigvals.npy\n",
      "Loading: data/1454912595/alpha_010_eigvals.npy\n",
      "Loading: data/1454912595/alpha_015_eigvals.npy\n",
      "Loading: data/1454912595/alpha_020_eigvals.npy\n",
      "Loading: data/1454912595/alpha_025_eigvals.npy\n",
      "Loading: data/1454912595/alpha_030_eigvals.npy\n",
      "Loading: data/1454912595/alpha_035_eigvals.npy\n",
      "Loading: data/1454912595/alpha_040_eigvals.npy\n",
      "Loading: data/1454912595/alpha_045_eigvals.npy\n",
      "Loading: data/1454912595/alpha_050_eigvals.npy\n",
      "Loading: data/1454912595/alpha_055_eigvals.npy\n",
      "Loading: data/1454912595/alpha_060_eigvals.npy\n",
      "Loading: data/1454912595/alpha_065_eigvals.npy\n",
      "Loading: data/1454912595/alpha_070_eigvals.npy\n",
      "Loading: data/1454912595/alpha_075_eigvals.npy\n",
      "Loading: data/1454912595/alpha_080_eigvals.npy\n",
      "Loading: data/1454912595/alpha_085_eigvals.npy\n",
      "Loading: data/1454912595/alpha_090_eigvals.npy\n",
      "Loading: data/1454912595/alpha_095_eigvals.npy\n",
      "Loading: data/1454912595/alpha_100_eigvals.npy\n"
     ]
    },
    {
     "data": {
      "image/png": "[encoded data removed]",
      "text/plain": [
       "<matplotlib.figure.Figure at 0x131403d30>"
      ]
     },
     "metadata": {},
     "output_type": "display_data"
    }
   ],
   "source": [
    "plt.xlim(0, 10)\n",
    "plt.hold(True)\n",
    "for eigvals in load('data/1454912595/', which='eigvals'):\n",
    "    plt.plot(eigvals / eigvals.sum())\n",
    "plt.hold(False);"
   ]
  },
  {
   "cell_type": "code",
   "execution_count": 23,
   "metadata": {
    "collapsed": true
   },
   "outputs": [],
   "source": [
    "import sklearn\n",
    "from sklearn.linear_model import LogisticRegression"
   ]
  },
  {
   "cell_type": "code",
   "execution_count": 36,
   "metadata": {
    "collapsed": false
   },
   "outputs": [
    {
     "name": "stdout",
     "output_type": "stream",
     "text": [
      "Loading: data/1454912595/alpha_000_H.npy\n",
      "(11982, 6403)\n",
      "Loading: data/1454912595/alpha_005_H.npy\n",
      "(11982, 6620)\n",
      "Loading: data/1454912595/alpha_010_H.npy\n",
      "(11982, 5998)\n",
      "Loading: data/1454912595/alpha_015_H.npy\n",
      "(11982, 6770)\n",
      "Loading: data/1454912595/alpha_020_H.npy\n",
      "(11982, 6046)\n",
      "Loading: data/1454912595/alpha_025_H.npy\n",
      "(11982, 6269)\n",
      "Loading: data/1454912595/alpha_030_H.npy\n",
      "(11982, 6313)\n",
      "Loading: data/1454912595/alpha_035_H.npy\n",
      "(11982, 5666)\n",
      "Loading: data/1454912595/alpha_040_H.npy\n",
      "(11982, 6721)\n",
      "Loading: data/1454912595/alpha_045_H.npy\n",
      "(11982, 6334)\n",
      "Loading: data/1454912595/alpha_050_H.npy\n",
      "(11982, 6252)\n",
      "Loading: data/1454912595/alpha_055_H.npy\n",
      "(11982, 5966)\n",
      "Loading: data/1454912595/alpha_060_H.npy\n",
      "(11982, 6047)\n",
      "Loading: data/1454912595/alpha_065_H.npy\n",
      "(11982, 6336)\n",
      "Loading: data/1454912595/alpha_070_H.npy\n",
      "(11982, 6800)\n",
      "Loading: data/1454912595/alpha_075_H.npy\n",
      "(11982, 6423)\n",
      "Loading: data/1454912595/alpha_080_H.npy\n",
      "(11982, 6023)\n",
      "Loading: data/1454912595/alpha_085_H.npy\n",
      "(11982, 6721)\n",
      "Loading: data/1454912595/alpha_090_H.npy\n",
      "(11982, 5957)\n",
      "Loading: data/1454912595/alpha_095_H.npy\n",
      "(11982, 6080)\n",
      "Loading: data/1454912595/alpha_100_H.npy\n",
      "(11982, 2959)\n"
     ]
    }
   ],
   "source": [
    "acc_train = []\n",
    "for H in load('data/1454912595/', which='H'):\n",
    "    print(H.shape)\n",
    "    model = LogisticRegression(C=1e6)\n",
    "#     model.fit(H, y)\n",
    "#     acc_train.append((model.predict(H) == y).mean())"
   ]
  },
  {
   "cell_type": "code",
   "execution_count": 38,
   "metadata": {
    "collapsed": false
   },
   "outputs": [
    {
     "data": {
      "text/plain": [
       "(11982, 784)"
      ]
     },
     "execution_count": 38,
     "metadata": {},
     "output_type": "execute_result"
    }
   ],
   "source": [
    "import sklearn.linear_model.LogisticRegression"
   ]
  },
  {
   "cell_type": "markdown",
   "metadata": {},
   "source": [
    "Schedule Rob\n",
    "Mondays: Anytime\n",
    "Wednesdays: anytime. \n",
    "Thursdays: 12:30 - 1:45, 3:30 - 4:45\n",
    "Fridays: After surfing."
   ]
  }
 ],
 "metadata": {
  "kernelspec": {
   "display_name": "Python 3",
   "language": "python",
   "name": "python3"
  },
  "language_info": {
   "codemirror_mode": {
    "name": "ipython",
    "version": 3
   },
   "file_extension": ".py",
   "mimetype": "text/x-python",
   "name": "python",
   "nbconvert_exporter": "python",
   "pygments_lexer": "ipython3",
   "version": "3.5.0"
  }
 },
 "nbformat": 4,
 "nbformat_minor": 0
}
